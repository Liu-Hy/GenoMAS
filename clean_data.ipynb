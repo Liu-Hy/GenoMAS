{
 "cells": [
  {
   "cell_type": "code",
   "execution_count": 1,
   "metadata": {
    "collapsed": true,
    "ExecuteTime": {
     "end_time": "2024-05-08T02:36:10.298745225Z",
     "start_time": "2024-05-08T02:36:09.589837951Z"
    }
   },
   "outputs": [],
   "source": [
    "import os\n",
    "import pandas as pd\n",
    "import json\n",
    "from utils import normalize_trait, judge_and_remove_biased_features"
   ]
  },
  {
   "cell_type": "code",
   "execution_count": 2,
   "outputs": [],
   "source": [
    "source_root = \"/home/techt/AI4Science_gold_standard/data/preprocessed/gold\"\n",
    "dest_root = \"./gold_subset\""
   ],
   "metadata": {
    "collapsed": false,
    "ExecuteTime": {
     "end_time": "2024-05-08T02:36:10.301553006Z",
     "start_time": "2024-05-08T02:36:10.299876290Z"
    }
   }
  },
  {
   "cell_type": "markdown",
   "source": [
    "## check Xena data omission"
   ],
   "metadata": {
    "collapsed": false
   }
  },
  {
   "cell_type": "code",
   "execution_count": null,
   "outputs": [],
   "source": [
    "s_ls = []\n",
    "for t in os.listdir(dest_root):\n",
    "    s_path = os.path.join(source_root, t)\n",
    "    if not os.path.isdir(s_path):\n",
    "        f_ls = os.listdir(os.path.join(dest_root, t))\n",
    "        if len(f_ls) == 0 or (len(f_ls) == 1 and f_ls[0].endswith('.json')):\n",
    "            pass\n",
    "        else:\n",
    "            # print(f\"Strange. Dir {s_path} does not exist!\")\n",
    "            s_ls.append(t)\n",
    "    else:\n",
    "        for f in os.listdir(s_path):\n",
    "            if f.endswith('Xena.csv'):\n",
    "                source_fpath = os.path.join(s_path, f)\n",
    "                if os.path.isfile(os.path.join(dest_root, t, 'Xena.csv')):\n",
    "                    print(f\"{os.path.join(dest_root, t, 'Xena.csv')} exist corresponding to {source_fpath}\")\n",
    "                else:\n",
    "                    print(f\"No! {os.path.join(dest_root, t, 'Xena.csv')} not exist corresponding to {source_fpath}\")"
   ],
   "metadata": {
    "collapsed": false
   }
  },
  {
   "cell_type": "code",
   "execution_count": null,
   "outputs": [],
   "source": [
    "sorted(s_ls)"
   ],
   "metadata": {
    "collapsed": false
   }
  },
  {
   "cell_type": "markdown",
   "source": [
    "## Fix table abnormality\n",
    "delete table with missing genetic data, and unify trait name as header. Creat json files 'cohort_info.json'."
   ],
   "metadata": {
    "collapsed": false
   }
  },
  {
   "cell_type": "code",
   "execution_count": null,
   "outputs": [],
   "source": [
    "def org_normalize_trait(trait):\n",
    "    trait = '-'.join(trait.split())\n",
    "    normalized_trait = ''.join(trait.split(\"'\"))\n",
    "    return normalized_trait"
   ],
   "metadata": {
    "collapsed": false
   }
  },
  {
   "cell_type": "code",
   "execution_count": null,
   "outputs": [],
   "source": [
    "all_traits = pd.read_csv(\"all_traits.csv\")[\"Trait\"].tolist()\n",
    "all_nm_traits = [normalize_trait(at) for at in all_traits]\n",
    "all_org_nm_traits = [org_normalize_trait(at) for at in all_traits]"
   ],
   "metadata": {
    "collapsed": false
   }
  },
  {
   "cell_type": "code",
   "execution_count": null,
   "outputs": [],
   "source": [
    "sorted(all_nm_traits)"
   ],
   "metadata": {
    "collapsed": false
   }
  },
  {
   "cell_type": "code",
   "execution_count": null,
   "outputs": [],
   "source": [
    "len(set(all_nm_traits))"
   ],
   "metadata": {
    "collapsed": false
   }
  },
  {
   "cell_type": "code",
   "execution_count": null,
   "outputs": [],
   "source": [
    "sorted(all_org_nm_traits)"
   ],
   "metadata": {
    "collapsed": false
   }
  },
  {
   "cell_type": "code",
   "execution_count": null,
   "outputs": [],
   "source": [
    "# 检查路径和列名里的trait_name，进行normalize\n",
    "# 没有gene的table去掉\n",
    "# 创建或修改json文件"
   ],
   "metadata": {
    "collapsed": false
   }
  },
  {
   "cell_type": "code",
   "execution_count": null,
   "outputs": [],
   "source": [
    "for trait in os.listdir(dest_root):\n",
    "    if trait not in all_nm_traits:\n",
    "        if trait in all_org_nm_traits:\n",
    "            n_trait = all_nm_traits[all_org_nm_traits.index(trait)]\n",
    "            os.rename(os.path.join(dest_root, trait), os.path.join(dest_root, n_trait))\n",
    "            print(f\"'{trait}' trait has been newly normalized to {n_trait} in the dir name\")\n",
    "            trait = n_trait\n",
    "        else:\n",
    "            print(f\"!!!!!!!!!!!!!!!!!!'{trait}' strange trait\")\n",
    "            continue\n",
    "    trait_dir = os.path.join(dest_root, trait)\n",
    "    for fn in os.listdir(trait_dir):\n",
    "        fp = os.path.join(trait_dir, fn)\n",
    "        if fn.endswith(\".csv\") and (fn.startswith(\"GSE\") or fn.startswith(\"Xena\")):\n",
    "            df = pd.read_csv(fp)\n",
    "            if 'Unnamed: 0' in df.columns:\n",
    "                print(f\"REDUNDANT COLUMN in '{fp}'\")\n",
    "                df = df.drop(columns = ['Unnamed: 0'], errors=\"ignore\")\n",
    "            header = df.columns[0]\n",
    "            if header not in all_nm_traits:\n",
    "                if header in all_traits:\n",
    "                    nm_trait = all_nm_traits[all_traits.index(header)]\n",
    "                    print(f\"The header {header} should be replaced by {nm_trait} in '{fn}'\")\n",
    "                    df.columns = [nm_trait] + df.columns[1:].tolist()\n",
    "                    df.to_csv(fp, index=False)\n",
    "                    print('This cohort updated')\n",
    "                else:\n",
    "                    print(f\"Strange header {header}\")\n",
    "            # elif header == \"Lupus-(Systemic-Lupus-Erythematosus\":\n",
    "            #     df.columns = [\"Lupus (Systemic Lupus Erythematosus)\"] + df.columns[1:].tolist()\n",
    "            #     df.to_csv(fp, index=False)\n",
    "            #     print(\"The cohort for 'Lupus' updated\")\n",
    "\n",
    "            if len(df.columns) <= 4:\n",
    "                print(f\"NO GENE DATA in '{fp}'\")\n",
    "                os.remove(fp)\n",
    "                print(\"File removed successfully\")\n"
   ],
   "metadata": {
    "collapsed": false
   }
  },
  {
   "cell_type": "code",
   "execution_count": null,
   "outputs": [],
   "source": [
    "dd = pd.read_csv(\"./trait_related_genes.csv\")\n",
    "for i in range(len(dd)):\n",
    "    tr = dd.iat[i, 1]\n",
    "    if tr in all_traits:\n",
    "        dd.iat[i, 1] = normalize_trait(tr)\n",
    "        print(f\"{tr} normalized to {dd.iat[i, 1]}\")\n",
    "    else:\n",
    "        assert tr in ['Age', 'Gender']"
   ],
   "metadata": {
    "collapsed": false
   }
  },
  {
   "cell_type": "code",
   "execution_count": null,
   "outputs": [],
   "source": [],
   "metadata": {
    "collapsed": false
   }
  },
  {
   "cell_type": "code",
   "execution_count": null,
   "outputs": [],
   "source": [
    "dd = pd.read_csv(\"./trait_related_genes.csv\")\n",
    "for i in range(len(dd)):\n",
    "    g = dd.iat[i, 2]\n",
    "    print(g)"
   ],
   "metadata": {
    "collapsed": false
   }
  },
  {
   "cell_type": "code",
   "execution_count": null,
   "outputs": [],
   "source": [
    "dd.to_csv(\"./trait_related_genes.csv\", index=False)"
   ],
   "metadata": {
    "collapsed": false
   }
  },
  {
   "cell_type": "code",
   "execution_count": null,
   "outputs": [],
   "source": [
    "import pandas as pd"
   ],
   "metadata": {
    "collapsed": false
   }
  },
  {
   "cell_type": "code",
   "execution_count": 3,
   "outputs": [],
   "source": [
    "de = pd.read_csv(\"./trait_condition_pairs.csv\")\n",
    "for i in range(len(de)):\n",
    "    w = de.iat[i, 1]\n",
    "    z = de.iat[i, 2]\n",
    "    de.iat[i, 1] = normalize_trait(w)\n",
    "    de.iat[i, 2] = normalize_trait(z)"
   ],
   "metadata": {
    "collapsed": false,
    "ExecuteTime": {
     "end_time": "2024-05-08T02:37:25.162783906Z",
     "start_time": "2024-05-08T02:37:25.116723506Z"
    }
   }
  },
  {
   "cell_type": "code",
   "execution_count": 4,
   "outputs": [
    {
     "data": {
      "text/plain": "     Unnamed: 0                          Trait          Condition       IoU\n0             0                    Lung_Cancer                Age  0.348796\n1             2              Pancreatic_Cancer      Endometriosis  0.290725\n2             3                  Endometriosis  Pancreatic_Cancer  0.290725\n3             4                  Breast_Cancer      Endometriosis  0.287714\n4             5                  Endometriosis      Breast_Cancer  0.287714\n..          ...                            ...                ...       ...\n995        3764  Multiple_Chemical_Sensitivity                Age  0.000000\n996        3770  Multiple_Chemical_Sensitivity       Hypertension  0.000000\n997        3783                       Aniridia   Anxiety_disorder  0.000000\n998        3790                Prostate_Cancer   Anxiety_disorder  0.000000\n999        3868                       Aniridia            Obesity  0.000000\n\n[1000 rows x 4 columns]",
      "text/html": "<div>\n<style scoped>\n    .dataframe tbody tr th:only-of-type {\n        vertical-align: middle;\n    }\n\n    .dataframe tbody tr th {\n        vertical-align: top;\n    }\n\n    .dataframe thead th {\n        text-align: right;\n    }\n</style>\n<table border=\"1\" class=\"dataframe\">\n  <thead>\n    <tr style=\"text-align: right;\">\n      <th></th>\n      <th>Unnamed: 0</th>\n      <th>Trait</th>\n      <th>Condition</th>\n      <th>IoU</th>\n    </tr>\n  </thead>\n  <tbody>\n    <tr>\n      <th>0</th>\n      <td>0</td>\n      <td>Lung_Cancer</td>\n      <td>Age</td>\n      <td>0.348796</td>\n    </tr>\n    <tr>\n      <th>1</th>\n      <td>2</td>\n      <td>Pancreatic_Cancer</td>\n      <td>Endometriosis</td>\n      <td>0.290725</td>\n    </tr>\n    <tr>\n      <th>2</th>\n      <td>3</td>\n      <td>Endometriosis</td>\n      <td>Pancreatic_Cancer</td>\n      <td>0.290725</td>\n    </tr>\n    <tr>\n      <th>3</th>\n      <td>4</td>\n      <td>Breast_Cancer</td>\n      <td>Endometriosis</td>\n      <td>0.287714</td>\n    </tr>\n    <tr>\n      <th>4</th>\n      <td>5</td>\n      <td>Endometriosis</td>\n      <td>Breast_Cancer</td>\n      <td>0.287714</td>\n    </tr>\n    <tr>\n      <th>...</th>\n      <td>...</td>\n      <td>...</td>\n      <td>...</td>\n      <td>...</td>\n    </tr>\n    <tr>\n      <th>995</th>\n      <td>3764</td>\n      <td>Multiple_Chemical_Sensitivity</td>\n      <td>Age</td>\n      <td>0.000000</td>\n    </tr>\n    <tr>\n      <th>996</th>\n      <td>3770</td>\n      <td>Multiple_Chemical_Sensitivity</td>\n      <td>Hypertension</td>\n      <td>0.000000</td>\n    </tr>\n    <tr>\n      <th>997</th>\n      <td>3783</td>\n      <td>Aniridia</td>\n      <td>Anxiety_disorder</td>\n      <td>0.000000</td>\n    </tr>\n    <tr>\n      <th>998</th>\n      <td>3790</td>\n      <td>Prostate_Cancer</td>\n      <td>Anxiety_disorder</td>\n      <td>0.000000</td>\n    </tr>\n    <tr>\n      <th>999</th>\n      <td>3868</td>\n      <td>Aniridia</td>\n      <td>Obesity</td>\n      <td>0.000000</td>\n    </tr>\n  </tbody>\n</table>\n<p>1000 rows × 4 columns</p>\n</div>"
     },
     "execution_count": 4,
     "metadata": {},
     "output_type": "execute_result"
    }
   ],
   "source": [
    "de"
   ],
   "metadata": {
    "collapsed": false,
    "ExecuteTime": {
     "end_time": "2024-05-08T02:37:28.301728284Z",
     "start_time": "2024-05-08T02:37:28.281872019Z"
    }
   }
  },
  {
   "cell_type": "code",
   "execution_count": 6,
   "outputs": [
    {
     "data": {
      "text/plain": "     Unnamed: 0                          Trait          Condition       IoU\n0             0                    Lung_Cancer                Age  0.348796\n1             2              Pancreatic_Cancer      Endometriosis  0.290725\n2             3                  Endometriosis  Pancreatic_Cancer  0.290725\n3             4                  Breast_Cancer      Endometriosis  0.287714\n4             5                  Endometriosis      Breast_Cancer  0.287714\n..          ...                            ...                ...       ...\n995        3764  Multiple_Chemical_Sensitivity                Age  0.000000\n996        3770  Multiple_Chemical_Sensitivity       Hypertension  0.000000\n997        3783                       Aniridia   Anxiety_disorder  0.000000\n998        3790                Prostate_Cancer   Anxiety_disorder  0.000000\n999        3868                       Aniridia            Obesity  0.000000\n\n[1000 rows x 4 columns]",
      "text/html": "<div>\n<style scoped>\n    .dataframe tbody tr th:only-of-type {\n        vertical-align: middle;\n    }\n\n    .dataframe tbody tr th {\n        vertical-align: top;\n    }\n\n    .dataframe thead th {\n        text-align: right;\n    }\n</style>\n<table border=\"1\" class=\"dataframe\">\n  <thead>\n    <tr style=\"text-align: right;\">\n      <th></th>\n      <th>Unnamed: 0</th>\n      <th>Trait</th>\n      <th>Condition</th>\n      <th>IoU</th>\n    </tr>\n  </thead>\n  <tbody>\n    <tr>\n      <th>0</th>\n      <td>0</td>\n      <td>Lung_Cancer</td>\n      <td>Age</td>\n      <td>0.348796</td>\n    </tr>\n    <tr>\n      <th>1</th>\n      <td>2</td>\n      <td>Pancreatic_Cancer</td>\n      <td>Endometriosis</td>\n      <td>0.290725</td>\n    </tr>\n    <tr>\n      <th>2</th>\n      <td>3</td>\n      <td>Endometriosis</td>\n      <td>Pancreatic_Cancer</td>\n      <td>0.290725</td>\n    </tr>\n    <tr>\n      <th>3</th>\n      <td>4</td>\n      <td>Breast_Cancer</td>\n      <td>Endometriosis</td>\n      <td>0.287714</td>\n    </tr>\n    <tr>\n      <th>4</th>\n      <td>5</td>\n      <td>Endometriosis</td>\n      <td>Breast_Cancer</td>\n      <td>0.287714</td>\n    </tr>\n    <tr>\n      <th>...</th>\n      <td>...</td>\n      <td>...</td>\n      <td>...</td>\n      <td>...</td>\n    </tr>\n    <tr>\n      <th>995</th>\n      <td>3764</td>\n      <td>Multiple_Chemical_Sensitivity</td>\n      <td>Age</td>\n      <td>0.000000</td>\n    </tr>\n    <tr>\n      <th>996</th>\n      <td>3770</td>\n      <td>Multiple_Chemical_Sensitivity</td>\n      <td>Hypertension</td>\n      <td>0.000000</td>\n    </tr>\n    <tr>\n      <th>997</th>\n      <td>3783</td>\n      <td>Aniridia</td>\n      <td>Anxiety_disorder</td>\n      <td>0.000000</td>\n    </tr>\n    <tr>\n      <th>998</th>\n      <td>3790</td>\n      <td>Prostate_Cancer</td>\n      <td>Anxiety_disorder</td>\n      <td>0.000000</td>\n    </tr>\n    <tr>\n      <th>999</th>\n      <td>3868</td>\n      <td>Aniridia</td>\n      <td>Obesity</td>\n      <td>0.000000</td>\n    </tr>\n  </tbody>\n</table>\n<p>1000 rows × 4 columns</p>\n</div>"
     },
     "execution_count": 6,
     "metadata": {},
     "output_type": "execute_result"
    }
   ],
   "source": [
    "de"
   ],
   "metadata": {
    "collapsed": false,
    "ExecuteTime": {
     "end_time": "2024-05-08T02:39:03.689966619Z",
     "start_time": "2024-05-08T02:39:03.677394410Z"
    }
   }
  },
  {
   "cell_type": "code",
   "execution_count": 7,
   "outputs": [],
   "source": [
    "de.to_csv(\"./trait_condition_pairs.csv\", index=False)"
   ],
   "metadata": {
    "collapsed": false,
    "ExecuteTime": {
     "end_time": "2024-05-08T02:39:45.743287595Z",
     "start_time": "2024-05-08T02:39:45.688443703Z"
    }
   }
  },
  {
   "cell_type": "code",
   "execution_count": 5,
   "outputs": [
    {
     "ename": "NameError",
     "evalue": "name 'dd' is not defined",
     "output_type": "error",
     "traceback": [
      "\u001B[0;31m---------------------------------------------------------------------------\u001B[0m",
      "\u001B[0;31mNameError\u001B[0m                                 Traceback (most recent call last)",
      "Cell \u001B[0;32mIn[5], line 1\u001B[0m\n\u001B[0;32m----> 1\u001B[0m \u001B[43mdd\u001B[49m\u001B[38;5;241m.\u001B[39mto_csv(\u001B[38;5;124m\"\u001B[39m\u001B[38;5;124m./trait_condition_pairs.csv\u001B[39m\u001B[38;5;124m\"\u001B[39m, index\u001B[38;5;241m=\u001B[39m\u001B[38;5;28;01mFalse\u001B[39;00m)\n",
      "\u001B[0;31mNameError\u001B[0m: name 'dd' is not defined"
     ]
    }
   ],
   "source": [
    "dd.to_csv(\"./trait_condition_pairs.csv\", index=False)"
   ],
   "metadata": {
    "collapsed": false,
    "ExecuteTime": {
     "end_time": "2024-05-08T02:38:55.484243477Z",
     "start_time": "2024-05-08T02:38:55.047338662Z"
    }
   }
  },
  {
   "cell_type": "code",
   "execution_count": null,
   "outputs": [],
   "source": [
    "de = pd.read_csv(\"./trait_condition_pairs.csv\")\n",
    "for i in range(len(de)):\n",
    "    tr = de.iat[i, 1]\n",
    "    if tr in all_traits:\n",
    "        dd.iat[i, 1] = normalize_trait(tr)\n",
    "        print(f\"{tr} normalized to {dd.iat[i, 1]}\")\n",
    "    else:\n",
    "        assert tr in ['Age', 'Gender']"
   ],
   "metadata": {
    "collapsed": false
   }
  },
  {
   "cell_type": "code",
   "execution_count": null,
   "outputs": [],
   "source": [
    "for trait in os.listdir(dest_root):\n",
    "    if trait != 'Lung-Cancer':\n",
    "        continue\n",
    "    else:\n",
    "        print(\"Haha lung cancer\")\n",
    "    if trait not in all_nm_traits:\n",
    "        if trait in all_traits:\n",
    "            print(f\"'{trait}' trait needs to be normalized \")\n",
    "        else:\n",
    "            print(f\"'{trait}' strange trait\")\n",
    "        continue\n",
    "    trait_dir = os.path.join(dest_root, trait)\n",
    "    meta = dict()\n",
    "    for fn in os.listdir(trait_dir):\n",
    "        fp = os.path.join(trait_dir, fn)\n",
    "        if fn.endswith(\".csv\") and (fn.startswith(\"GSE\") or fn.startswith(\"Xena\")):\n",
    "            cohort = fn[:-4]\n",
    "            df = pd.read_csv(fp)\n",
    "            header = df.columns[0]\n",
    "            assert header in all_traits\n",
    "            trait_type = 'binary' if len(df[header].unique()) <= 2 else 'continuous'\n",
    "            # May mistakenly judge (28, 28, 28, 28, ..., 100) as unbiased\n",
    "            # May later try len(unique_values) == 2 and set(unique_values) <= {0, 1}\n",
    "            trait_biased, _ = judge_and_remove_biased_features(df, header, trait_type)\n",
    "            has_age = 'Age' in df.columns or 'age' in df.columns\n",
    "            has_gender = 'Gender' in df.columns or 'gender' in df.columns\n",
    "            sample_size = len(df)\n",
    "            if not trait_biased:\n",
    "                meta[cohort] = {\"is_usable\": True, \"is_available\": True, \"is_biased\": False, \"has_age\": has_age, \"has_gender\": has_gender, \"sample_size\": sample_size, \"note\": \"\"}\n",
    "    js_path = os.path.join(trait_dir, \"cohort_info.json\")\n",
    "    if os.path.exists(js_path):\n",
    "        os.remove(js_path)\n",
    "    with open(js_path, 'w') as file:\n",
    "        json.dump(meta, file)\n"
   ],
   "metadata": {
    "collapsed": false
   }
  },
  {
   "cell_type": "code",
   "execution_count": null,
   "outputs": [],
   "source": [
    "from utils import read_json_to_dataframe, filter_and_rank_cohorts\n",
    "b = read_json_to_dataframe('gold_subset/Creutzfeldt-Jakob-Disease/cohort_info.json')\n",
    "b"
   ],
   "metadata": {
    "collapsed": false
   }
  },
  {
   "cell_type": "code",
   "execution_count": null,
   "outputs": [],
   "source": [
    "b.empty"
   ],
   "metadata": {
    "collapsed": false
   }
  },
  {
   "cell_type": "code",
   "execution_count": null,
   "outputs": [],
   "source": [],
   "metadata": {
    "collapsed": false
   }
  },
  {
   "cell_type": "code",
   "execution_count": null,
   "outputs": [],
   "source": [],
   "metadata": {
    "collapsed": false
   }
  },
  {
   "cell_type": "code",
   "execution_count": 1,
   "outputs": [],
   "source": [
    "import pandas as pd\n",
    "import ast\n",
    "from utils import normalize_gene_symbols\n",
    "\n",
    "def normalize_and_save_genes(file_path, output_file_path):\n",
    "    \"\"\"Read a CSV file about gene-trait association, normalize the related genes for each trait, remove None values,\n",
    "    and save the modified table to a new file.\"\"\"\n",
    "    # Read the CSV file into a DataFrame\n",
    "    related_gene_df = pd.read_csv(file_path)\n",
    "    related_gene_df = related_gene_df.loc[:, ['Trait', 'Related_Genes']].set_index('Trait')\n",
    "\n",
    "    # Normalize gene symbols and remove None values\n",
    "    def normalize_genes(genes):\n",
    "        # Convert the string representation of the list to a list\n",
    "        gene_list = ast.literal_eval(genes)\n",
    "        # Normalize gene symbols using the provided function\n",
    "        normalized_genes = normalize_gene_symbols(gene_list)\n",
    "        # Filter out None values\n",
    "        return [gene for gene in normalized_genes if gene is not None]\n",
    "\n",
    "    # Apply normalization to each row in the 'Related_Genes' column\n",
    "    related_gene_df['Related_Genes'] = related_gene_df['Related_Genes'].apply(normalize_genes)\n",
    "\n",
    "    # Save the modified DataFrame to a new CSV file\n",
    "    related_gene_df.to_csv(output_file_path)\n",
    "\n",
    "# Example usage:\n",
    "# normalize_and_save_genes('./trait_related_genes_org.csv', './trait_related_genes.csv')"
   ],
   "metadata": {
    "collapsed": false,
    "ExecuteTime": {
     "end_time": "2024-05-13T05:32:22.110263492Z",
     "start_time": "2024-05-13T05:32:21.482514307Z"
    }
   }
  },
  {
   "cell_type": "code",
   "execution_count": 2,
   "outputs": [],
   "source": [
    "normalize_and_save_genes('./trait_related_genes_org.csv', './trait_related_genes.csv')"
   ],
   "metadata": {
    "collapsed": false,
    "ExecuteTime": {
     "end_time": "2024-05-13T05:35:08.454505901Z",
     "start_time": "2024-05-13T05:32:27.317187464Z"
    }
   }
  },
  {
   "cell_type": "code",
   "execution_count": null,
   "outputs": [],
   "source": [],
   "metadata": {
    "collapsed": false
   }
  }
 ],
 "metadata": {
  "kernelspec": {
   "display_name": "Python 3",
   "language": "python",
   "name": "python3"
  },
  "language_info": {
   "codemirror_mode": {
    "name": "ipython",
    "version": 2
   },
   "file_extension": ".py",
   "mimetype": "text/x-python",
   "name": "python",
   "nbconvert_exporter": "python",
   "pygments_lexer": "ipython2",
   "version": "2.7.6"
  }
 },
 "nbformat": 4,
 "nbformat_minor": 0
}
