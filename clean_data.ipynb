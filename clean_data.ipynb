{
 "cells": [
  {
   "cell_type": "code",
   "execution_count": 1,
   "metadata": {
    "collapsed": true,
    "ExecuteTime": {
     "end_time": "2024-05-07T19:29:28.940752057Z",
     "start_time": "2024-05-07T19:29:28.259484695Z"
    }
   },
   "outputs": [
    {
     "name": "stdout",
     "output_type": "stream",
     "text": [
      "utils.py has been loaded\n"
     ]
    }
   ],
   "source": [
    "import os\n",
    "import pandas as pd\n",
    "import json\n",
    "from utils import normalize_trait, judge_and_remove_biased_features"
   ]
  },
  {
   "cell_type": "code",
   "execution_count": 2,
   "outputs": [],
   "source": [
    "source_root = \"/home/techt/AI4Science_gold_standard/data/preprocessed/gold\"\n",
    "dest_root = \"./gold_subset\""
   ],
   "metadata": {
    "collapsed": false,
    "ExecuteTime": {
     "end_time": "2024-05-07T19:29:29.241089046Z",
     "start_time": "2024-05-07T19:29:29.232304654Z"
    }
   }
  },
  {
   "cell_type": "markdown",
   "source": [
    "## check Xena data omission"
   ],
   "metadata": {
    "collapsed": false
   }
  },
  {
   "cell_type": "code",
   "execution_count": null,
   "outputs": [],
   "source": [
    "s_ls = []\n",
    "for t in os.listdir(dest_root):\n",
    "    s_path = os.path.join(source_root, t)\n",
    "    if not os.path.isdir(s_path):\n",
    "        f_ls = os.listdir(os.path.join(dest_root, t))\n",
    "        if len(f_ls) == 0 or (len(f_ls) == 1 and f_ls[0].endswith('.json')):\n",
    "            pass\n",
    "        else:\n",
    "            # print(f\"Strange. Dir {s_path} does not exist!\")\n",
    "            s_ls.append(t)\n",
    "    else:\n",
    "        for f in os.listdir(s_path):\n",
    "            if f.endswith('Xena.csv'):\n",
    "                source_fpath = os.path.join(s_path, f)\n",
    "                if os.path.isfile(os.path.join(dest_root, t, 'Xena.csv')):\n",
    "                    print(f\"{os.path.join(dest_root, t, 'Xena.csv')} exist corresponding to {source_fpath}\")\n",
    "                else:\n",
    "                    print(f\"No! {os.path.join(dest_root, t, 'Xena.csv')} not exist corresponding to {source_fpath}\")"
   ],
   "metadata": {
    "collapsed": false
   }
  },
  {
   "cell_type": "code",
   "execution_count": null,
   "outputs": [],
   "source": [
    "sorted(s_ls)"
   ],
   "metadata": {
    "collapsed": false
   }
  },
  {
   "cell_type": "markdown",
   "source": [
    "## Fix table abnormality\n",
    "delete table with missing genetic data, and unify trait name as header. Creat json files 'cohort_info.json'."
   ],
   "metadata": {
    "collapsed": false
   }
  },
  {
   "cell_type": "code",
   "execution_count": 3,
   "outputs": [],
   "source": [
    "all_traits = pd.read_csv(\"all_traits.csv\")[\"Trait\"].tolist()\n",
    "all_nm_traits = [normalize_trait(at) for at in all_traits]"
   ],
   "metadata": {
    "collapsed": false,
    "ExecuteTime": {
     "end_time": "2024-05-07T19:30:15.788649928Z",
     "start_time": "2024-05-07T19:30:15.745827500Z"
    }
   }
  },
  {
   "cell_type": "code",
   "execution_count": null,
   "outputs": [],
   "source": [
    "sorted(all_nm_traits)"
   ],
   "metadata": {
    "collapsed": false
   }
  },
  {
   "cell_type": "code",
   "execution_count": null,
   "outputs": [],
   "source": [
    "len(set(all_nm_traits))"
   ],
   "metadata": {
    "collapsed": false
   }
  },
  {
   "cell_type": "code",
   "execution_count": null,
   "outputs": [],
   "source": [
    "sorted(all_traits)"
   ],
   "metadata": {
    "collapsed": false
   }
  },
  {
   "cell_type": "code",
   "execution_count": null,
   "outputs": [],
   "source": [
    "# 检查路径和列名里的trait_name，进行normalize\n",
    "# 没有gene的table去掉\n",
    "# 创建或修改json文件"
   ],
   "metadata": {
    "collapsed": false
   }
  },
  {
   "cell_type": "code",
   "execution_count": null,
   "outputs": [],
   "source": [
    "for trait in os.listdir(dest_root):\n",
    "    if trait not in all_nm_traits:\n",
    "        if trait in all_traits:\n",
    "            print(f\"'{trait}' trait needs to be normalized \")\n",
    "        else:\n",
    "            print(f\"'{trait}' strange trait\")\n",
    "        continue\n",
    "    trait_dir = os.path.join(dest_root, trait)\n",
    "    for fn in os.listdir(trait_dir):\n",
    "        fp = os.path.join(trait_dir, fn)\n",
    "        if fn.endswith(\".csv\") and (fn.startswith(\"GSE\") or fn.startswith(\"Xena\")):\n",
    "            df = pd.read_csv(fp)\n",
    "            if 'Unnamed: 0' in df.columns:\n",
    "                print(f\"REDUNDANT COLUMN in '{fp}'\")\n",
    "                df = df.drop(columns = ['Unnamed: 0'], errors=\"ignore\")\n",
    "            header = df.columns[0]\n",
    "            if header not in all_traits:\n",
    "                if header in all_nm_traits:\n",
    "                    org_trait = all_traits[all_nm_traits.index(header)]\n",
    "                    print(f\"The header {header} should be replaced by {org_trait} in '{fn}'\")\n",
    "                    df.columns = [org_trait] + df.columns[1:].tolist()\n",
    "                    df.to_csv(fp, index=False)\n",
    "                    print('This cohort updated')\n",
    "                else:\n",
    "                    print(f\"Strange header {header}\")\n",
    "            elif header == \"Lupus-(Systemic-Lupus-Erythematosus\":\n",
    "                df.columns = [\"Lupus (Systemic Lupus Erythematosus)\"] + df.columns[1:].tolist()\n",
    "                df.to_csv(fp, index=False)\n",
    "                print(\"The cohort for 'Lupus' updated\")\n",
    "\n",
    "            if len(df.columns) <= 4:\n",
    "                print(f\"NO GENE DATA in '{fp}'\")\n",
    "                os.remove(fp)\n",
    "                print(\"File removed successfully\")\n"
   ],
   "metadata": {
    "collapsed": false
   }
  },
  {
   "cell_type": "code",
   "execution_count": 4,
   "outputs": [
    {
     "name": "stdout",
     "output_type": "stream",
     "text": [
      "Haha lung cancer\n",
      "For the feature 'Lung Cancer', the least common label is '0' with 110 occurrences. This represents 10.00% of the dataset.\n",
      "The distribution of the feature 'Lung Cancer' in this dataset is fine.\n",
      "\n",
      "Quartiles for 'Age':\n",
      "  25%: 60.0\n",
      "  50% (Median): 67.0\n",
      "  75%: 73.0\n",
      "Min: 38.0\n",
      "Max: 90.0\n",
      "The distribution of the feature 'Age' in this dataset is fine.\n",
      "\n",
      "For the feature 'Gender', the least common label is '0.0' with 443 occurrences. This represents 40.27% of the dataset.\n",
      "The distribution of the feature 'Gender' in this dataset is fine.\n",
      "\n"
     ]
    }
   ],
   "source": [
    "for trait in os.listdir(dest_root):\n",
    "    if trait != 'Lung-Cancer':\n",
    "        continue\n",
    "    else:\n",
    "        print(\"Haha lung cancer\")\n",
    "    if trait not in all_nm_traits:\n",
    "        if trait in all_traits:\n",
    "            print(f\"'{trait}' trait needs to be normalized \")\n",
    "        else:\n",
    "            print(f\"'{trait}' strange trait\")\n",
    "        continue\n",
    "    trait_dir = os.path.join(dest_root, trait)\n",
    "    meta = dict()\n",
    "    for fn in os.listdir(trait_dir):\n",
    "        fp = os.path.join(trait_dir, fn)\n",
    "        if fn.endswith(\".csv\") and (fn.startswith(\"GSE\") or fn.startswith(\"Xena\")):\n",
    "            cohort = fn[:-4]\n",
    "            df = pd.read_csv(fp)\n",
    "            header = df.columns[0]\n",
    "            assert header in all_traits\n",
    "            trait_type = 'binary' if len(df[header].unique()) <= 2 else 'continuous'\n",
    "            # May mistakenly judge (28, 28, 28, 28, ..., 100) as unbiased\n",
    "            # May later try len(unique_values) == 2 and set(unique_values) <= {0, 1}\n",
    "            trait_biased, _ = judge_and_remove_biased_features(df, header, trait_type)\n",
    "            has_age = 'Age' in df.columns or 'age' in df.columns\n",
    "            has_gender = 'Gender' in df.columns or 'gender' in df.columns\n",
    "            sample_size = len(df)\n",
    "            if not trait_biased:\n",
    "                meta[cohort] = {\"is_usable\": True, \"is_available\": True, \"is_biased\": False, \"has_age\": has_age, \"has_gender\": has_gender, \"sample_size\": sample_size, \"note\": \"\"}\n",
    "    js_path = os.path.join(trait_dir, \"cohort_info.json\")\n",
    "    if os.path.exists(js_path):\n",
    "        os.remove(js_path)\n",
    "    with open(js_path, 'w') as file:\n",
    "        json.dump(meta, file)\n"
   ],
   "metadata": {
    "collapsed": false,
    "ExecuteTime": {
     "end_time": "2024-05-07T19:30:36.305344395Z",
     "start_time": "2024-05-07T19:30:31.037992524Z"
    }
   }
  },
  {
   "cell_type": "code",
   "execution_count": null,
   "outputs": [],
   "source": [
    "from utils import read_json_to_dataframe, filter_and_rank_cohorts\n",
    "b = read_json_to_dataframe('gold_subset/Creutzfeldt-Jakob-Disease/cohort_info.json')\n",
    "b"
   ],
   "metadata": {
    "collapsed": false
   }
  },
  {
   "cell_type": "code",
   "execution_count": null,
   "outputs": [],
   "source": [
    "b.empty"
   ],
   "metadata": {
    "collapsed": false
   }
  },
  {
   "cell_type": "code",
   "execution_count": null,
   "outputs": [],
   "source": [
    "filter_and_rank_cohorts('gold_subset/Creutzfeldt-Jakob-Disease/cohort_info.json')"
   ],
   "metadata": {
    "collapsed": false
   }
  },
  {
   "cell_type": "code",
   "execution_count": null,
   "outputs": [],
   "source": [
    "#'./gold_subset/Multiple-sclerosis/GSE215450.csv'"
   ],
   "metadata": {
    "collapsed": false
   }
  },
  {
   "cell_type": "code",
   "execution_count": null,
   "outputs": [],
   "source": [
    "pd.read_csv('./gold_subset/Multiple-sclerosis/GSE215450.csv')"
   ],
   "metadata": {
    "collapsed": false
   }
  },
  {
   "cell_type": "code",
   "execution_count": null,
   "outputs": [],
   "source": [
    "pd.read_csv('./gold_subset/Multiple-sclerosis/GSE171950.csv')"
   ],
   "metadata": {
    "collapsed": false
   }
  },
  {
   "cell_type": "code",
   "execution_count": null,
   "outputs": [],
   "source": [
    "len(df['Glucocorticoid Sensitivity'].unique())"
   ],
   "metadata": {
    "collapsed": false
   }
  },
  {
   "cell_type": "code",
   "execution_count": null,
   "outputs": [],
   "source": [
    "df['Glucocorticoid Sensitivity'].unique() in [1,0]"
   ],
   "metadata": {
    "collapsed": false
   }
  },
  {
   "cell_type": "code",
   "execution_count": null,
   "outputs": [],
   "source": [],
   "metadata": {
    "collapsed": false
   }
  }
 ],
 "metadata": {
  "kernelspec": {
   "display_name": "Python 3",
   "language": "python",
   "name": "python3"
  },
  "language_info": {
   "codemirror_mode": {
    "name": "ipython",
    "version": 2
   },
   "file_extension": ".py",
   "mimetype": "text/x-python",
   "name": "python",
   "nbconvert_exporter": "python",
   "pygments_lexer": "ipython2",
   "version": "2.7.6"
  }
 },
 "nbformat": 4,
 "nbformat_minor": 0
}
