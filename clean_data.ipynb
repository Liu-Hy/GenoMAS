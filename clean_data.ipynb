{
 "cells": [
  {
   "cell_type": "code",
   "execution_count": 1,
   "metadata": {
    "collapsed": true,
    "ExecuteTime": {
     "end_time": "2024-05-22T14:12:11.787567733Z",
     "start_time": "2024-05-22T14:12:11.404144020Z"
    }
   },
   "outputs": [],
   "source": [
    "import os\n",
    "import pandas as pd\n",
    "import json\n",
    "from utils.statistics import *\n",
    "from utils.preprocess import *\n",
    "import shutil"
   ]
  },
  {
   "cell_type": "code",
   "execution_count": 2,
   "outputs": [],
   "source": [
    "source_root = \"/home/techt/Desktop/AI_for_Science/archiv/gold_icml\"\n",
    "dest_root = \"/home/techt/Desktop/AI_for_Science/preprocessed/ours\"  # specify"
   ],
   "metadata": {
    "collapsed": false,
    "ExecuteTime": {
     "end_time": "2024-05-22T14:12:11.789950494Z",
     "start_time": "2024-05-22T14:12:11.788862531Z"
    }
   }
  },
  {
   "cell_type": "code",
   "execution_count": 2,
   "outputs": [],
   "source": [],
   "metadata": {
    "collapsed": false,
    "ExecuteTime": {
     "end_time": "2024-05-22T14:12:11.883033611Z",
     "start_time": "2024-05-22T14:12:11.878428082Z"
    }
   }
  },
  {
   "cell_type": "code",
   "execution_count": 3,
   "outputs": [],
   "source": [
    "def org_normalize_trait(trait):\n",
    "    trait = '-'.join(trait.split())\n",
    "    normalized_trait = ''.join(trait.split(\"'\"))\n",
    "    return normalized_trait"
   ],
   "metadata": {
    "collapsed": false,
    "ExecuteTime": {
     "end_time": "2024-05-22T14:12:12.162002252Z",
     "start_time": "2024-05-22T14:12:12.158108197Z"
    }
   }
  },
  {
   "cell_type": "code",
   "execution_count": 4,
   "outputs": [],
   "source": [
    "all_traits = pd.read_csv(\"all_traits.csv\")[\"Trait\"].tolist()\n",
    "all_nm_traits = [normalize_trait(at) for at in all_traits]\n",
    "all_org_nm_traits = [org_normalize_trait(at) for at in all_traits]"
   ],
   "metadata": {
    "collapsed": false,
    "ExecuteTime": {
     "end_time": "2024-05-22T14:12:12.446262329Z",
     "start_time": "2024-05-22T14:12:12.433701201Z"
    }
   }
  },
  {
   "cell_type": "code",
   "execution_count": 5,
   "outputs": [],
   "source": [
    "for trait in os.listdir(source_root):\n",
    "    if not os.path.isdir(os.path.join(source_root, trait)):\n",
    "        continue\n",
    "    if trait not in all_nm_traits:\n",
    "        if trait in all_org_nm_traits:\n",
    "            print('hhh')\n",
    "            n_trait = all_nm_traits[all_org_nm_traits.index(trait)]\n",
    "            os.rename(os.path.join(source_root, trait), os.path.join(source_root, n_trait))\n",
    "            print(f\"'{trait}' trait has been newly normalized to {n_trait} in the dir name\")\n",
    "        else:\n",
    "            print('xxxxxxxxx', trait)\n"
   ],
   "metadata": {
    "collapsed": false,
    "ExecuteTime": {
     "end_time": "2024-05-22T14:12:12.703476880Z",
     "start_time": "2024-05-22T14:12:12.700077836Z"
    }
   }
  },
  {
   "cell_type": "markdown",
   "source": [
    "## check Xena data omission"
   ],
   "metadata": {
    "collapsed": false
   }
  },
  {
   "cell_type": "code",
   "execution_count": 7,
   "outputs": [
    {
     "name": "stdout",
     "output_type": "stream",
     "text": [
      "/home/techt/Desktop/AI_for_Science/preprocessed/ours/Breast_Cancer/Xena.csv exist corresponding to /home/techt/Desktop/AI_for_Science/archiv/gold_icml/Breast_Cancer/Xena.csv\n",
      "/home/techt/Desktop/AI_for_Science/preprocessed/ours/Bladder_Cancer/Xena.csv exist corresponding to /home/techt/Desktop/AI_for_Science/archiv/gold_icml/Bladder_Cancer/Xena.csv\n",
      "/home/techt/Desktop/AI_for_Science/preprocessed/ours/Colon_and_Rectal_Cancer/Xena.csv exist corresponding to /home/techt/Desktop/AI_for_Science/archiv/gold_icml/Colon_and_Rectal_Cancer/Xena.csv\n"
     ]
    }
   ],
   "source": [
    "s_ls = []\n",
    "for t in os.listdir(dest_root):\n",
    "    s_path = os.path.join(source_root, t)\n",
    "    if not os.path.isdir(s_path):\n",
    "        #f_ls = os.listdir(os.path.join(dest_root, t))\n",
    "        #if len(f_ls) == 0 or (len(f_ls) == 1 and f_ls[0].endswith('.json')):\n",
    "            #pass\n",
    "        #else:\n",
    "            # print(f\"Strange. Dir {s_path} does not exist!\")\n",
    "        #s_ls.append(t)\n",
    "        pass\n",
    "    else:\n",
    "        for f in os.listdir(s_path):\n",
    "            if f.endswith('Xena.csv'):\n",
    "                source_fpath = os.path.join(s_path, f)\n",
    "                if os.path.isfile(os.path.join(dest_root, t, 'Xena.csv')):\n",
    "                    print(f\"{os.path.join(dest_root, t, 'Xena.csv')} exist corresponding to {source_fpath}\")\n",
    "                else:\n",
    "                    print(f\"No! {os.path.join(dest_root, t, 'Xena.csv')} not exist corresponding to {source_fpath}\")\n",
    "                    shutil.copyfile(os.path.join(source_root, t, 'Xena.csv'), os.path.join(dest_root, t, 'Xena.csv'))"
   ],
   "metadata": {
    "collapsed": false,
    "ExecuteTime": {
     "end_time": "2024-05-22T14:12:14.095677192Z",
     "start_time": "2024-05-22T14:12:14.088458567Z"
    }
   }
  },
  {
   "cell_type": "code",
   "execution_count": null,
   "outputs": [],
   "source": [
    "sorted(s_ls)"
   ],
   "metadata": {
    "collapsed": false
   }
  },
  {
   "cell_type": "markdown",
   "source": [
    "## Fix preprocessed data\n",
    "delete table with missing genetic data, and unify trait name as header. Creat json files 'cohort_info.json'."
   ],
   "metadata": {
    "collapsed": false
   }
  },
  {
   "cell_type": "code",
   "execution_count": null,
   "outputs": [],
   "source": [
    "def org_normalize_trait(trait):\n",
    "    trait = '-'.join(trait.split())\n",
    "    normalized_trait = ''.join(trait.split(\"'\"))\n",
    "    return normalized_trait"
   ],
   "metadata": {
    "collapsed": false
   }
  },
  {
   "cell_type": "code",
   "execution_count": null,
   "outputs": [],
   "source": [
    "all_traits = pd.read_csv(\"all_traits.csv\")[\"Trait\"].tolist()\n",
    "all_nm_traits = [normalize_trait(at) for at in all_traits]\n",
    "all_org_nm_traits = [org_normalize_trait(at) for at in all_traits]"
   ],
   "metadata": {
    "collapsed": false
   }
  },
  {
   "cell_type": "code",
   "execution_count": null,
   "outputs": [],
   "source": [
    "sorted(all_nm_traits)"
   ],
   "metadata": {
    "collapsed": false
   }
  },
  {
   "cell_type": "code",
   "execution_count": null,
   "outputs": [],
   "source": [
    "len(set(all_nm_traits))"
   ],
   "metadata": {
    "collapsed": false
   }
  },
  {
   "cell_type": "code",
   "execution_count": null,
   "outputs": [],
   "source": [
    "sorted(all_org_nm_traits)"
   ],
   "metadata": {
    "collapsed": false
   }
  },
  {
   "cell_type": "code",
   "execution_count": null,
   "outputs": [],
   "source": [
    "# 检查路径和列名里的trait_name，进行normalize\n",
    "# 没有gene的table去掉\n",
    "# 创建或修改json文件"
   ],
   "metadata": {
    "collapsed": false
   }
  },
  {
   "cell_type": "code",
   "execution_count": 9,
   "outputs": [
    {
     "name": "stdout",
     "output_type": "stream",
     "text": [
      "!!!!!!!!!!!!!!!!!!'Congenital_Adrenal_Hyperplasia.log' strange trait\n",
      "!!!!!!!!!!!!!!!!!!'Hepatitis.log' strange trait\n",
      "!!!!!!!!!!!!!!!!!!'Atherosclerosis.log' strange trait\n",
      "!!!!!!!!!!!!!!!!!!'Bladder_Cancer.log' strange trait\n",
      "REDUNDANT COLUMN in '/home/techt/Desktop/AI_for_Science/preprocessed/ours/Breast_Cancer/GSE248830.csv'\n",
      "!!!!!!!!!!!!!!!!!!'Height.log' strange trait\n",
      "!!!!!!!!!!!!!!!!!!'Alopecia.log' strange trait\n",
      "REDUNDANT COLUMN in '/home/techt/Desktop/AI_for_Science/preprocessed/ours/Hepatitis/GSE78160.csv'\n",
      "!!!!!!!!!!!!!!!!!!'Congestive_heart_failure.log' strange trait\n",
      "REDUNDANT COLUMN in '/home/techt/Desktop/AI_for_Science/preprocessed/ours/Aniridia/GSE204791.csv'\n",
      "REDUNDANT COLUMN in '/home/techt/Desktop/AI_for_Science/preprocessed/ours/Aniridia/GSE137997.csv'\n",
      "REDUNDANT COLUMN in '/home/techt/Desktop/AI_for_Science/preprocessed/ours/Aniridia/GSE137996.csv'\n",
      "!!!!!!!!!!!!!!!!!!'Breast_Cancer.log' strange trait\n",
      "REDUNDANT COLUMN in '/home/techt/Desktop/AI_for_Science/preprocessed/ours/Anxiety_disorder/GSE60491.csv'\n",
      "REDUNDANT COLUMN in '/home/techt/Desktop/AI_for_Science/preprocessed/ours/Anxiety_disorder/GSE60190.csv'\n",
      "REDUNDANT COLUMN in '/home/techt/Desktop/AI_for_Science/preprocessed/ours/Anxiety_disorder/GSE78104.csv'\n",
      "!!!!!!!!!!!!!!!!!!'Epilepsy.log' strange trait\n",
      "!!!!!!!!!!!!!!!!!!'Heart_rate.log' strange trait\n",
      "!!!!!!!!!!!!!!!!!!'Craniosynostosis.log' strange trait\n",
      "!!!!!!!!!!!!!!!!!!'Cardiovascular_Disease.log' strange trait\n",
      "REDUNDANT COLUMN in '/home/techt/Desktop/AI_for_Science/preprocessed/ours/Craniosynostosis/GSE27976.csv'\n",
      "REDUNDANT COLUMN in '/home/techt/Desktop/AI_for_Science/preprocessed/ours/Duchenne_Muscular_Dystrophy/GSE3307.csv'\n",
      "REDUNDANT COLUMN in '/home/techt/Desktop/AI_for_Science/preprocessed/ours/Anorexia_Nervosa/GSE60190.csv'\n",
      "REDUNDANT COLUMN in '/home/techt/Desktop/AI_for_Science/preprocessed/ours/Autoinflammatory_Disorders/GSE80060.csv'\n",
      "!!!!!!!!!!!!!!!!!!'Chronic_kidney_disease.log' strange trait\n",
      "!!!!!!!!!!!!!!!!!!'Colon_and_Rectal_Cancer.log' strange trait\n",
      "REDUNDANT COLUMN in '/home/techt/Desktop/AI_for_Science/preprocessed/ours/Glucocorticoid_Sensitivity/GSE48801.csv'\n",
      "REDUNDANT COLUMN in '/home/techt/Desktop/AI_for_Science/preprocessed/ours/Glucocorticoid_Sensitivity/GSE32962.csv'\n",
      "REDUNDANT COLUMN in '/home/techt/Desktop/AI_for_Science/preprocessed/ours/Glucocorticoid_Sensitivity/GSE66705.csv'\n",
      "!!!!!!!!!!!!!!!!!!'Glucocorticoid_Sensitivity.log' strange trait\n",
      "!!!!!!!!!!!!!!!!!!'Duchenne_Muscular_Dystrophy.log' strange trait\n",
      "REDUNDANT COLUMN in '/home/techt/Desktop/AI_for_Science/preprocessed/ours/Alopecia/GSE66664.csv'\n",
      "REDUNDANT COLUMN in '/home/techt/Desktop/AI_for_Science/preprocessed/ours/COVID-19/GSE243348.csv'\n",
      "REDUNDANT COLUMN in '/home/techt/Desktop/AI_for_Science/preprocessed/ours/Coronary_artery_disease/GSE115733.csv'\n",
      "!!!!!!!!!!!!!!!!!!'Cervical_Cancer.log' strange trait\n",
      "!!!!!!!!!!!!!!!!!!'Creutzfeldt-Jakob_Disease.log' strange trait\n",
      "!!!!!!!!!!!!!!!!!!'DNA_Repair_Capacity.log' strange trait\n",
      "REDUNDANT COLUMN in '/home/techt/Desktop/AI_for_Science/preprocessed/ours/Colon_and_Rectal_Cancer/GSE15781.csv'\n",
      "!!!!!!!!!!!!!!!!!!'Glioblastoma.log' strange trait\n",
      "!!!!!!!!!!!!!!!!!!'Charcot-Marie-Tooth_Disease.log' strange trait\n",
      "!!!!!!!!!!!!!!!!!!'Fibromyalgia.log' strange trait\n",
      "!!!!!!!!!!!!!!!!!!'Autoinflammatory_Disorders.log' strange trait\n",
      "!!!!!!!!!!!!!!!!!!'Huntingtons_Disease.log' strange trait\n",
      "!!!!!!!!!!!!!!!!!!'DiGeorge_Syndrome.log' strange trait\n",
      "!!!!!!!!!!!!!!!!!!'Anorexia_Nervosa.log' strange trait\n",
      "REDUNDANT COLUMN in '/home/techt/Desktop/AI_for_Science/preprocessed/ours/Ankylosing_Spondylitis/GSE25101.csv'\n",
      "REDUNDANT COLUMN in '/home/techt/Desktop/AI_for_Science/preprocessed/ours/Ankylosing_Spondylitis/GSE73754.csv'\n",
      "!!!!!!!!!!!!!!!!!!'Anxiety_disorder.log' strange trait\n",
      "!!!!!!!!!!!!!!!!!!'Adrenocortical_Cancer.log' strange trait\n",
      "REDUNDANT COLUMN in '/home/techt/Desktop/AI_for_Science/preprocessed/ours/Heart_rate/GSE35661.csv'\n",
      "!!!!!!!!!!!!!!!!!!'Hypertrophic_Cardiomyopathy.log' strange trait\n",
      "!!!!!!!!!!!!!!!!!!'Coronary_artery_disease.log' strange trait\n",
      "!!!!!!!!!!!!!!!!!!'COVID-19.log' strange trait\n",
      "REDUNDANT COLUMN in '/home/techt/Desktop/AI_for_Science/preprocessed/ours/Adrenocortical_Cancer/GSE90713.csv'\n",
      "REDUNDANT COLUMN in '/home/techt/Desktop/AI_for_Science/preprocessed/ours/Adrenocortical_Cancer/GSE33371.csv'\n",
      "REDUNDANT COLUMN in '/home/techt/Desktop/AI_for_Science/preprocessed/ours/Adrenocortical_Cancer/GSE36353.csv'\n",
      "!!!!!!!!!!!!!!!!!!'Acute_Myeloid_Leukemia.log' strange trait\n",
      "!!!!!!!!!!!!!!!!!!'Aniridia.log' strange trait\n",
      "!!!!!!!!!!!!!!!!!!'Ankylosing_Spondylitis.log' strange trait\n",
      "REDUNDANT COLUMN in '/home/techt/Desktop/AI_for_Science/preprocessed/ours/Chronic_kidney_disease/GSE37171.csv'\n"
     ]
    }
   ],
   "source": [
    "for trait in os.listdir(dest_root):\n",
    "    if trait not in all_nm_traits:\n",
    "        if trait in all_org_nm_traits:\n",
    "            n_trait = all_nm_traits[all_org_nm_traits.index(trait)]\n",
    "            os.rename(os.path.join(dest_root, trait), os.path.join(dest_root, n_trait))\n",
    "            print(f\"'{trait}' trait has been newly normalized to {n_trait} in the dir name\")\n",
    "            trait = n_trait\n",
    "        else:\n",
    "            print(f\"!!!!!!!!!!!!!!!!!!'{trait}' strange trait\")\n",
    "            continue\n",
    "    trait_dir = os.path.join(dest_root, trait)\n",
    "    if not os.path.isdir(trait_dir):\n",
    "        continue\n",
    "    for fn in os.listdir(trait_dir):\n",
    "        if fn.endswith('.log'):\n",
    "            continue\n",
    "        fp = os.path.join(trait_dir, fn)\n",
    "        if fn.endswith(\".csv\") and (fn.startswith(\"GSE\") or fn.startswith(\"Xena\")):\n",
    "            df = pd.read_csv(fp)\n",
    "            if 'Unnamed: 0' in df.columns:\n",
    "                print(f\"REDUNDANT COLUMN in '{fp}'\")\n",
    "                df = df.drop(columns = ['Unnamed: 0'], errors=\"ignore\")\n",
    "                df.to_csv(fp, index=False)\n",
    "            header = df.columns[0]\n",
    "            if header not in all_nm_traits:\n",
    "                if header in all_traits:\n",
    "                    nm_trait = all_nm_traits[all_traits.index(header)]\n",
    "                    print(f\"The header {header} should be replaced by {nm_trait} in '{fn}'\")\n",
    "                    df.columns = [nm_trait] + df.columns[1:].tolist()\n",
    "                    df.to_csv(fp, index=False)\n",
    "                    print('This cohort updated')\n",
    "                else:\n",
    "                    print(f\"Strange header {header}\")\n",
    "\n",
    "            # elif header == \"Lupus-(Systemic-Lupus-Erythematosus\":\n",
    "            #     df.columns = [\"Lupus (Systemic Lupus Erythematosus)\"] + df.columns[1:].tolist()\n",
    "            #     df.to_csv(fp, index=False)\n",
    "            #     print(\"The cohort for 'Lupus' updated\")\n",
    "\n",
    "            if len(df.columns) <= 4:\n",
    "                print(f\"NO GENE DATA in '{fp}'\")\n",
    "                os.remove(fp)\n",
    "                print(\"File removed successfully\")\n"
   ],
   "metadata": {
    "collapsed": false,
    "ExecuteTime": {
     "end_time": "2024-05-22T14:20:52.517081627Z",
     "start_time": "2024-05-22T14:20:17.020131299Z"
    }
   }
  },
  {
   "cell_type": "code",
   "execution_count": null,
   "outputs": [],
   "source": [
    "dd = pd.read_csv(\"./trait_related_genes.csv\")\n",
    "for i in range(len(dd)):\n",
    "    tr = dd.iat[i, 1]\n",
    "    if tr in all_traits:\n",
    "        dd.iat[i, 1] = normalize_trait(tr)\n",
    "        print(f\"{tr} normalized to {dd.iat[i, 1]}\")\n",
    "    else:\n",
    "        assert tr in ['Age', 'Gender']"
   ],
   "metadata": {
    "collapsed": false
   }
  },
  {
   "cell_type": "code",
   "execution_count": null,
   "outputs": [],
   "source": [
    "dd.to_csv(\"./trait_related_genes.csv\", index=False)"
   ],
   "metadata": {
    "collapsed": false
   }
  },
  {
   "cell_type": "code",
   "execution_count": null,
   "outputs": [],
   "source": [
    "de = pd.read_csv(\"./trait_condition_pairs.csv\")\n",
    "for i in range(len(de)):\n",
    "    w = de.iat[i, 1]\n",
    "    z = de.iat[i, 2]\n",
    "    de.iat[i, 1] = normalize_trait(w)\n",
    "    de.iat[i, 2] = normalize_trait(z)"
   ],
   "metadata": {
    "collapsed": false
   }
  },
  {
   "cell_type": "code",
   "execution_count": null,
   "outputs": [],
   "source": [
    "de.to_csv(\"./trait_condition_pairs.csv\", index=False)"
   ],
   "metadata": {
    "collapsed": false
   }
  },
  {
   "cell_type": "code",
   "execution_count": null,
   "outputs": [],
   "source": [
    "de = pd.read_csv(\"./trait_condition_pairs.csv\")\n",
    "for i in range(len(de)):\n",
    "    tr = de.iat[i, 1]\n",
    "    if tr in all_traits:\n",
    "        dd.iat[i, 1] = normalize_trait(tr)\n",
    "        print(f\"{tr} normalized to {dd.iat[i, 1]}\")\n",
    "    else:\n",
    "        assert tr in ['Age', 'Gender']"
   ],
   "metadata": {
    "collapsed": false
   }
  },
  {
   "cell_type": "code",
   "execution_count": 13,
   "outputs": [
    {
     "name": "stdout",
     "output_type": "stream",
     "text": [
      "'Congenital_Adrenal_Hyperplasia.log' strange trait\n",
      "'Hepatitis.log' strange trait\n",
      "'Atherosclerosis.log' strange trait\n",
      "'Bladder_Cancer.log' strange trait\n",
      "For the feature 'Breast_Cancer', the least common label is '0.0' with 2 occurrences. This represents 10.53% of the dataset.\n",
      "The distribution of the feature 'Breast_Cancer' in this dataset is fine.\n",
      "\n",
      "Quartiles for 'Age':\n",
      "  25%: 46.0\n",
      "  50% (Median): 49.0\n",
      "  75%: 54.0\n",
      "Min: 40.0\n",
      "Max: 74.0\n",
      "The distribution of the feature 'Age' in this dataset is fine.\n",
      "\n",
      "For the feature 'Breast_Cancer', the least common label is '0' with 113 occurrences. This represents 9.30% of the dataset.\n",
      "The distribution of the feature 'Breast_Cancer' in this dataset is fine.\n",
      "\n",
      "Quartiles for 'Age':\n",
      "  25%: 48.0\n",
      "  50% (Median): 58.0\n",
      "  75%: 67.0\n",
      "Min: 26.0\n",
      "Max: 90.0\n",
      "The distribution of the feature 'Age' in this dataset is fine.\n",
      "\n",
      "For the feature 'Gender', the least common label is '1.0' with 13 occurrences. This represents 1.07% of the dataset.\n",
      "The distribution of the feature 'Gender' in this dataset is fine.\n",
      "\n",
      "'Height.log' strange trait\n",
      "'Alopecia.log' strange trait\n",
      "For the feature 'Hepatitis', the least common label is '0.0' with 38 occurrences. This represents 21.71% of the dataset.\n",
      "The distribution of the feature 'Hepatitis' in this dataset is fine.\n",
      "\n",
      "'Congestive_heart_failure.log' strange trait\n",
      "For the feature 'Aniridia', the least common label is '0.0' with 15 occurrences. This represents 48.39% of the dataset.\n",
      "The distribution of the feature 'Aniridia' in this dataset is fine.\n",
      "\n",
      "Quartiles for 'Age':\n",
      "  25%: 50.0\n",
      "  50% (Median): 58.0\n",
      "  75%: 67.0\n",
      "Min: 28.0\n",
      "Max: 87.0\n",
      "The distribution of the feature 'Age' in this dataset is fine.\n",
      "\n",
      "For the feature 'Gender', the least common label is '0.0' with 15 occurrences. This represents 48.39% of the dataset.\n",
      "The distribution of the feature 'Gender' in this dataset is fine.\n",
      "\n",
      "For the feature 'Aniridia', the least common label is '1.0' with 20 occurrences. This represents 50.00% of the dataset.\n",
      "The distribution of the feature 'Aniridia' in this dataset is fine.\n",
      "\n",
      "Quartiles for 'Age':\n",
      "  25%: 25.75\n",
      "  50% (Median): 34.0\n",
      "  75%: 47.25\n",
      "Min: 18.0\n",
      "Max: 59.0\n",
      "The distribution of the feature 'Age' in this dataset is fine.\n",
      "\n",
      "For the feature 'Gender', the least common label is '0.0' with 10 occurrences. This represents 25.00% of the dataset.\n",
      "The distribution of the feature 'Gender' in this dataset is fine.\n",
      "\n",
      "For the feature 'Aniridia', the least common label is '1.0' with 20 occurrences. This represents 50.00% of the dataset.\n",
      "The distribution of the feature 'Aniridia' in this dataset is fine.\n",
      "\n",
      "Quartiles for 'Age':\n",
      "  25%: 25.75\n",
      "  50% (Median): 34.0\n",
      "  75%: 47.25\n",
      "Min: 18.0\n",
      "Max: 59.0\n",
      "The distribution of the feature 'Age' in this dataset is fine.\n",
      "\n",
      "For the feature 'Gender', the least common label is '0.0' with 10 occurrences. This represents 25.00% of the dataset.\n",
      "The distribution of the feature 'Gender' in this dataset is fine.\n",
      "\n",
      "For the feature 'Bladder_Cancer', the least common label is '0' with 19 occurrences. This represents 4.46% of the dataset.\n",
      "The distribution of the feature 'Bladder_Cancer' in this dataset is fine.\n",
      "\n",
      "Quartiles for 'Age':\n",
      "  25%: 60.0\n",
      "  50% (Median): 69.0\n",
      "  75%: 76.0\n",
      "Min: 34\n",
      "Max: 90\n",
      "The distribution of the feature 'Age' in this dataset is fine.\n",
      "\n",
      "For the feature 'Gender', the least common label is '0' with 115 occurrences. This represents 27.00% of the dataset.\n",
      "The distribution of the feature 'Gender' in this dataset is fine.\n",
      "\n",
      "'Breast_Cancer.log' strange trait\n",
      "For the feature 'Anxiety_disorder', the least common label is '1.0' with 20 occurrences. This represents 16.81% of the dataset.\n",
      "The distribution of the feature 'Anxiety_disorder' in this dataset is fine.\n",
      "\n",
      "Quartiles for 'Age':\n",
      "  25%: 20.0\n",
      "  50% (Median): 22.0\n",
      "  75%: 24.0\n",
      "Min: 18.0\n",
      "Max: 59.0\n",
      "The distribution of the feature 'Age' in this dataset is fine.\n",
      "\n",
      "For the feature 'Gender', the least common label is '1.0' with 35 occurrences. This represents 29.41% of the dataset.\n",
      "The distribution of the feature 'Gender' in this dataset is fine.\n",
      "\n",
      "For the feature 'Anxiety_disorder', the least common label is '1.0' with 9 occurrences. This represents 8.11% of the dataset.\n",
      "The distribution of the feature 'Anxiety_disorder' in this dataset is fine.\n",
      "\n",
      "Quartiles for 'Age':\n",
      "  25%: 28.476712\n",
      "  50% (Median): 45.676712\n",
      "  75%: 55.141095500000006\n",
      "Min: 16.183561\n",
      "Max: 83.641095\n",
      "The distribution of the feature 'Age' in this dataset is fine.\n",
      "\n",
      "For the feature 'Gender', the least common label is '1.0' with 25 occurrences. This represents 22.52% of the dataset.\n",
      "The distribution of the feature 'Gender' in this dataset is fine.\n",
      "\n",
      "For the feature 'Anxiety_disorder', the least common label is '1.0' with 30 occurrences. This represents 50.00% of the dataset.\n",
      "The distribution of the feature 'Anxiety_disorder' in this dataset is fine.\n",
      "\n",
      "Quartiles for 'Age':\n",
      "  25%: 18.75\n",
      "  50% (Median): 27.0\n",
      "  75%: 35.0\n",
      "Min: 15.0\n",
      "Max: 60.0\n",
      "The distribution of the feature 'Age' in this dataset is fine.\n",
      "\n",
      "For the feature 'Gender', the least common label is '0.0' with 20 occurrences. This represents 33.33% of the dataset.\n",
      "The distribution of the feature 'Gender' in this dataset is fine.\n",
      "\n",
      "'Epilepsy.log' strange trait\n",
      "'Heart_rate.log' strange trait\n",
      "'Craniosynostosis.log' strange trait\n",
      "'Cardiovascular_Disease.log' strange trait\n",
      "For the feature 'Craniosynostosis', the least common label is '0.0' with 50 occurrences. This represents 20.08% of the dataset.\n",
      "The distribution of the feature 'Craniosynostosis' in this dataset is fine.\n",
      "\n",
      "Quartiles for 'Age':\n",
      "  25%: 5.23\n",
      "  50% (Median): 8.77\n",
      "  75%: 12.0\n",
      "Min: 0.5\n",
      "Max: 120.0\n",
      "The distribution of the feature 'Age' in this dataset is fine.\n",
      "\n",
      "For the feature 'Gender', the least common label is '0.0' with 83 occurrences. This represents 33.33% of the dataset.\n",
      "The distribution of the feature 'Gender' in this dataset is fine.\n",
      "\n",
      "For the feature 'Duchenne_Muscular_Dystrophy', the least common label is '0.0' with 16 occurrences. This represents 47.06% of the dataset.\n",
      "The distribution of the feature 'Duchenne_Muscular_Dystrophy' in this dataset is fine.\n",
      "\n",
      "For the feature 'Anorexia_Nervosa', the least common label is '1.0' with 15 occurrences. This represents 12.82% of the dataset.\n",
      "The distribution of the feature 'Anorexia_Nervosa' in this dataset is fine.\n",
      "\n",
      "Quartiles for 'Age':\n",
      "  25%: 30.032876\n",
      "  50% (Median): 44.958904\n",
      "  75%: 53.978082\n",
      "Min: 16.183561\n",
      "Max: 83.641095\n",
      "The distribution of the feature 'Age' in this dataset is fine.\n",
      "\n",
      "For the feature 'Gender', the least common label is '1.0' with 34 occurrences. This represents 29.06% of the dataset.\n",
      "The distribution of the feature 'Gender' in this dataset is fine.\n",
      "\n",
      "For the feature 'Autoinflammatory_Disorders', the least common label is '0.0' with 22 occurrences. This represents 10.68% of the dataset.\n",
      "The distribution of the feature 'Autoinflammatory_Disorders' in this dataset is fine.\n",
      "\n",
      "'Chronic_kidney_disease.log' strange trait\n",
      "'Colon_and_Rectal_Cancer.log' strange trait\n",
      "Quartiles for 'Glucocorticoid_Sensitivity':\n",
      "  25%: 86.7141270837215\n",
      "  50% (Median): 91.4503081788735\n",
      "  75%: 95.69352051291395\n",
      "Min: 72.080026977723\n",
      "Max: 110.820589380024\n",
      "The distribution of the feature 'Glucocorticoid_Sensitivity' in this dataset is fine.\n",
      "\n",
      "For the feature 'Glucocorticoid_Sensitivity', the least common label is '1.0' with 19 occurrences. This represents 44.19% of the dataset.\n",
      "The distribution of the feature 'Glucocorticoid_Sensitivity' in this dataset is fine.\n",
      "\n",
      "For the feature 'Glucocorticoid_Sensitivity', the least common label is '1.0' with 32 occurrences. This represents 38.10% of the dataset.\n",
      "The distribution of the feature 'Glucocorticoid_Sensitivity' in this dataset is fine.\n",
      "\n",
      "'Glucocorticoid_Sensitivity.log' strange trait\n",
      "'Duchenne_Muscular_Dystrophy.log' strange trait\n",
      "For the feature 'Alopecia', the least common label is '0.0' with 69 occurrences. This represents 49.29% of the dataset.\n",
      "The distribution of the feature 'Alopecia' in this dataset is fine.\n",
      "\n",
      "For the feature 'COVID-19', the least common label is '0.0' with 37 occurrences. This represents 15.61% of the dataset.\n",
      "The distribution of the feature 'COVID-19' in this dataset is fine.\n",
      "\n",
      "Quartiles for 'Age':\n",
      "  25%: 30.0\n",
      "  50% (Median): 36.0\n",
      "  75%: 43.0\n",
      "Min: 24.0\n",
      "Max: 65.0\n",
      "The distribution of the feature 'Age' in this dataset is fine.\n",
      "\n",
      "For the feature 'Coronary_artery_disease', the least common label is '0.0' with 7 occurrences. This represents 22.58% of the dataset.\n",
      "The distribution of the feature 'Coronary_artery_disease' in this dataset is fine.\n",
      "\n",
      "'Cervical_Cancer.log' strange trait\n",
      "'Creutzfeldt-Jakob_Disease.log' strange trait\n",
      "'DNA_Repair_Capacity.log' strange trait\n",
      "For the feature 'Colon_and_Rectal_Cancer', the least common label is '0' with 51 occurrences. This represents 11.86% of the dataset.\n",
      "The distribution of the feature 'Colon_and_Rectal_Cancer' in this dataset is fine.\n",
      "\n",
      "Quartiles for 'Age':\n",
      "  25%: 56.0\n",
      "  50% (Median): 67.0\n",
      "  75%: 75.0\n",
      "Min: 31.0\n",
      "Max: 90.0\n",
      "The distribution of the feature 'Age' in this dataset is fine.\n",
      "\n",
      "For the feature 'Gender', the least common label is '0.0' with 199 occurrences. This represents 46.28% of the dataset.\n",
      "The distribution of the feature 'Gender' in this dataset is fine.\n",
      "\n",
      "For the feature 'Colon_and_Rectal_Cancer', the least common label is '0.0' with 20 occurrences. This represents 47.62% of the dataset.\n",
      "The distribution of the feature 'Colon_and_Rectal_Cancer' in this dataset is fine.\n",
      "\n",
      "'Glioblastoma.log' strange trait\n",
      "'Charcot-Marie-Tooth_Disease.log' strange trait\n",
      "'Fibromyalgia.log' strange trait\n",
      "'Autoinflammatory_Disorders.log' strange trait\n",
      "'Huntingtons_Disease.log' strange trait\n",
      "'DiGeorge_Syndrome.log' strange trait\n",
      "'Anorexia_Nervosa.log' strange trait\n",
      "For the feature 'Ankylosing_Spondylitis', the least common label is '1.0' with 16 occurrences. This represents 50.00% of the dataset.\n",
      "The distribution of the feature 'Ankylosing_Spondylitis' in this dataset is fine.\n",
      "\n",
      "For the feature 'Ankylosing_Spondylitis', the least common label is '0.0' with 20 occurrences. This represents 27.78% of the dataset.\n",
      "The distribution of the feature 'Ankylosing_Spondylitis' in this dataset is fine.\n",
      "\n",
      "Quartiles for 'Age':\n",
      "  25%: 28.75\n",
      "  50% (Median): 41.5\n",
      "  75%: 51.25\n",
      "Min: 18.0\n",
      "Max: 77.0\n",
      "The distribution of the feature 'Age' in this dataset is fine.\n",
      "\n",
      "For the feature 'Gender', the least common label is '0.0' with 35 occurrences. This represents 48.61% of the dataset.\n",
      "The distribution of the feature 'Gender' in this dataset is fine.\n",
      "\n",
      "'Anxiety_disorder.log' strange trait\n",
      "'Adrenocortical_Cancer.log' strange trait\n",
      "Quartiles for 'Heart_rate':\n",
      "  25%: 136.5\n",
      "  50% (Median): 151.0\n",
      "  75%: 162.25\n",
      "Min: 123.0\n",
      "Max: 182.0\n",
      "The distribution of the feature 'Heart_rate' in this dataset is fine.\n",
      "\n",
      "'Hypertrophic_Cardiomyopathy.log' strange trait\n",
      "'Coronary_artery_disease.log' strange trait\n",
      "'COVID-19.log' strange trait\n",
      "For the feature 'Adrenocortical_Cancer', the least common label is '0.0' with 5 occurrences. This represents 7.94% of the dataset.\n",
      "The distribution of the feature 'Adrenocortical_Cancer' in this dataset is fine.\n",
      "\n",
      "For the feature 'Adrenocortical_Cancer', the least common label is '1.0' with 6 occurrences. This represents 9.52% of the dataset.\n",
      "The distribution of the feature 'Adrenocortical_Cancer' in this dataset is fine.\n",
      "\n",
      "Quartiles for 'Age':\n",
      "  25%: 38.5\n",
      "  50% (Median): 48.0\n",
      "  75%: 56.0\n",
      "Min: 19.0\n",
      "Max: 87.0\n",
      "The distribution of the feature 'Age' in this dataset is fine.\n",
      "\n",
      "For the feature 'Gender', the least common label is '1.0' with 23 occurrences. This represents 36.51% of the dataset.\n",
      "The distribution of the feature 'Gender' in this dataset is fine.\n",
      "\n",
      "For the feature 'Adrenocortical_Cancer', the least common label is '1.0' with 15 occurrences. This represents 31.25% of the dataset.\n",
      "The distribution of the feature 'Adrenocortical_Cancer' in this dataset is fine.\n",
      "\n",
      "For the feature 'Gender', the least common label is '1.0' with 16 occurrences. This represents 33.33% of the dataset.\n",
      "The distribution of the feature 'Gender' in this dataset is fine.\n",
      "\n",
      "'Acute_Myeloid_Leukemia.log' strange trait\n",
      "'Aniridia.log' strange trait\n",
      "'Ankylosing_Spondylitis.log' strange trait\n",
      "For the feature 'Chronic_kidney_disease', the least common label is '0.0' with 40 occurrences. This represents 34.78% of the dataset.\n",
      "The distribution of the feature 'Chronic_kidney_disease' in this dataset is fine.\n",
      "\n",
      "Quartiles for 'Age':\n",
      "  25%: 37.45\n",
      "  50% (Median): 46.0\n",
      "  75%: 55.2\n",
      "Min: 20.3\n",
      "Max: 71.8\n",
      "The distribution of the feature 'Age' in this dataset is fine.\n",
      "\n",
      "For the feature 'Gender', the least common label is '0.0' with 42 occurrences. This represents 36.52% of the dataset.\n",
      "The distribution of the feature 'Gender' in this dataset is fine.\n",
      "\n"
     ]
    }
   ],
   "source": [
    "for trait in os.listdir(dest_root):\n",
    "    if trait not in all_nm_traits:\n",
    "        if trait in all_traits:\n",
    "            print(f\"'{trait}' trait needs to be normalized \")\n",
    "        else:\n",
    "            print(f\"'{trait}' strange trait\")\n",
    "        continue\n",
    "    trait_dir = os.path.join(dest_root, trait)\n",
    "    meta = dict()\n",
    "    for fn in os.listdir(trait_dir):\n",
    "        fp = os.path.join(trait_dir, fn)\n",
    "        if fn.endswith(\".csv\") and (fn.startswith(\"GSE\") or fn.startswith(\"Xena\")):\n",
    "            cohort = fn[:-4]\n",
    "            df = pd.read_csv(fp)\n",
    "            header = df.columns[0]\n",
    "            if header not in all_nm_traits:\n",
    "                print(f'strange header {header}')\n",
    "                continue\n",
    "            trait_type = 'binary' if len(df[header].unique()) <= 2 else 'continuous'\n",
    "            # May mistakenly judge (28, 28, 28, 28, ..., 100) as unbiased\n",
    "            # May later try len(unique_values) == 2 and set(unique_values) <= {0, 1}\n",
    "            trait_biased, _ = judge_and_remove_biased_features(df, header, trait_type)\n",
    "            has_age = 'Age' in df.columns or 'age' in df.columns\n",
    "            has_gender = 'Gender' in df.columns or 'gender' in df.columns\n",
    "            sample_size = len(df)\n",
    "            if not trait_biased:\n",
    "                meta[cohort] = {\"is_usable\": True, \"is_available\": True, \"is_biased\": False, \"has_age\": has_age, \"has_gender\": has_gender, \"sample_size\": sample_size, \"note\": \"\"}\n",
    "    js_path = os.path.join(trait_dir, \"cohort_info.json\")\n",
    "    if os.path.exists(js_path):\n",
    "        os.remove(js_path)\n",
    "    with open(js_path, 'w') as file:\n",
    "        json.dump(meta, file)\n"
   ],
   "metadata": {
    "collapsed": false,
    "ExecuteTime": {
     "end_time": "2024-05-22T14:25:56.738673741Z",
     "start_time": "2024-05-22T14:25:35.718712151Z"
    }
   }
  },
  {
   "cell_type": "code",
   "execution_count": null,
   "outputs": [],
   "source": [],
   "metadata": {
    "collapsed": false
   }
  },
  {
   "cell_type": "code",
   "execution_count": null,
   "outputs": [],
   "source": [
    "import pandas as pd\n",
    "import ast\n",
    "from utils.preprocess import normalize_gene_symbols\n",
    "\n",
    "def normalize_and_save_genes(file_path, output_file_path):\n",
    "    \"\"\"Read a CSV file about gene-trait association, normalize the related genes for each trait, remove None values,\n",
    "    and save the modified table to a new file.\"\"\"\n",
    "    # Read the CSV file into a DataFrame\n",
    "    related_gene_df = pd.read_csv(file_path)\n",
    "    related_gene_df = related_gene_df.loc[:, ['Trait', 'Related_Genes']].set_index('Trait')\n",
    "\n",
    "    # Normalize gene symbols and remove None values\n",
    "    def normalize_genes(genes):\n",
    "        # Convert the string representation of the list to a list\n",
    "        gene_list = ast.literal_eval(genes)\n",
    "        # Normalize gene symbols using the provided function\n",
    "        normalized_genes = normalize_gene_symbols(gene_list)\n",
    "        # Filter out None values\n",
    "        return [gene for gene in normalized_genes if gene is not None]\n",
    "\n",
    "    # Apply normalization to each row in the 'Related_Genes' column\n",
    "    related_gene_df['Related_Genes'] = related_gene_df['Related_Genes'].apply(normalize_genes)\n",
    "\n",
    "    # Save the modified DataFrame to a new CSV file\n",
    "    related_gene_df.to_csv(output_file_path)\n",
    "\n",
    "# Example usage:\n",
    "# normalize_and_save_genes('./trait_related_genes_org.csv', './trait_related_genes.csv')"
   ],
   "metadata": {
    "collapsed": false
   }
  },
  {
   "cell_type": "code",
   "execution_count": null,
   "outputs": [],
   "source": [
    "normalize_and_save_genes('./trait_related_genes_org.csv', './trait_related_genes.csv')"
   ],
   "metadata": {
    "collapsed": false
   }
  },
  {
   "cell_type": "code",
   "execution_count": null,
   "outputs": [],
   "source": [],
   "metadata": {
    "collapsed": false
   }
  },
  {
   "cell_type": "markdown",
   "source": [
    "## Clean GEO data"
   ],
   "metadata": {
    "collapsed": false
   }
  },
  {
   "cell_type": "markdown",
   "source": [
    "### Normalize trait names"
   ],
   "metadata": {
    "collapsed": false
   }
  },
  {
   "cell_type": "code",
   "execution_count": null,
   "outputs": [],
   "source": [
    "all_traits = pd.read_csv(\"all_traits.csv\")[\"Trait\"].tolist()\n",
    "all_nm_traits = [normalize_trait(at) for at in all_traits]\n",
    "all_org_nm_traits = [org_normalize_trait(at) for at in all_traits]"
   ],
   "metadata": {
    "collapsed": false
   }
  },
  {
   "cell_type": "code",
   "execution_count": null,
   "outputs": [],
   "source": [
    "len(all_nm_traits)"
   ],
   "metadata": {
    "collapsed": false
   }
  },
  {
   "cell_type": "code",
   "execution_count": null,
   "outputs": [],
   "source": [
    "geo_root = \"/media/techt/DATA/GEO\""
   ],
   "metadata": {
    "collapsed": false
   }
  },
  {
   "cell_type": "code",
   "execution_count": null,
   "outputs": [],
   "source": [
    "strange = []\n",
    "for trait in os.listdir(geo_root):\n",
    "    if trait in all_org_nm_traits:\n",
    "        n_trait = all_nm_traits[all_org_nm_traits.index(trait)]\n",
    "        if n_trait != trait:\n",
    "            #print(f\"'{trait}' trait should be newly normalized to '{n_trait}' in the dir name\")\n",
    "            os.rename(os.path.join(geo_root, trait), os.path.join(geo_root, n_trait))\n",
    "    else:\n",
    "        strange.append(trait)\n",
    "        print(f\"!!!!!!!!!!!!!!!!!!'{trait}' strange trait\")\n",
    "        continue"
   ],
   "metadata": {
    "collapsed": false
   }
  },
  {
   "cell_type": "code",
   "execution_count": null,
   "outputs": [],
   "source": [
    "strange"
   ],
   "metadata": {
    "collapsed": false
   }
  },
  {
   "cell_type": "code",
   "execution_count": null,
   "outputs": [],
   "source": [
    "sum(sizes[:20])"
   ],
   "metadata": {
    "collapsed": false
   }
  },
  {
   "cell_type": "code",
   "execution_count": null,
   "outputs": [],
   "source": [
    "get_gene_annotation(os.path.join(directory_path, 'Retinoblastoma/GSE51334/GSE51334_family.soft.gz'))"
   ],
   "metadata": {
    "collapsed": false
   }
  },
  {
   "cell_type": "code",
   "execution_count": null,
   "outputs": [],
   "source": [
    "files[:30]"
   ],
   "metadata": {
    "collapsed": false
   }
  },
  {
   "cell_type": "code",
   "execution_count": null,
   "outputs": [],
   "source": [
    "import gzip"
   ],
   "metadata": {
    "collapsed": false
   }
  },
  {
   "cell_type": "code",
   "execution_count": null,
   "outputs": [],
   "source": [
    "fp = os.path.join(directory_path, 'Mitochondrial_Disorders/GSE25925/GSE25925_family.soft.gz')"
   ],
   "metadata": {
    "collapsed": false
   }
  },
  {
   "cell_type": "code",
   "execution_count": null,
   "outputs": [],
   "source": [
    "def get_genetic_data(file_path, marker=\"!series_matrix_table_begin\"):\n",
    "    \"\"\"Read the gene expression data into a dataframe, and adjust its format\"\"\"\n",
    "    # Determine the number of rows to skip\n",
    "    with gzip.open(file_path, 'rt') as file:\n",
    "        for i, line in enumerate(file):\n",
    "            if marker in line:\n",
    "                skip_rows = i + 1  # +1 to skip the marker row itself\n",
    "                print(skip_rows)\n",
    "                break\n",
    "        else:\n",
    "            raise ValueError(f\"Marker '{marker}' not found in the file.\")\n",
    "\n",
    "    # Read the genetic data into a dataframe\n",
    "    genetic_data = pd.read_csv(file_path, compression='gzip', skiprows=skip_rows, comment='!', delimiter='\\t')\n",
    "    genetic_data = genetic_data.dropna()\n",
    "    genetic_data = genetic_data.rename(columns={'ID_REF': 'ID'}).astype({'ID': 'str'})\n",
    "    genetic_data.set_index('ID', inplace=True)\n",
    "\n",
    "    return genetic_data"
   ],
   "metadata": {
    "collapsed": false
   }
  },
  {
   "cell_type": "code",
   "execution_count": null,
   "outputs": [],
   "source": [
    "get_genetic_data(fp)"
   ],
   "metadata": {
    "collapsed": false
   }
  },
  {
   "cell_type": "code",
   "execution_count": null,
   "outputs": [],
   "source": [
    "genetic_data = get_genetic_data(os.path.join(directory_path, 'Atrial_Fibrillation/GSE213029/GSE213029_family.soft.gz'), compression='gzip', skiprows=52, comment='!', delimiter='\\t')"
   ],
   "metadata": {
    "collapsed": false
   }
  },
  {
   "cell_type": "code",
   "execution_count": null,
   "outputs": [],
   "source": [
    "def get_genetic_data(file_path, marker=\"!series_matrix_table_begin\"):\n",
    "    \"\"\"Read the gene expression data into a dataframe, and adjust its format\"\"\"\n",
    "    # Determine the number of rows to skip\n",
    "    with gzip.open(file_path, 'r', encoding='utf-8') as file:\n",
    "        for i, line in enumerate(file):\n",
    "            if marker in line:\n",
    "                skip_rows = i + 1  # +1 to skip the marker row itself\n",
    "                break\n",
    "        else:\n",
    "            raise ValueError(f\"Marker '{marker}' not found in the file.\")\n",
    "\n",
    "    # Read the genetic data into a dataframe\n",
    "    genetic_data = pd.read_csv(file_path, compression='gzip', skiprows=skip_rows, comment='!', delimiter='\\t')\n",
    "    genetic_data = genetic_data.dropna()\n",
    "    genetic_data = genetic_data.rename(columns={'ID_REF': 'ID'}).astype({'ID': 'str'})\n",
    "    genetic_data.set_index('ID', inplace=True)\n",
    "\n",
    "    return genetic_data"
   ],
   "metadata": {
    "collapsed": false
   }
  },
  {
   "cell_type": "code",
   "execution_count": null,
   "outputs": [],
   "source": [],
   "metadata": {
    "collapsed": false
   }
  }
 ],
 "metadata": {
  "kernelspec": {
   "display_name": "Python 3",
   "language": "python",
   "name": "python3"
  },
  "language_info": {
   "codemirror_mode": {
    "name": "ipython",
    "version": 2
   },
   "file_extension": ".py",
   "mimetype": "text/x-python",
   "name": "python",
   "nbconvert_exporter": "python",
   "pygments_lexer": "ipython2",
   "version": "2.7.6"
  }
 },
 "nbformat": 4,
 "nbformat_minor": 0
}
