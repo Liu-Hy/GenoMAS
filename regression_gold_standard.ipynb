{
 "cells": [
  {
   "cell_type": "code",
   "execution_count": 1,
   "metadata": {
    "collapsed": true,
    "ExecuteTime": {
     "end_time": "2024-05-13T19:11:54.532438025Z",
     "start_time": "2024-05-13T19:11:53.882503622Z"
    }
   },
   "outputs": [],
   "source": [
    "import pandas as pd\n",
    "import os\n",
    "import json\n",
    "import ast\n",
    "from utils import *"
   ]
  },
  {
   "cell_type": "code",
   "execution_count": 2,
   "outputs": [],
   "source": [
    "pairs = pd.read_csv(\"trait_condition_pairs.csv\")"
   ],
   "metadata": {
    "collapsed": false,
    "ExecuteTime": {
     "end_time": "2024-05-13T19:11:54.536753143Z",
     "start_time": "2024-05-13T19:11:54.533785435Z"
    }
   }
  },
  {
   "cell_type": "code",
   "execution_count": 3,
   "outputs": [],
   "source": [
    "all_traits = pd.read_csv(\"all_traits.csv\")[\"Trait\"].tolist()\n",
    "all_traits = [normalize_trait(at) for at in all_traits]"
   ],
   "metadata": {
    "collapsed": false,
    "ExecuteTime": {
     "end_time": "2024-05-13T19:11:54.540847158Z",
     "start_time": "2024-05-13T19:11:54.538394680Z"
    }
   }
  },
  {
   "cell_type": "code",
   "execution_count": 4,
   "outputs": [],
   "source": [
    "rel = pd.read_csv(\"trait_related_genes.csv\")\n",
    "rel['Related_Genes'] = rel['Related_Genes'].apply(ast.literal_eval)\n",
    "t2g = pd.Series(rel['Related_Genes'].values, index=rel['Trait']).to_dict()  # the mapping from trait to genes"
   ],
   "metadata": {
    "collapsed": false,
    "ExecuteTime": {
     "end_time": "2024-05-13T19:11:54.598594995Z",
     "start_time": "2024-05-13T19:11:54.542742869Z"
    }
   }
  },
  {
   "cell_type": "code",
   "execution_count": null,
   "outputs": [
    {
     "name": "stdout",
     "output_type": "stream",
     "text": [
      "Trait Breast_Cancer only\n",
      "The cross-validation performance: {'prediction': {'accuracy': 0.9934156378600824}, 'selection': {'precision': 0.369337758811443, 'precision_at_50': 0.369337758811443, 'recall': 0.003023001095290252, 'f1_score': 0.0059968828169693535, 'jaccard': 0.0030074858047642655, 'jaccard2': 0.0}}\n",
      "The cross-validation performance: {'prediction': {'accuracy': 0.9275720164609054}, 'selection': {'precision': 0.5457575757575758, 'precision_at_50': 0.5457575757575758, 'recall': 0.001226725082146769, 'f1_score': 0.002447877392985183, 'jaccard': 0.0012254882944857672, 'jaccard2': 0.0}}\n",
      "The cross-validation performance: {'prediction': {'accuracy': 0.9069958847736626}, 'selection': {'precision': 0.0, 'precision_at_50': 0.0, 'recall': 0.0, 'f1_score': 0.0, 'jaccard': 0.0, 'jaccard2': 0.0}}\n",
      "The cross-validation performance: {'prediction': {'accuracy': 0.9069958847736626}, 'selection': {'precision': 0.0, 'precision_at_50': 0.0, 'recall': 0.0, 'f1_score': 0.0, 'jaccard': 0.0, 'jaccard2': 0.0}}\n",
      "The cross-validation performance: {'prediction': {'accuracy': 0.9069958847736626}, 'selection': {'precision': 0.0, 'precision_at_50': 0.0, 'recall': 0.0, 'f1_score': 0.0, 'jaccard': 0.0, 'jaccard2': 0.0}}\n",
      "The cross-validation performance: {'prediction': {'accuracy': 0.9069958847736626}, 'selection': {'precision': 0.0, 'precision_at_50': 0.0, 'recall': 0.0, 'f1_score': 0.0, 'jaccard': 0.0, 'jaccard2': 0.0}}\n",
      "Trait Epilepsy only\n",
      "The cross-validation performance: {'prediction': {'accuracy': 0.9333333333333332}, 'selection': {'precision': 0.038181818181818185, 'precision_at_50': 0.038181818181818185, 'recall': 0.0005263157894736842, 'f1_score': 0.0010382872639681977, 'jaccard': 0.0005198182831472819, 'jaccard2': 0.0}}\n",
      "The cross-validation performance: {'prediction': {'accuracy': 0.8666666666666666}, 'selection': {'precision': 0.07777777777777778, 'precision_at_50': 0.07777777777777778, 'recall': 0.0007894736842105263, 'f1_score': 0.001562505305116339, 'jaccard': 0.0007822712418300654, 'jaccard2': 0.0}}\n",
      "The cross-validation performance: {'prediction': {'accuracy': 0.7999999999999999}, 'selection': {'precision': 0.17333333333333334, 'precision_at_50': 0.17333333333333334, 'recall': 0.0010526315789473684, 'f1_score': 0.002092189447329882, 'jaccard': 0.0010474644090148026, 'jaccard2': 0.0}}\n",
      "The cross-validation performance: {'prediction': {'accuracy': 0.6}, 'selection': {'precision': 0.0, 'precision_at_50': 0.0, 'recall': 0.0, 'f1_score': 0.0, 'jaccard': 0.0, 'jaccard2': 0.0}}\n",
      "The cross-validation performance: {'prediction': {'accuracy': 0.5999999999999999}, 'selection': {'precision': 0.0, 'precision_at_50': 0.0, 'recall': 0.0, 'f1_score': 0.0, 'jaccard': 0.0, 'jaccard2': 0.0}}\n",
      "The cross-validation performance: {'prediction': {'accuracy': 0.5999999999999999}, 'selection': {'precision': 0.0, 'precision_at_50': 0.0, 'recall': 0.0, 'f1_score': 0.0, 'jaccard': 0.0, 'jaccard2': 0.0}}\n",
      "Trait Atherosclerosis only\n",
      "Error processing trait Atherosclerosis\n",
      "Trait Blood_Type only\n",
      "Error processing trait Blood_Type\n",
      "Trait Charcot-Marie-Tooth_Disease only\n",
      "Error processing trait Charcot-Marie-Tooth_Disease\n",
      "Trait Colon_and_Rectal_Cancer only\n",
      "The cross-validation performance: {'prediction': {'accuracy': 1.0}, 'selection': {'precision': 0.07463441211724964, 'precision_at_50': 0.07463441211724964, 'recall': 0.007373271889400922, 'f1_score': 0.013411101898484438, 'jaccard': 0.006755053629332018, 'jaccard2': 0.0}}\n",
      "The cross-validation performance: {'prediction': {'accuracy': 0.9953488372093023}, 'selection': {'precision': 0.1257936507936508, 'precision_at_50': 0.1257936507936508, 'recall': 0.004608294930875576, 'f1_score': 0.008888959123472397, 'jaccard': 0.004464321304007402, 'jaccard2': 0.0}}\n",
      "The cross-validation performance: {'prediction': {'accuracy': 0.8813953488372093}, 'selection': {'precision': 0.0, 'precision_at_50': 0.0, 'recall': 0.0, 'f1_score': 0.0, 'jaccard': 0.0, 'jaccard2': 0.0}}\n",
      "The cross-validation performance: {'prediction': {'accuracy': 0.8813953488372093}, 'selection': {'precision': 0.0, 'precision_at_50': 0.0, 'recall': 0.0, 'f1_score': 0.0, 'jaccard': 0.0, 'jaccard2': 0.0}}\n",
      "The cross-validation performance: {'prediction': {'accuracy': 0.8813953488372093}, 'selection': {'precision': 0.0, 'precision_at_50': 0.0, 'recall': 0.0, 'f1_score': 0.0, 'jaccard': 0.0, 'jaccard2': 0.0}}\n",
      "The cross-validation performance: {'prediction': {'accuracy': 0.8813953488372093}, 'selection': {'precision': 0.0, 'precision_at_50': 0.0, 'recall': 0.0, 'f1_score': 0.0, 'jaccard': 0.0, 'jaccard2': 0.0}}\n",
      "Trait DNA_Repair_Capacity only\n",
      "Error processing trait DNA_Repair_Capacity\n",
      "Trait Heart_rate only\n"
     ]
    },
    {
     "name": "stderr",
     "output_type": "stream",
     "text": [
      "/home/techt/anaconda3/envs/hl/lib/python3.8/site-packages/sklearn/linear_model/_coordinate_descent.py:628: ConvergenceWarning: Objective did not converge. You might want to increase the number of iterations, check the scale of the features or consider increasing regularisation. Duality gap: 1.225e+00, tolerance: 3.776e-01\n",
      "  model = cd_fast.enet_coordinate_descent(\n"
     ]
    },
    {
     "name": "stdout",
     "output_type": "stream",
     "text": [
      "The gene info file does not contain genes related to the feature 'Heart_rate'.\n",
      "Error processing trait Heart_rate\n",
      "Trait Height only\n",
      "Error processing trait Height\n",
      "Trait Li-Fraumeni_Syndrome only\n",
      "Error processing trait Li-Fraumeni_Syndrome\n",
      "Trait Lupus_(Systemic_Lupus_Erythematosus) only\n",
      "Error processing trait Lupus_(Systemic_Lupus_Erythematosus)\n",
      "Trait Multiple_Endocrine_Neoplasia_Type_2 only\n",
      "Error processing trait Multiple_Endocrine_Neoplasia_Type_2\n",
      "Trait Obesity only\n",
      "The cross-validation performance: {'prediction': {'accuracy': 0.9199999999999999}, 'selection': {'precision': 0.1598972922502334, 'precision_at_50': 0.1598972922502334, 'recall': 0.005303030303030303, 'f1_score': 0.010265479131345814, 'jaccard': 0.0051607858058114325, 'jaccard2': 0.011512553582363748}}\n",
      "The cross-validation performance: {'prediction': {'accuracy': 0.8933333333333333}, 'selection': {'precision': 0.1627941176470588, 'precision_at_50': 0.1627941176470588, 'recall': 0.0026515151515151517, 'f1_score': 0.0052172888851405, 'jaccard': 0.0026180552187428873, 'jaccard2': 0.0064516129032258064}}\n",
      "The cross-validation performance: {'prediction': {'accuracy': 0.6799999999999999}, 'selection': {'precision': 0.0, 'precision_at_50': 0.0, 'recall': 0.0, 'f1_score': 0.0, 'jaccard': 0.0, 'jaccard2': 0.0}}\n",
      "The cross-validation performance: {'prediction': {'accuracy': 0.6799999999999999}, 'selection': {'precision': 0.0, 'precision_at_50': 0.0, 'recall': 0.0, 'f1_score': 0.0, 'jaccard': 0.0, 'jaccard2': 0.0}}\n",
      "The cross-validation performance: {'prediction': {'accuracy': 0.6933333333333332}, 'selection': {'precision': 0.0, 'precision_at_50': 0.0, 'recall': 0.0, 'f1_score': 0.0, 'jaccard': 0.0, 'jaccard2': 0.0}}\n",
      "The cross-validation performance: {'prediction': {'accuracy': 0.7066666666666667}, 'selection': {'precision': 0.0, 'precision_at_50': 0.0, 'recall': 0.0, 'f1_score': 0.0, 'jaccard': 0.0, 'jaccard2': 0.0}}\n",
      "Trait Androgen_Insensitivity_Syndrome only\n",
      "Error processing trait Androgen_Insensitivity_Syndrome\n",
      "Trait Atrial_Fibrillation only\n",
      "Error processing trait Atrial_Fibrillation\n",
      "Trait Chronic_Fatigue_Syndrome only\n",
      "Error processing trait Chronic_Fatigue_Syndrome\n",
      "Trait Cognitive_Processing only\n",
      "Error processing trait Cognitive_Processing\n",
      "Trait COVID-19 only\n",
      "The cross-validation performance: {'prediction': {'accuracy': 0.902127659574468}, 'selection': {'precision': 0.18634931437789876, 'precision_at_50': 0.18634931437789876, 'recall': 0.034285714285714294, 'f1_score': 0.05781325215911618, 'jaccard': 0.029848778088738398, 'jaccard2': 0.01834133721400275}}\n",
      "The cross-validation performance: {'prediction': {'accuracy': 0.8468085106382979}, 'selection': {'precision': 0.10857142857142858, 'precision_at_50': 0.10857142857142858, 'recall': 0.003428571428571429, 'f1_score': 0.0066422466422466405, 'jaccard': 0.003339609247198988, 'jaccard2': 0.0}}\n",
      "The cross-validation performance: {'prediction': {'accuracy': 0.8425531914893616}, 'selection': {'precision': 0.0, 'precision_at_50': 0.0, 'recall': 0.0, 'f1_score': 0.0, 'jaccard': 0.0, 'jaccard2': 0.0}}\n",
      "The cross-validation performance: {'prediction': {'accuracy': 0.8468085106382979}, 'selection': {'precision': 0.0, 'precision_at_50': 0.0, 'recall': 0.0, 'f1_score': 0.0, 'jaccard': 0.0, 'jaccard2': 0.0}}\n",
      "The cross-validation performance: {'prediction': {'accuracy': 0.8425531914893618}, 'selection': {'precision': 0.0, 'precision_at_50': 0.0, 'recall': 0.0, 'f1_score': 0.0, 'jaccard': 0.0, 'jaccard2': 0.0}}\n",
      "The cross-validation performance: {'prediction': {'accuracy': 0.8425531914893618}, 'selection': {'precision': 0.0, 'precision_at_50': 0.0, 'recall': 0.0, 'f1_score': 0.0, 'jaccard': 0.0, 'jaccard2': 0.0}}\n",
      "Trait Essential_Thrombocythemia only\n",
      "Error processing trait Essential_Thrombocythemia\n",
      "Trait Fibromyalgia only\n",
      "Error processing trait Fibromyalgia\n",
      "Trait Hemochromatosis only\n",
      "Error processing trait Hemochromatosis\n",
      "Trait Large_B-cell_Lymphoma only\n",
      "Error processing trait Large_B-cell_Lymphoma\n",
      "Trait Mesothelioma only\n",
      "The gene info file does not contain genes related to the feature 'Mesothelioma'.\n",
      "Error processing trait Mesothelioma\n",
      "Trait Ocular_Melanomas only\n",
      "Error processing trait Ocular_Melanomas\n",
      "Trait Age-Related_Macular_Degeneration only\n",
      "Error processing trait Age-Related_Macular_Degeneration\n",
      "Trait Alzheimers_Disease only\n",
      "Error processing trait Alzheimers_Disease\n",
      "Trait Cervical_Cancer only\n",
      "The gene info file does not contain genes related to the feature 'Cervical_Cancer'.\n",
      "Error processing trait Cervical_Cancer\n",
      "Trait Chronic_kidney_disease only\n",
      "The gene info file does not contain genes related to the feature 'Chronic_kidney_disease'.\n",
      "Error processing trait Chronic_kidney_disease\n",
      "Trait Generalized_Anxiety_Disorder only\n",
      "Error processing trait Generalized_Anxiety_Disorder\n",
      "Trait HIV_Resistance only\n",
      "Error processing trait HIV_Resistance\n",
      "Trait Hypothyroidism only\n",
      "Error processing trait Hypothyroidism\n",
      "Trait Intellectual_Disability only\n",
      "Error processing trait Intellectual_Disability\n",
      "Trait Longevity_and_Aging only\n",
      "Error processing trait Longevity_and_Aging\n",
      "Trait lower_grade_glioma_and_glioblastoma only\n",
      "Error processing trait lower_grade_glioma_and_glioblastoma\n",
      "Trait Metabolic_Rate only\n",
      "Error processing trait Metabolic_Rate\n",
      "Trait Amyotrophic_Lateral_Sclerosis only\n",
      "Error processing trait Amyotrophic_Lateral_Sclerosis\n",
      "Trait Asthma only\n",
      "Error processing trait Asthma\n",
      "Trait Bile_Duct_Cancer only\n",
      "Error processing trait Bile_Duct_Cancer\n",
      "Trait Craniosynostosis only\n",
      "The cross-validation performance: {'prediction': {'accuracy': 0.8530612244897959}, 'selection': {'precision': 0.0, 'precision_at_50': 0.0, 'recall': 0.0, 'f1_score': 0.0, 'jaccard': 0.0, 'jaccard2': 0.0}}\n",
      "The cross-validation performance: {'prediction': {'accuracy': 0.8285714285714286}, 'selection': {'precision': 0.0, 'precision_at_50': 0.0, 'recall': 0.0, 'f1_score': 0.0, 'jaccard': 0.0, 'jaccard2': 0.0}}\n",
      "The cross-validation performance: {'prediction': {'accuracy': 0.8}, 'selection': {'precision': 0.0, 'precision_at_50': 0.0, 'recall': 0.0, 'f1_score': 0.0, 'jaccard': 0.0, 'jaccard2': 0.0}}\n",
      "The cross-validation performance: {'prediction': {'accuracy': 0.8}, 'selection': {'precision': 0.0, 'precision_at_50': 0.0, 'recall': 0.0, 'f1_score': 0.0, 'jaccard': 0.0, 'jaccard2': 0.0}}\n",
      "The cross-validation performance: {'prediction': {'accuracy': 0.8081632653061224}, 'selection': {'precision': 0.0, 'precision_at_50': 0.0, 'recall': 0.0, 'f1_score': 0.0, 'jaccard': 0.0, 'jaccard2': 0.0}}\n",
      "The cross-validation performance: {'prediction': {'accuracy': 0.7959183673469388}, 'selection': {'precision': 0.0, 'precision_at_50': 0.0, 'recall': 0.0, 'f1_score': 0.0, 'jaccard': 0.0, 'jaccard2': 0.0}}\n",
      "Trait Cystic_Fibrosis only\n",
      "Error processing trait Cystic_Fibrosis\n",
      "Trait Glioblastoma only\n",
      "Error processing trait Glioblastoma\n",
      "Trait Liver_Cancer only\n",
      "Error processing trait Liver_Cancer\n",
      "Trait Obsessive-Compulsive_Disorder only\n",
      "Error processing trait Obsessive-Compulsive_Disorder\n",
      "Trait Pain_Sensitivity only\n",
      "Error processing trait Pain_Sensitivity\n",
      "Trait Pancreatic_Cancer only\n",
      "The cross-validation performance: {'prediction': {'accuracy': 1.0}, 'selection': {'precision': 0.2509157509157509, 'precision_at_50': 0.2509157509157509, 'recall': 0.012307692307692308, 'f1_score': 0.023459580350950037, 'jaccard': 0.011882634221173133, 'jaccard2': 0.008}}\n",
      "The cross-validation performance: {'prediction': {'accuracy': 0.95}, 'selection': {'precision': 0.2619047619047619, 'precision_at_50': 0.2619047619047619, 'recall': 0.007692307692307693, 'f1_score': 0.014936761934298725, 'jaccard': 0.007552973342447027, 'jaccard2': 0.0}}\n",
      "The cross-validation performance: {'prediction': {'accuracy': 0.9}, 'selection': {'precision': 0.35, 'precision_at_50': 0.35, 'recall': 0.004615384615384616, 'f1_score': 0.009108192188040098, 'jaccard': 0.00457725016689403, 'jaccard2': 0.0}}\n",
      "The cross-validation performance: {'prediction': {'accuracy': 0.65}, 'selection': {'precision': 0.0, 'precision_at_50': 0.0, 'recall': 0.0, 'f1_score': 0.0, 'jaccard': 0.0, 'jaccard2': 0.0}}\n",
      "The cross-validation performance: {'prediction': {'accuracy': 0.7}, 'selection': {'precision': 0.0, 'precision_at_50': 0.0, 'recall': 0.0, 'f1_score': 0.0, 'jaccard': 0.0, 'jaccard2': 0.0}}\n",
      "The cross-validation performance: {'prediction': {'accuracy': 0.65}, 'selection': {'precision': 0.0, 'precision_at_50': 0.0, 'recall': 0.0, 'f1_score': 0.0, 'jaccard': 0.0, 'jaccard2': 0.0}}\n",
      "Trait Polycystic_Kidney_Disease only\n",
      "The cross-validation performance: {'prediction': {'accuracy': 1.0}, 'selection': {'precision': 0.0, 'precision_at_50': 0.0, 'recall': 0.0, 'f1_score': 0.0, 'jaccard': 0.0, 'jaccard2': 0.0}}\n",
      "The cross-validation performance: {'prediction': {'accuracy': 1.0}, 'selection': {'precision': 0.0, 'precision_at_50': 0.0, 'recall': 0.0, 'f1_score': 0.0, 'jaccard': 0.0, 'jaccard2': 0.0}}\n",
      "The cross-validation performance: {'prediction': {'accuracy': 0.9}, 'selection': {'precision': 0.0, 'precision_at_50': 0.0, 'recall': 0.0, 'f1_score': 0.0, 'jaccard': 0.0, 'jaccard2': 0.0}}\n",
      "The cross-validation performance: {'prediction': {'accuracy': 0.5333333333333333}, 'selection': {'precision': 0.0, 'precision_at_50': 0.0, 'recall': 0.0, 'f1_score': 0.0, 'jaccard': 0.0, 'jaccard2': 0.0}}\n",
      "The cross-validation performance: {'prediction': {'accuracy': 0.4}, 'selection': {'precision': 0.0, 'precision_at_50': 0.0, 'recall': 0.0, 'f1_score': 0.0, 'jaccard': 0.0, 'jaccard2': 0.0}}\n",
      "The cross-validation performance: {'prediction': {'accuracy': 0.4}, 'selection': {'precision': 0.0, 'precision_at_50': 0.0, 'recall': 0.0, 'f1_score': 0.0, 'jaccard': 0.0, 'jaccard2': 0.0}}\n",
      "Trait Acute_Myeloid_Leukemia only\n",
      "Error processing trait Acute_Myeloid_Leukemia\n",
      "Trait Alopecia only\n"
     ]
    },
    {
     "name": "stderr",
     "output_type": "stream",
     "text": [
      "/home/techt/anaconda3/envs/hl/lib/python3.8/site-packages/sklearn/linear_model/_coordinate_descent.py:628: ConvergenceWarning: Objective did not converge. You might want to increase the number of iterations, check the scale of the features or consider increasing regularisation. Duality gap: 1.513e-02, tolerance: 2.778e-03\n",
      "  model = cd_fast.enet_coordinate_descent(\n",
      "/home/techt/anaconda3/envs/hl/lib/python3.8/site-packages/sklearn/linear_model/_coordinate_descent.py:628: ConvergenceWarning: Objective did not converge. You might want to increase the number of iterations, check the scale of the features or consider increasing regularisation. Duality gap: 7.640e-03, tolerance: 2.799e-03\n",
      "  model = cd_fast.enet_coordinate_descent(\n",
      "/home/techt/anaconda3/envs/hl/lib/python3.8/site-packages/sklearn/linear_model/_coordinate_descent.py:628: ConvergenceWarning: Objective did not converge. You might want to increase the number of iterations, check the scale of the features or consider increasing regularisation. Duality gap: 7.771e-03, tolerance: 2.796e-03\n",
      "  model = cd_fast.enet_coordinate_descent(\n",
      "/home/techt/anaconda3/envs/hl/lib/python3.8/site-packages/sklearn/linear_model/_coordinate_descent.py:628: ConvergenceWarning: Objective did not converge. You might want to increase the number of iterations, check the scale of the features or consider increasing regularisation. Duality gap: 9.411e-03, tolerance: 2.778e-03\n",
      "  model = cd_fast.enet_coordinate_descent(\n",
      "/home/techt/anaconda3/envs/hl/lib/python3.8/site-packages/sklearn/linear_model/_coordinate_descent.py:628: ConvergenceWarning: Objective did not converge. You might want to increase the number of iterations, check the scale of the features or consider increasing regularisation. Duality gap: 9.193e-03, tolerance: 2.799e-03\n",
      "  model = cd_fast.enet_coordinate_descent(\n"
     ]
    },
    {
     "name": "stdout",
     "output_type": "stream",
     "text": [
      "The cross-validation performance: {'prediction': {'accuracy': 1.0}, 'selection': {'precision': 0.0, 'precision_at_50': 0.0, 'recall': 0.0, 'f1_score': 0.0, 'jaccard': 0.0, 'jaccard2': 0.0}}\n"
     ]
    },
    {
     "name": "stderr",
     "output_type": "stream",
     "text": [
      "/home/techt/anaconda3/envs/hl/lib/python3.8/site-packages/sklearn/linear_model/_coordinate_descent.py:628: ConvergenceWarning: Objective did not converge. You might want to increase the number of iterations, check the scale of the features or consider increasing regularisation. Duality gap: 4.262e-03, tolerance: 2.799e-03\n",
      "  model = cd_fast.enet_coordinate_descent(\n",
      "/home/techt/anaconda3/envs/hl/lib/python3.8/site-packages/sklearn/linear_model/_coordinate_descent.py:628: ConvergenceWarning: Objective did not converge. You might want to increase the number of iterations, check the scale of the features or consider increasing regularisation. Duality gap: 6.596e-03, tolerance: 2.796e-03\n",
      "  model = cd_fast.enet_coordinate_descent(\n",
      "/home/techt/anaconda3/envs/hl/lib/python3.8/site-packages/sklearn/linear_model/_coordinate_descent.py:628: ConvergenceWarning: Objective did not converge. You might want to increase the number of iterations, check the scale of the features or consider increasing regularisation. Duality gap: 8.723e-03, tolerance: 2.799e-03\n",
      "  model = cd_fast.enet_coordinate_descent(\n",
      "/home/techt/anaconda3/envs/hl/lib/python3.8/site-packages/sklearn/linear_model/_coordinate_descent.py:628: ConvergenceWarning: Objective did not converge. You might want to increase the number of iterations, check the scale of the features or consider increasing regularisation. Duality gap: 4.730e-03, tolerance: 2.800e-03\n",
      "  model = cd_fast.enet_coordinate_descent(\n",
      "/home/techt/anaconda3/envs/hl/lib/python3.8/site-packages/sklearn/linear_model/_coordinate_descent.py:628: ConvergenceWarning: Objective did not converge. You might want to increase the number of iterations, check the scale of the features or consider increasing regularisation. Duality gap: 5.458e-03, tolerance: 2.786e-03\n",
      "  model = cd_fast.enet_coordinate_descent(\n"
     ]
    },
    {
     "name": "stdout",
     "output_type": "stream",
     "text": [
      "The cross-validation performance: {'prediction': {'accuracy': 0.9928571428571429}, 'selection': {'precision': 0.0, 'precision_at_50': 0.0, 'recall': 0.0, 'f1_score': 0.0, 'jaccard': 0.0, 'jaccard2': 0.0}}\n",
      "The cross-validation performance: {'prediction': {'accuracy': 0.9928571428571429}, 'selection': {'precision': 0.0, 'precision_at_50': 0.0, 'recall': 0.0, 'f1_score': 0.0, 'jaccard': 0.0, 'jaccard2': 0.0}}\n",
      "The cross-validation performance: {'prediction': {'accuracy': 0.43571428571428567}, 'selection': {'precision': 0.0, 'precision_at_50': 0.0, 'recall': 0.0, 'f1_score': 0.0, 'jaccard': 0.0, 'jaccard2': 0.0}}\n",
      "The cross-validation performance: {'prediction': {'accuracy': 0.43571428571428567}, 'selection': {'precision': 0.0, 'precision_at_50': 0.0, 'recall': 0.0, 'f1_score': 0.0, 'jaccard': 0.0, 'jaccard2': 0.0}}\n",
      "The cross-validation performance: {'prediction': {'accuracy': 0.3928571428571429}, 'selection': {'precision': 0.0, 'precision_at_50': 0.0, 'recall': 0.0, 'f1_score': 0.0, 'jaccard': 0.0, 'jaccard2': 0.0}}\n"
     ]
    },
    {
     "name": "stderr",
     "output_type": "stream",
     "text": [
      "/home/techt/anaconda3/envs/hl/lib/python3.8/site-packages/sklearn/linear_model/_coordinate_descent.py:628: ConvergenceWarning: Objective did not converge. You might want to increase the number of iterations, check the scale of the features or consider increasing regularisation. Duality gap: 1.268e-02, tolerance: 3.499e-03\n",
      "  model = cd_fast.enet_coordinate_descent(\n"
     ]
    },
    {
     "name": "stdout",
     "output_type": "stream",
     "text": [
      "Trait Bladder_Cancer only\n",
      "The cross-validation performance: {'prediction': {'accuracy': 0.9811764705882353}, 'selection': {'precision': 0.22175259989053092, 'precision_at_50': 0.22175259989053092, 'recall': 0.004041916167664671, 'f1_score': 0.007935400515268805, 'jaccard': 0.0039836368470745785, 'jaccard2': 0.0}}\n",
      "The cross-validation performance: {'prediction': {'accuracy': 0.9552941176470588}, 'selection': {'precision': 0.24666666666666667, 'precision_at_50': 0.24666666666666667, 'recall': 0.0005988023952095808, 'f1_score': 0.0011942537820866389, 'jaccard': 0.0005977958581729793, 'jaccard2': 0.0}}\n",
      "The cross-validation performance: {'prediction': {'accuracy': 0.9552941176470588}, 'selection': {'precision': 0.0, 'precision_at_50': 0.0, 'recall': 0.0, 'f1_score': 0.0, 'jaccard': 0.0, 'jaccard2': 0.0}}\n",
      "The cross-validation performance: {'prediction': {'accuracy': 0.9552941176470588}, 'selection': {'precision': 0.0, 'precision_at_50': 0.0, 'recall': 0.0, 'f1_score': 0.0, 'jaccard': 0.0, 'jaccard2': 0.0}}\n",
      "The cross-validation performance: {'prediction': {'accuracy': 0.9552941176470588}, 'selection': {'precision': 0.0, 'precision_at_50': 0.0, 'recall': 0.0, 'f1_score': 0.0, 'jaccard': 0.0, 'jaccard2': 0.0}}\n",
      "The cross-validation performance: {'prediction': {'accuracy': 0.9552941176470588}, 'selection': {'precision': 0.0, 'precision_at_50': 0.0, 'recall': 0.0, 'f1_score': 0.0, 'jaccard': 0.0, 'jaccard2': 0.0}}\n",
      "Trait Chronic_obstructive_pulmonary_disease_(COPD) only\n",
      "Error processing trait Chronic_obstructive_pulmonary_disease_(COPD)\n",
      "Trait Congestive_heart_failure only\n",
      "Error processing trait Congestive_heart_failure\n",
      "Trait Creutzfeldt-Jakob_Disease only\n",
      "Error processing trait Creutzfeldt-Jakob_Disease\n",
      "Trait Esophageal_Cancer only\n",
      "Error processing trait Esophageal_Cancer\n",
      "Trait Glucocorticoid_Sensitivity only\n",
      "The cross-validation performance: {'prediction': {'accuracy': 0.9764705882352942}, 'selection': {'precision': 0.04587412587412588, 'precision_at_50': 0.04587412587412588, 'recall': 0.004347826086956522, 'f1_score': 0.00793063569709852, 'jaccard': 0.003983016293347975, 'jaccard2': 0.0}}\n",
      "The cross-validation performance: {'prediction': {'accuracy': 0.9576470588235295}, 'selection': {'precision': 0.0, 'precision_at_50': 0.0, 'recall': 0.0, 'f1_score': 0.0, 'jaccard': 0.0, 'jaccard2': 0.0}}\n",
      "The cross-validation performance: {'prediction': {'accuracy': 0.9552941176470588}, 'selection': {'precision': 0.0, 'precision_at_50': 0.0, 'recall': 0.0, 'f1_score': 0.0, 'jaccard': 0.0, 'jaccard2': 0.0}}\n",
      "The cross-validation performance: {'prediction': {'accuracy': 0.9552941176470588}, 'selection': {'precision': 0.0, 'precision_at_50': 0.0, 'recall': 0.0, 'f1_score': 0.0, 'jaccard': 0.0, 'jaccard2': 0.0}}\n",
      "The cross-validation performance: {'prediction': {'accuracy': 0.9552941176470588}, 'selection': {'precision': 0.0, 'precision_at_50': 0.0, 'recall': 0.0, 'f1_score': 0.0, 'jaccard': 0.0, 'jaccard2': 0.0}}\n",
      "The cross-validation performance: {'prediction': {'accuracy': 0.9552941176470588}, 'selection': {'precision': 0.0, 'precision_at_50': 0.0, 'recall': 0.0, 'f1_score': 0.0, 'jaccard': 0.0, 'jaccard2': 0.0}}\n",
      "Trait Multiple_Chemical_Sensitivity only\n",
      "The cross-validation performance: {'prediction': {'accuracy': 1.0}, 'selection': {'precision': 0.0, 'precision_at_50': 0.0, 'recall': 0.0, 'f1_score': 0.0, 'jaccard': 0.0, 'jaccard2': 0.0}}\n",
      "The cross-validation performance: {'prediction': {'accuracy': 0.9099999999999999}, 'selection': {'precision': 0.0, 'precision_at_50': 0.0, 'recall': 0.0, 'f1_score': 0.0, 'jaccard': 0.0, 'jaccard2': 0.0}}\n",
      "The cross-validation performance: {'prediction': {'accuracy': 0.8400000000000001}, 'selection': {'precision': 0.0, 'precision_at_50': 0.0, 'recall': 0.0, 'f1_score': 0.0, 'jaccard': 0.0, 'jaccard2': 0.0}}\n",
      "The cross-validation performance: {'prediction': {'accuracy': 0.85}, 'selection': {'precision': 0.0, 'precision_at_50': 0.0, 'recall': 0.0, 'f1_score': 0.0, 'jaccard': 0.0, 'jaccard2': 0.0}}\n",
      "The cross-validation performance: {'prediction': {'accuracy': 0.8400000000000001}, 'selection': {'precision': 0.0, 'precision_at_50': 0.0, 'recall': 0.0, 'f1_score': 0.0, 'jaccard': 0.0, 'jaccard2': 0.0}}\n",
      "The cross-validation performance: {'prediction': {'accuracy': 0.8500000000000002}, 'selection': {'precision': 0.0, 'precision_at_50': 0.0, 'recall': 0.0, 'f1_score': 0.0, 'jaccard': 0.0, 'jaccard2': 0.0}}\n",
      "Trait Multiple_sclerosis only\n",
      "The cross-validation performance: {'prediction': {'accuracy': 0.9666666666666668}, 'selection': {'precision': 0.0, 'precision_at_50': 0.0, 'recall': 0.0, 'f1_score': 0.0, 'jaccard': 0.0, 'jaccard2': 0.0}}\n",
      "The cross-validation performance: {'prediction': {'accuracy': 0.9666666666666666}, 'selection': {'precision': 0.0, 'precision_at_50': 0.0, 'recall': 0.0, 'f1_score': 0.0, 'jaccard': 0.0, 'jaccard2': 0.0}}\n",
      "The cross-validation performance: {'prediction': {'accuracy': 0.7333333333333333}, 'selection': {'precision': 0.0, 'precision_at_50': 0.0, 'recall': 0.0, 'f1_score': 0.0, 'jaccard': 0.0, 'jaccard2': 0.0}}\n",
      "The cross-validation performance: {'prediction': {'accuracy': 0.6666666666666667}, 'selection': {'precision': 0.0, 'precision_at_50': 0.0, 'recall': 0.0, 'f1_score': 0.0, 'jaccard': 0.0, 'jaccard2': 0.0}}\n",
      "The cross-validation performance: {'prediction': {'accuracy': 0.6666666666666667}, 'selection': {'precision': 0.0, 'precision_at_50': 0.0, 'recall': 0.0, 'f1_score': 0.0, 'jaccard': 0.0, 'jaccard2': 0.0}}\n",
      "The cross-validation performance: {'prediction': {'accuracy': 0.6666666666666666}, 'selection': {'precision': 0.0, 'precision_at_50': 0.0, 'recall': 0.0, 'f1_score': 0.0, 'jaccard': 0.0, 'jaccard2': 0.0}}\n",
      "Trait Red_Hair only\n",
      "Error processing trait Red_Hair\n",
      "Trait Adrenocortical_Cancer only\n",
      "The cross-validation performance: {'prediction': {'accuracy': 0.9666666666666666}, 'selection': {'precision': 0.0, 'precision_at_50': 0.0, 'recall': 0.0, 'f1_score': 0.0, 'jaccard': 0.0, 'jaccard2': 0.0}}\n",
      "The cross-validation performance: {'prediction': {'accuracy': 0.9166666666666666}, 'selection': {'precision': 0.0, 'precision_at_50': 0.0, 'recall': 0.0, 'f1_score': 0.0, 'jaccard': 0.0, 'jaccard2': 0.0}}\n",
      "The cross-validation performance: {'prediction': {'accuracy': 0.9166666666666666}, 'selection': {'precision': 0.0, 'precision_at_50': 0.0, 'recall': 0.0, 'f1_score': 0.0, 'jaccard': 0.0, 'jaccard2': 0.0}}\n",
      "The cross-validation performance: {'prediction': {'accuracy': 0.9166666666666666}, 'selection': {'precision': 0.0, 'precision_at_50': 0.0, 'recall': 0.0, 'f1_score': 0.0, 'jaccard': 0.0, 'jaccard2': 0.0}}\n",
      "The cross-validation performance: {'prediction': {'accuracy': 0.9166666666666667}, 'selection': {'precision': 0.0, 'precision_at_50': 0.0, 'recall': 0.0, 'f1_score': 0.0, 'jaccard': 0.0, 'jaccard2': 0.0}}\n",
      "The cross-validation performance: {'prediction': {'accuracy': 0.9333333333333332}, 'selection': {'precision': 0.0, 'precision_at_50': 0.0, 'recall': 0.0, 'f1_score': 0.0, 'jaccard': 0.0, 'jaccard2': 0.0}}\n",
      "Trait Ankylosing_Spondylitis only\n",
      "The cross-validation performance: {'prediction': {'accuracy': 0.8857142857142858}, 'selection': {'precision': 0.013514492753623186, 'precision_at_50': 0.013514492753623186, 'recall': 0.0019672131147540984, 'f1_score': 0.0034321659053768916, 'jaccard': 0.001721005738447599, 'jaccard2': 0.002197802197802198}}\n",
      "The cross-validation performance: {'prediction': {'accuracy': 0.8142857142857143}, 'selection': {'precision': 0.008695652173913044, 'precision_at_50': 0.008695652173913044, 'recall': 0.0006557377049180328, 'f1_score': 0.001219512195121951, 'jaccard': 0.0006116207951070336, 'jaccard2': 0.0}}\n",
      "The cross-validation performance: {'prediction': {'accuracy': 0.7285714285714285}, 'selection': {'precision': 0.0, 'precision_at_50': 0.0, 'recall': 0.0, 'f1_score': 0.0, 'jaccard': 0.0, 'jaccard2': 0.0}}\n",
      "The cross-validation performance: {'prediction': {'accuracy': 0.7142857142857142}, 'selection': {'precision': 0.0, 'precision_at_50': 0.0, 'recall': 0.0, 'f1_score': 0.0, 'jaccard': 0.0, 'jaccard2': 0.0}}\n",
      "The cross-validation performance: {'prediction': {'accuracy': 0.7285714285714286}, 'selection': {'precision': 0.0, 'precision_at_50': 0.0, 'recall': 0.0, 'f1_score': 0.0, 'jaccard': 0.0, 'jaccard2': 0.0}}\n",
      "The cross-validation performance: {'prediction': {'accuracy': 0.7142857142857142}, 'selection': {'precision': 0.0, 'precision_at_50': 0.0, 'recall': 0.0, 'f1_score': 0.0, 'jaccard': 0.0, 'jaccard2': 0.0}}\n",
      "Trait Anxiety_disorder only\n",
      "The cross-validation performance: {'prediction': {'accuracy': 0.6421052631578947}, 'selection': {'precision': 0.0, 'precision_at_50': 0.0, 'recall': 0.0, 'f1_score': 0.0, 'jaccard': 0.0, 'jaccard2': 0.0}}\n",
      "The cross-validation performance: {'prediction': {'accuracy': 0.6631578947368422}, 'selection': {'precision': 0.0, 'precision_at_50': 0.0, 'recall': 0.0, 'f1_score': 0.0, 'jaccard': 0.0, 'jaccard2': 0.0}}\n",
      "The cross-validation performance: {'prediction': {'accuracy': 0.6631578947368422}, 'selection': {'precision': 0.0, 'precision_at_50': 0.0, 'recall': 0.0, 'f1_score': 0.0, 'jaccard': 0.0, 'jaccard2': 0.0}}\n",
      "The cross-validation performance: {'prediction': {'accuracy': 0.6736842105263158}, 'selection': {'precision': 0.0, 'precision_at_50': 0.0, 'recall': 0.0, 'f1_score': 0.0, 'jaccard': 0.0, 'jaccard2': 0.0}}\n",
      "The cross-validation performance: {'prediction': {'accuracy': 0.6684210526315789}, 'selection': {'precision': 0.0, 'precision_at_50': 0.0, 'recall': 0.0, 'f1_score': 0.0, 'jaccard': 0.0, 'jaccard2': 0.0}}\n",
      "The cross-validation performance: {'prediction': {'accuracy': 0.668421052631579}, 'selection': {'precision': 0.0, 'precision_at_50': 0.0, 'recall': 0.0, 'f1_score': 0.0, 'jaccard': 0.0, 'jaccard2': 0.0}}\n",
      "Trait Cardiovascular_Disease only\n",
      "Error processing trait Cardiovascular_Disease\n",
      "Trait Hepatitis only\n",
      "The cross-validation performance: {'prediction': {'accuracy': 0.7371428571428572}, 'selection': {'precision': 0.2535064935064935, 'precision_at_50': 0.2535064935064935, 'recall': 0.2727272727272727, 'f1_score': 0.26185431959345, 'jaccard': 0.1525814536340852, 'jaccard2': 0.1397385620915033}}\n",
      "The cross-validation performance: {'prediction': {'accuracy': 0.7371428571428572}, 'selection': {'precision': 0.2, 'precision_at_50': 0.2, 'recall': 0.01818181818181818, 'f1_score': 0.03333333333333334, 'jaccard': 0.01818181818181818, 'jaccard2': 0.0}}\n",
      "The cross-validation performance: {'prediction': {'accuracy': 0.7428571428571429}, 'selection': {'precision': 0.0, 'precision_at_50': 0.0, 'recall': 0.0, 'f1_score': 0.0, 'jaccard': 0.0, 'jaccard2': 0.0}}\n",
      "The cross-validation performance: {'prediction': {'accuracy': 0.7428571428571429}, 'selection': {'precision': 0.0, 'precision_at_50': 0.0, 'recall': 0.0, 'f1_score': 0.0, 'jaccard': 0.0, 'jaccard2': 0.0}}\n",
      "The cross-validation performance: {'prediction': {'accuracy': 0.7428571428571429}, 'selection': {'precision': 0.0, 'precision_at_50': 0.0, 'recall': 0.0, 'f1_score': 0.0, 'jaccard': 0.0, 'jaccard2': 0.0}}\n",
      "The cross-validation performance: {'prediction': {'accuracy': 0.7428571428571429}, 'selection': {'precision': 0.0, 'precision_at_50': 0.0, 'recall': 0.0, 'f1_score': 0.0, 'jaccard': 0.0, 'jaccard2': 0.0}}\n",
      "Trait Hutchinson-Gilford_Progeria_Syndrome only\n",
      "Error processing trait Hutchinson-Gilford_Progeria_Syndrome\n",
      "Trait Inflammatory_Disorders only\n",
      "The cross-validation performance: {'prediction': {'accuracy': 0.8615384615384617}, 'selection': {'precision': 0.050991013724748, 'precision_at_50': 0.048, 'recall': 0.0033632286995515697, 'f1_score': 0.0063092117988585664, 'jaccard': 0.00316547070451311, 'jaccard2': 0.0}}\n",
      "The cross-validation performance: {'prediction': {'accuracy': 0.876923076923077}, 'selection': {'precision': 0.0553968253968254, 'precision_at_50': 0.0553968253968254, 'recall': 0.0011210762331838565, 'f1_score': 0.0021968510169974092, 'jaccard': 0.0011010824839390017, 'jaccard2': 0.0}}\n",
      "The cross-validation performance: {'prediction': {'accuracy': 0.7230769230769231}, 'selection': {'precision': 0.0, 'precision_at_50': 0.0, 'recall': 0.0, 'f1_score': 0.0, 'jaccard': 0.0, 'jaccard2': 0.0}}\n",
      "The cross-validation performance: {'prediction': {'accuracy': 0.7307692307692308}, 'selection': {'precision': 0.0, 'precision_at_50': 0.0, 'recall': 0.0, 'f1_score': 0.0, 'jaccard': 0.0, 'jaccard2': 0.0}}\n",
      "The cross-validation performance: {'prediction': {'accuracy': 0.723076923076923}, 'selection': {'precision': 0.0, 'precision_at_50': 0.0, 'recall': 0.0, 'f1_score': 0.0, 'jaccard': 0.0, 'jaccard2': 0.0}}\n",
      "The cross-validation performance: {'prediction': {'accuracy': 0.7230769230769231}, 'selection': {'precision': 0.0, 'precision_at_50': 0.0, 'recall': 0.0, 'f1_score': 0.0, 'jaccard': 0.0, 'jaccard2': 0.0}}\n",
      "Trait Kidney_Chromophobe only\n"
     ]
    },
    {
     "name": "stderr",
     "output_type": "stream",
     "text": [
      "/home/techt/anaconda3/envs/hl/lib/python3.8/site-packages/sklearn/linear_model/_coordinate_descent.py:628: ConvergenceWarning: Objective did not converge. You might want to increase the number of iterations, check the scale of the features or consider increasing regularisation. Duality gap: 1.851e-03, tolerance: 1.496e-03\n",
      "  model = cd_fast.enet_coordinate_descent(\n",
      "/home/techt/anaconda3/envs/hl/lib/python3.8/site-packages/sklearn/linear_model/_coordinate_descent.py:628: ConvergenceWarning: Objective did not converge. You might want to increase the number of iterations, check the scale of the features or consider increasing regularisation. Duality gap: 1.701e-03, tolerance: 1.575e-03\n",
      "  model = cd_fast.enet_coordinate_descent(\n"
     ]
    },
    {
     "name": "stdout",
     "output_type": "stream",
     "text": [
      "The cross-validation performance: {'prediction': {'accuracy': 1.0}, 'selection': {'precision': 0.0, 'precision_at_50': 0.0, 'recall': 0.0, 'f1_score': 0.0, 'jaccard': 0.0, 'jaccard2': 0.0}}\n",
      "The cross-validation performance: {'prediction': {'accuracy': 1.0}, 'selection': {'precision': 0.0, 'precision_at_50': 0.0, 'recall': 0.0, 'f1_score': 0.0, 'jaccard': 0.0, 'jaccard2': 0.0}}\n",
      "The cross-validation performance: {'prediction': {'accuracy': 0.7777777777777778}, 'selection': {'precision': 0.0, 'precision_at_50': 0.0, 'recall': 0.0, 'f1_score': 0.0, 'jaccard': 0.0, 'jaccard2': 0.0}}\n",
      "The cross-validation performance: {'prediction': {'accuracy': 0.7222222222222221}, 'selection': {'precision': 0.0, 'precision_at_50': 0.0, 'recall': 0.0, 'f1_score': 0.0, 'jaccard': 0.0, 'jaccard2': 0.0}}\n",
      "The cross-validation performance: {'prediction': {'accuracy': 0.7333333333333334}, 'selection': {'precision': 0.0, 'precision_at_50': 0.0, 'recall': 0.0, 'f1_score': 0.0, 'jaccard': 0.0, 'jaccard2': 0.0}}\n",
      "The cross-validation performance: {'prediction': {'accuracy': 0.7222222222222223}, 'selection': {'precision': 0.0, 'precision_at_50': 0.0, 'recall': 0.0, 'f1_score': 0.0, 'jaccard': 0.0, 'jaccard2': 0.0}}\n",
      "Trait Kidney_Papillary_Cell_Carcinoma only\n",
      "The cross-validation performance: {'prediction': {'accuracy': 0.99375}, 'selection': {'precision': 0.021637426900584796, 'precision_at_50': 0.021637426900584796, 'recall': 0.0005755395683453237, 'f1_score': 0.0011212339073076636, 'jaccard': 0.000561403785240399, 'jaccard2': 0.0}}\n"
     ]
    }
   ],
   "source": [
    "gene_info_path = './trait_related_genes.csv'\n",
    "data_root = '/home/techt/Desktop/a4s/gold_subset'\n",
    "output_root = './output'\n",
    "\n",
    "suc = 0\n",
    "condition=None\n",
    "performance_ls = []\n",
    "\n",
    "for trait in all_traits:\n",
    "    print(f\"Trait {trait} only\")\n",
    "    output_dir = os.path.join(output_root, trait)\n",
    "    os.makedirs(output_dir, exist_ok=True)\n",
    "    try:\n",
    "        trait_data, _, _ = select_and_load_cohort(data_root, trait, is_two_step=False)\n",
    "        redundant_col = ['Age', 'Gender']\n",
    "        trait_data = trait_data.drop(columns=[redundant_col], errors=\"ignore\")\n",
    "\n",
    "        Y = trait_data[trait].values\n",
    "        Z = None\n",
    "        X = trait_data.drop(columns=[trait]).values\n",
    "\n",
    "        has_batch_effect = detect_batch_effect(X)\n",
    "        if False: #has_batch_effect:\n",
    "            model_constructor = VariableSelection\n",
    "            fixed_params = {'modified': True}\n",
    "            tune_params = {'lamda': [3e-6, 1e-5, 3e-5, 1e-4, 3e-4, 1e-3]}\n",
    "        else:\n",
    "            model_constructor = Lasso\n",
    "            fixed_params = {'random_state': 42}\n",
    "            tune_params = {'alpha': [0.03, 0.1, 0.3, 1, 3, 10]}\n",
    "\n",
    "        best_config, best_performance_metrics = tune_hyperparameters(model_constructor, fixed_params, tune_params, X, Y, trait_data.columns, trait, gene_info_path, condition, Z)\n",
    "        performance_ls.append(best_performance_metrics)\n",
    "        model = ResidualizationRegressor(model_constructor, best_config)\n",
    "        normalized_X, _ = normalize_data(X)\n",
    "        model.fit(normalized_X, Y)\n",
    "\n",
    "        var_names = trait_data.columns.tolist()\n",
    "        threshold = 0.05\n",
    "        interpret_result(model, var_names, trait, condition, threshold=threshold, save_output=True,\n",
    "                         output_dir=output_dir)\n",
    "        suc += 1\n",
    "    except:\n",
    "        print(f\"Error processing trait {trait}\")\n",
    "        continue\n"
   ],
   "metadata": {
    "collapsed": false,
    "is_executing": true,
    "ExecuteTime": {
     "start_time": "2024-05-13T19:11:54.879218544Z"
    }
   }
  },
  {
   "cell_type": "code",
   "execution_count": null,
   "outputs": [],
   "source": [
    "prec = [p['selection']['precision'] for p in performance_ls]"
   ],
   "metadata": {
    "collapsed": false
   }
  },
  {
   "cell_type": "code",
   "execution_count": null,
   "outputs": [],
   "source": [
    "np.mean(prec)"
   ],
   "metadata": {
    "collapsed": false
   }
  },
  {
   "cell_type": "code",
   "execution_count": null,
   "outputs": [],
   "source": [
    "performance_ls"
   ],
   "metadata": {
    "collapsed": false
   }
  },
  {
   "cell_type": "code",
   "execution_count": null,
   "outputs": [],
   "source": [
    "prec = [p['selection']['jaccard'] for p in performance_ls]\n",
    "np.mean(prec)"
   ],
   "metadata": {
    "collapsed": false
   }
  },
  {
   "cell_type": "code",
   "execution_count": null,
   "outputs": [],
   "source": [
    "gene_info_path = './trait_related_genes.csv'\n",
    "data_root = '/home/techt/Desktop/a4s/gold_subset'\n",
    "output_root = './output'\n",
    "\n",
    "for i, (index, row) in enumerate(pairs.iterrows()):\n",
    "    try:\n",
    "        trait, condition = row['Trait'], row['Condition']\n",
    "        output_dir = os.path.join(output_root, trait)\n",
    "        os.makedirs(output_dir, exist_ok=True)\n",
    "\n",
    "        if condition in ['Age', 'Gender']:\n",
    "            continue\n",
    "            trait_data, _, _ = select_and_load_cohort(data_root, trait, is_two_step=False)\n",
    "            redundant_col = 'Age' if condition == 'Gender' else 'Gender'\n",
    "            if redundant_col in trait_data.columns:\n",
    "                trait_data = trait_data.drop(columns=[redundant_col])\n",
    "\n",
    "            Y = trait_data[trait].values\n",
    "            Z = trait_data[condition].values\n",
    "            X = trait_data.drop(columns=[trait, condition]).values\n",
    "\n",
    "            has_batch_effect = detect_batch_effect(X)\n",
    "            if has_batch_effect:\n",
    "                model_constructor = VariableSelection\n",
    "                fixed_params = {'modified': True}\n",
    "                tune_params = {'lamda': [3e-6, 1e-5, 3e-5, 1e-4, 3e-4, 1e-3]}\n",
    "            else:\n",
    "                model_constructor = Lasso\n",
    "                fixed_params = {'random_state': 42}\n",
    "                tune_params = {'alpha': [1e-2, 1e-1, 1, 10]}\n",
    "\n",
    "            best_config, best_performance_metrics = tune_hyperparameters(model_constructor, fixed_params, tune_params, X, Y, trait_data.columns, trait, gene_info_path, condition, Z)\n",
    "\n",
    "            model = ResidualizationRegressor(model_constructor, best_config)\n",
    "            normalized_X, _ = normalize_data(X)\n",
    "            normalized_Z, _ = normalize_data(Z)\n",
    "            model.fit(normalized_X, Y, normalized_Z)\n",
    "\n",
    "            var_names = trait_data.columns.tolist()\n",
    "            threshold = 0.05\n",
    "            interpret_result(model, var_names, trait, condition, threshold=threshold, save_output=True,\n",
    "                             output_dir=output_dir)\n",
    "\n",
    "        else:\n",
    "            # if trait != 'Inflammatory_Disorders' or condition != 'Lung_Cancer': continue\n",
    "            trait_data, condition_data, regressors = select_and_load_cohort(data_root, trait, condition, is_two_step=True, gene_info_path=gene_info_path)\n",
    "            if regressors is None:\n",
    "                print(f'No gene regressors for trait {trait} and condition {condition}')\n",
    "                continue\n",
    "\n",
    "            print(\"Common gene regressors for condition and trait\", regressors)\n",
    "            X_condition = condition_data[regressors].values\n",
    "            Y_condition = condition_data[condition].values\n",
    "\n",
    "            condition_type = 'binary' if len(np.unique(Y_condition)) == 2 else 'continuous'\n",
    "\n",
    "            if condition_type == 'binary':\n",
    "                if X_condition.shape[1] > X_condition.shape[0]:\n",
    "                    model = LogisticRegression(penalty='l1', solver='liblinear', random_state=42)\n",
    "                else:\n",
    "                    model = LogisticRegression()\n",
    "            else:\n",
    "                if X_condition.shape[1] > X_condition.shape[0]:\n",
    "                    model = Lasso()\n",
    "                else:\n",
    "                    model = LinearRegression()\n",
    "\n",
    "            normalized_X_condition, _ = normalize_data(X_condition)\n",
    "            model.fit(normalized_X_condition, Y_condition)\n",
    "\n",
    "            regressors_in_trait = trait_data[regressors].values\n",
    "            normalized_regressors_in_trait, _ = normalize_data(regressors_in_trait)\n",
    "            if condition_type == 'binary':\n",
    "                predicted_condition = model.predict_proba(normalized_regressors_in_trait)[:, 1]\n",
    "            else:\n",
    "                predicted_condition = model.predict(normalized_regressors_in_trait)\n",
    "\n",
    "            trait_data[condition] = predicted_condition\n",
    "            trait_data = trait_data.drop(columns=regressors)\n",
    "            trait_data = trait_data.drop(columns=['Age', 'Gender'], errors='ignore')\n",
    "\n",
    "            Y = trait_data[trait].values\n",
    "            Z = trait_data[condition].values\n",
    "            X = trait_data.drop(columns=[trait, condition]).values\n",
    "\n",
    "            has_batch_effect = detect_batch_effect(X)\n",
    "            if has_batch_effect:\n",
    "                model_constructor = VariableSelection\n",
    "                fixed_params = {'modified': True}\n",
    "                tune_params = {'lamda': [3e-6, 1e-5, 3e-5, 1e-4, 3e-4, 1e-3]}\n",
    "            else:\n",
    "                model_constructor = Lasso\n",
    "                fixed_params = {'random_state': 42}\n",
    "                tune_params = {'alpha': [1e-2, 1e-1, 1, 10]}\n",
    "\n",
    "            best_config, best_performance_metrics = tune_hyperparameters(model_constructor, fixed_params, tune_params, X, Y, trait_data.columns, trait, gene_info_path, condition, Z)\n",
    "\n",
    "            model = ResidualizationRegressor(model_constructor, best_config)\n",
    "            normalized_X, _ = normalize_data(X)\n",
    "            normalized_Z, _ = normalize_data(Z)\n",
    "            model.fit(normalized_X, Y, normalized_Z)\n",
    "\n",
    "            var_names = trait_data.columns.tolist()\n",
    "            threshold = 0.05\n",
    "            interpret_result(model, var_names, trait, condition, threshold=threshold, save_output=True,\n",
    "                             output_dir=output_dir)\n",
    "    except Exception as e:\n",
    "        print(f\"Error processing row {i}, for the trait '{trait}' and the condition '{condition}'\\n: {e}\")\n",
    "        continue\n"
   ],
   "metadata": {
    "collapsed": false
   }
  },
  {
   "cell_type": "code",
   "execution_count": null,
   "outputs": [],
   "source": [],
   "metadata": {
    "collapsed": false
   }
  }
 ],
 "metadata": {
  "kernelspec": {
   "display_name": "Python 3",
   "language": "python",
   "name": "python3"
  },
  "language_info": {
   "codemirror_mode": {
    "name": "ipython",
    "version": 2
   },
   "file_extension": ".py",
   "mimetype": "text/x-python",
   "name": "python",
   "nbconvert_exporter": "python",
   "pygments_lexer": "ipython2",
   "version": "2.7.6"
  }
 },
 "nbformat": 4,
 "nbformat_minor": 0
}
