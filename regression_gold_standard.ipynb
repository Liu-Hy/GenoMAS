{
 "cells": [
  {
   "cell_type": "code",
   "execution_count": null,
   "metadata": {
    "collapsed": true
   },
   "outputs": [],
   "source": [
    "import pandas as pd\n",
    "import os\n",
    "import json\n",
    "import ast\n",
    "from utils import *"
   ]
  },
  {
   "cell_type": "code",
   "execution_count": null,
   "outputs": [],
   "source": [
    "# traits = pd.read_csv(\"latest_task.csv\")['Trait'].tolist()\n",
    "pairs = pd.read_csv(\"trait_condition_pairs.csv\")"
   ],
   "metadata": {
    "collapsed": false
   }
  },
  {
   "cell_type": "code",
   "execution_count": null,
   "outputs": [],
   "source": [
    "def normalize_trait(trait):\n",
    "    trait = '-'.join(trait.split())\n",
    "    normalized_trait = ''.join(trait.split(\"'\"))\n",
    "    return normalized_trait"
   ],
   "metadata": {
    "collapsed": false
   }
  },
  {
   "cell_type": "code",
   "execution_count": null,
   "outputs": [],
   "source": [
    "rel = pd.read_csv(\"trait_related_genes.csv\").drop(columns=[\"Unnamed: 0\"])\n",
    "rel['Related_Genes'] = rel['Related_Genes'].apply(ast.literal_eval)\n",
    "t2g = pd.Series(rel['Related_Genes'].values, index=rel['Trait']).to_dict()  # the mapping from trait to genes"
   ],
   "metadata": {
    "collapsed": false
   }
  },
  {
   "cell_type": "code",
   "execution_count": null,
   "outputs": [],
   "source": [
    "t2g"
   ],
   "metadata": {
    "collapsed": false
   }
  },
  {
   "cell_type": "code",
   "execution_count": null,
   "outputs": [],
   "source": [
    "suc = 0\n",
    "for i, (index, row) in enumerate(pairs.iterrows()):\n",
    "    try:\n",
    "        trait, condition = row['Trait'], row['Condition']\n",
    "        # if trait not in ['Hypertension'] or condition != 'Age': continue #'Lung Cancer',\n",
    "        nm_trait = normalize_trait(trait)\n",
    "        nm_condition = normalize_trait(condition)\n",
    "        print(nm_trait, nm_condition)\n",
    "        trait_dir = os.path.join('/home/techt/Desktop/a4s/gold_subset', nm_trait)\n",
    "        output_dir = os.path.join('./output', nm_trait)\n",
    "        os.makedirs(output_dir, exist_ok=True)\n",
    "\n",
    "        if suc >= 10:\n",
    "            break\n",
    "\n",
    "        if condition in ['Age', 'Gender']:\n",
    "            trait_cohort_id, _ = filter_and_rank_cohorts(os.path.join(trait_dir, 'cohort_info.json'), condition)\n",
    "            trait_data_path = os.path.join(trait_dir, trait_cohort_id + '.csv')\n",
    "            trait_data = pd.read_csv(trait_data_path).astype('float')\n",
    "            remove_col = 'Age' if condition == 'Gender' else 'Gender'\n",
    "            if remove_col in trait_data.columns:\n",
    "                trait_data = trait_data.drop(columns=[remove_col])\n",
    "\n",
    "            X = trait_data.drop(columns=[trait, condition]).values\n",
    "            Y = trait_data[trait].values\n",
    "            Z = trait_data[condition].values\n",
    "\n",
    "            has_batch_effect = detect_batch_effect(X)\n",
    "            if has_batch_effect:\n",
    "                model_constructor = VariableSelection\n",
    "                model_params = {'modified': True, 'lamda': 3e-4}\n",
    "            else:\n",
    "                model_constructor = Lasso\n",
    "                model_params = {'alpha': 1.0, 'random_state': 42}\n",
    "\n",
    "            trait_type = 'binary' if len(np.unique(Y)) == 2 else 'continuous'\n",
    "            cv_mean, cv_std = cross_validation(X, Y, Z, model_constructor, model_params, target_type=trait_type)\n",
    "\n",
    "            normalized_X, _ = normalize_data(X)\n",
    "            normalized_Z, _ = normalize_data(Z)\n",
    "\n",
    "            model = ResidualizationRegressor(model_constructor, model_params)\n",
    "            model.fit(normalized_X, Y, normalized_Z)\n",
    "\n",
    "            feature_cols = trait_data.columns.tolist()\n",
    "            feature_cols.remove(trait)\n",
    "            threshold = 0.05\n",
    "            interpret_result(model, feature_cols, trait, condition, threshold=threshold, save_output=True,\n",
    "                             output_dir=output_dir)\n",
    "            suc += 1\n",
    "\n",
    "        else:\n",
    "            condition_dir = os.path.join('/home/techt/Desktop/a4s/gold_subset', nm_condition)\n",
    "            trait_cohort_id, _ = filter_and_rank_cohorts(os.path.join(trait_dir, 'cohort_info.json'))\n",
    "            condition_cohort_id, _ = filter_and_rank_cohorts(os.path.join(condition_dir, 'cohort_info.json'))\n",
    "            trait_data_path = os.path.join(trait_dir, trait_cohort_id + '.csv')\n",
    "            condition_data_path = os.path.join(condition_dir, condition_cohort_id + '.csv')\n",
    "\n",
    "            trait_data = pd.read_csv(trait_data_path).astype('float')\n",
    "            condition_data = pd.read_csv(condition_data_path).astype('float')\n",
    "\n",
    "            related_genes = t2g[condition]\n",
    "            regressors = get_gene_regressors(trait, trait_data, condition_data, related_genes)\n",
    "            if regressors is None:\n",
    "                print(f'No gene regressors for trait {trait} and condition {condition}')\n",
    "                continue\n",
    "\n",
    "            print(\"Common gene regressors for condition and trait\", regressors)\n",
    "            X_condition = condition_data[regressors].values\n",
    "            Y_condition = condition_data[condition].values\n",
    "\n",
    "            condition_type = 'binary' if len(np.unique(Y_condition)) == 2 else 'continuous'\n",
    "\n",
    "            if condition_type == 'binary':\n",
    "                if X_condition.shape[1] > X_condition.shape[0]:\n",
    "                    model = LogisticRegression(penalty='l1', solver='liblinear', random_state=42)\n",
    "                else:\n",
    "                    model = LogisticRegression()\n",
    "            else:\n",
    "                if X_condition.shape[1] > X_condition.shape[0]:\n",
    "                    model = Lasso()\n",
    "                else:\n",
    "                    model = LinearRegression()\n",
    "\n",
    "            normalized_X_condition, _ = normalize_data(X_condition)\n",
    "            model.fit(normalized_X_condition, Y_condition)\n",
    "\n",
    "            regressors_in_trait = trait_data[regressors].values\n",
    "            normalized_regressors_in_trait, _ = normalize_data(regressors_in_trait)\n",
    "            if condition_type == 'binary':\n",
    "                predicted_condition = model.predict_proba(normalized_regressors_in_trait)[:, 1]\n",
    "            else:\n",
    "                predicted_condition = model.predict(normalized_regressors_in_trait)\n",
    "\n",
    "            trait_data[condition] = predicted_condition\n",
    "            trait_data = trait_data.drop(columns=regressors)\n",
    "            trait_data = trait_data.drop(columns=['Age', 'Gender'], errors='ignore')\n",
    "\n",
    "            X = trait_data.drop(columns=[trait, condition]).values\n",
    "            Y = trait_data[trait].values\n",
    "            Z = trait_data[condition].values\n",
    "\n",
    "            has_batch_effect = detect_batch_effect(X)\n",
    "            if has_batch_effect:\n",
    "                model_constructor = VariableSelection\n",
    "                model_params = {'modified': True, 'lamda': 3e-4}\n",
    "            else:\n",
    "                model_constructor = Lasso\n",
    "                model_params = {'alpha': 1.0, 'random_state': 42}\n",
    "\n",
    "            trait_type = 'binary' if len(np.unique(Y)) == 2 else 'continuous'\n",
    "            cv_mean, cv_std = cross_validation(X, Y, Z, model_constructor, model_params, target_type=trait_type)\n",
    "\n",
    "            normalized_X, _ = normalize_data(X)\n",
    "            normalized_Z, _ = normalize_data(Z)\n",
    "\n",
    "            model = ResidualizationRegressor(model_constructor, model_params)\n",
    "            model.fit(normalized_X, Y, normalized_Z)\n",
    "\n",
    "            feature_cols = trait_data.columns.tolist()\n",
    "            feature_cols.remove(trait)\n",
    "            threshold = 0.05\n",
    "            interpret_result(model, feature_cols, trait, condition, threshold=threshold, save_output=True,\n",
    "                             output_dir=output_dir)\n",
    "            suc += 1\n",
    "    except Exception as e:\n",
    "        print(f\"Error processing row {i}, for the trait '{trait}' and the condition '{condition}'\\n: {e}\")\n",
    "        continue\n",
    "\n"
   ],
   "metadata": {
    "collapsed": false
   }
  },
  {
   "cell_type": "code",
   "execution_count": null,
   "outputs": [],
   "source": [
    "p = pd.read_csv('data/preprocessed/Lung-Cancer/Xena.csv')"
   ],
   "metadata": {
    "collapsed": false
   }
  },
  {
   "cell_type": "code",
   "execution_count": null,
   "outputs": [],
   "source": [
    "p.columns"
   ],
   "metadata": {
    "collapsed": false
   }
  },
  {
   "cell_type": "code",
   "execution_count": null,
   "outputs": [],
   "source": [
    "\"\"\"data_dir = './preprocessed'\n",
    "for trait in os.listdir(data_dir):\n",
    "    trait_dir = os.path.join(data_dir, trait)\n",
    "    json_path = os.path.join(trait_dir, 'cohort_info.json')\n",
    "    assert os.path.isfile(json_path)\n",
    "    best_cohort_id, _ = filter_and_rank_cohorts(json_path)\n",
    "    trait_data = os.path.join(trait_dir, best_cohort_id)\n",
    "\"\"\"\n"
   ],
   "metadata": {
    "collapsed": false
   }
  },
  {
   "cell_type": "code",
   "execution_count": null,
   "outputs": [],
   "source": [],
   "metadata": {
    "collapsed": false
   }
  }
 ],
 "metadata": {
  "kernelspec": {
   "display_name": "Python 3",
   "language": "python",
   "name": "python3"
  },
  "language_info": {
   "codemirror_mode": {
    "name": "ipython",
    "version": 2
   },
   "file_extension": ".py",
   "mimetype": "text/x-python",
   "name": "python",
   "nbconvert_exporter": "python",
   "pygments_lexer": "ipython2",
   "version": "2.7.6"
  }
 },
 "nbformat": 4,
 "nbformat_minor": 0
}
