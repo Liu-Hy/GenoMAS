{
 "cells": [
  {
   "cell_type": "code",
   "execution_count": 8,
   "metadata": {
    "collapsed": true,
    "ExecuteTime": {
     "end_time": "2024-05-14T19:57:17.558779361Z",
     "start_time": "2024-05-14T19:57:17.558578255Z"
    }
   },
   "outputs": [],
   "source": [
    "import pandas as pd\n",
    "import os\n",
    "import json\n",
    "import ast\n",
    "from utils import *"
   ]
  },
  {
   "cell_type": "code",
   "execution_count": 9,
   "outputs": [],
   "source": [
    "pairs = pd.read_csv(\"trait_condition_pairs.csv\")"
   ],
   "metadata": {
    "collapsed": false,
    "ExecuteTime": {
     "end_time": "2024-05-14T19:57:17.750160029Z",
     "start_time": "2024-05-14T19:57:17.743118421Z"
    }
   }
  },
  {
   "cell_type": "code",
   "execution_count": 10,
   "outputs": [],
   "source": [
    "all_traits = pd.read_csv(\"all_traits.csv\")[\"Trait\"].tolist()\n",
    "all_traits = [normalize_trait(at) for at in all_traits]"
   ],
   "metadata": {
    "collapsed": false,
    "ExecuteTime": {
     "end_time": "2024-05-14T19:57:17.970681602Z",
     "start_time": "2024-05-14T19:57:17.924514826Z"
    }
   }
  },
  {
   "cell_type": "code",
   "execution_count": 11,
   "outputs": [],
   "source": [
    "rel = pd.read_csv(\"trait_related_genes.csv\")\n",
    "rel['Related_Genes'] = rel['Related_Genes'].apply(ast.literal_eval)\n",
    "t2g = pd.Series(rel['Related_Genes'].values, index=rel['Trait']).to_dict()  # the mapping from trait to genes"
   ],
   "metadata": {
    "collapsed": false,
    "ExecuteTime": {
     "end_time": "2024-05-14T19:57:18.264687107Z",
     "start_time": "2024-05-14T19:57:18.187290978Z"
    }
   }
  },
  {
   "cell_type": "code",
   "execution_count": 12,
   "outputs": [
    {
     "name": "stdout",
     "output_type": "stream",
     "text": [
      "Trait Heart_rate only\n",
      "The gene info file does not contain genes related to the feature 'Heart_rate'.\n",
      "Error processing trait Heart_rate\n"
     ]
    }
   ],
   "source": [
    "gene_info_path = './trait_related_genes.csv'\n",
    "data_root = '/home/techt/Desktop/a4s/gold_subset'\n",
    "output_root = './output2'\n",
    "\n",
    "condition = None\n",
    "\n",
    "for trait in all_traits:\n",
    "    print(f\"Trait {trait} only\")\n",
    "    output_dir = os.path.join(output_root, trait)\n",
    "    os.makedirs(output_dir, exist_ok=True)\n",
    "    try:\n",
    "        trait_data, _, _ = select_and_load_cohort(data_root, trait, is_two_step=False)\n",
    "        trait_data = trait_data.drop(columns=['Age', 'Gender'], errors=\"ignore\")\n",
    "\n",
    "        Y = trait_data[trait].values\n",
    "        Z = None\n",
    "        X = trait_data.drop(columns=[trait]).values\n",
    "\n",
    "        has_batch_effect = detect_batch_effect(X)\n",
    "        if not has_batch_effect:\n",
    "            model_constructor = VariableSelection\n",
    "            fixed_params = {}\n",
    "            tune_params = {'lamda': [1e-5, 1e-4, 1e-3, 1e-2, 1e-1, 1, 10]}\n",
    "        else:\n",
    "            model_constructor = Lasso\n",
    "            fixed_params = {}\n",
    "            tune_params = {'alpha': [1e-5, 1e-4, 1e-3, 1e-2, 1e-1, 1, 10]}\n",
    "\n",
    "        best_config, best_performance = tune_hyperparameters(model_constructor, fixed_params, tune_params, X, Y, trait_data.columns, trait, gene_info_path, condition, Z)\n",
    "        model = ResidualizationRegressor(model_constructor, best_config)\n",
    "        normalized_X, _ = normalize_data(X)\n",
    "        model.fit(normalized_X, Y)\n",
    "\n",
    "        var_names = trait_data.columns.tolist()\n",
    "        significant_genes = interpret_result(model, var_names, trait, condition)\n",
    "        save_result(condition, significant_genes, best_performance, output_dir)\n",
    "\n",
    "    except:\n",
    "        print(f\"Error processing trait {trait}\")\n",
    "        continue"
   ],
   "metadata": {
    "collapsed": false,
    "ExecuteTime": {
     "end_time": "2024-05-14T19:57:19.086736383Z",
     "start_time": "2024-05-14T19:57:18.732597821Z"
    }
   }
  },
  {
   "cell_type": "code",
   "execution_count": null,
   "outputs": [],
   "source": [
    "gene_info_path = './trait_related_genes.csv'\n",
    "data_root = '/home/techt/Desktop/a4s/gold_subset'\n",
    "output_root = './output2'\n",
    "\n",
    "for i, (index, row) in enumerate(pairs.iterrows()):\n",
    "    try:\n",
    "        trait, condition = row['Trait'], row['Condition']\n",
    "        output_dir = os.path.join(output_root, trait)\n",
    "        os.makedirs(output_dir, exist_ok=True)\n",
    "\n",
    "        if condition in ['Age', 'Gender']:\n",
    "            trait_data, _, _ = select_and_load_cohort(data_root, trait, condition, is_two_step=False)\n",
    "            redundant_col = 'Age' if condition == 'Gender' else 'Gender'\n",
    "            if redundant_col in trait_data.columns:\n",
    "                trait_data = trait_data.drop(columns=[redundant_col])\n",
    "\n",
    "            Y = trait_data[trait].values\n",
    "            Z = trait_data[condition].values\n",
    "            X = trait_data.drop(columns=[trait, condition]).values\n",
    "\n",
    "            has_batch_effect = detect_batch_effect(X)\n",
    "            if has_batch_effect:\n",
    "                model_constructor = VariableSelection\n",
    "                fixed_params = {}\n",
    "                tune_params = {'lamda': [1e-5, 1e-4, 1e-3, 1e-2, 1e-1, 1, 10]}\n",
    "            else:\n",
    "                model_constructor = Lasso\n",
    "                fixed_params = {}\n",
    "                tune_params = {'alpha': [1e-5, 1e-4, 1e-3, 1e-2, 1e-1, 1, 10]}\n",
    "\n",
    "            best_config, best_performance = tune_hyperparameters(model_constructor, fixed_params, tune_params, X, Y, trait_data.columns, trait, gene_info_path, condition, Z)\n",
    "\n",
    "            model = ResidualizationRegressor(model_constructor, best_config)\n",
    "            normalized_X, _ = normalize_data(X)\n",
    "            normalized_Z, _ = normalize_data(Z)\n",
    "            model.fit(normalized_X, Y, normalized_Z)\n",
    "\n",
    "            var_names = trait_data.columns.tolist()\n",
    "            interpret_result(model, var_names, trait, condition)\n",
    "            save_result(condition, significant_genes, best_performance, output_dir)\n",
    "\n",
    "        else:\n",
    "            trait_data, condition_data, regressors = select_and_load_cohort(data_root, trait, condition, is_two_step=True, gene_info_path=gene_info_path)\n",
    "            if regressors is None:\n",
    "                print(f'No gene regressors for trait {trait} and condition {condition}')\n",
    "                continue\n",
    "\n",
    "            print(\"Common gene regressors for condition and trait\", regressors)\n",
    "            X_condition = condition_data[regressors].values\n",
    "            Y_condition = condition_data[condition].values\n",
    "\n",
    "            condition_type = 'binary' if len(np.unique(Y_condition)) == 2 else 'continuous'\n",
    "\n",
    "            if condition_type == 'binary':\n",
    "                if X_condition.shape[1] > X_condition.shape[0]:\n",
    "                    model = LogisticRegression(penalty='l1', solver='liblinear', random_state=42)\n",
    "                else:\n",
    "                    model = LogisticRegression()\n",
    "            else:\n",
    "                if X_condition.shape[1] > X_condition.shape[0]:\n",
    "                    model = Lasso()\n",
    "                else:\n",
    "                    model = LinearRegression()\n",
    "\n",
    "            normalized_X_condition, _ = normalize_data(X_condition)\n",
    "            model.fit(normalized_X_condition, Y_condition)\n",
    "\n",
    "            regressors_in_trait = trait_data[regressors].values\n",
    "            normalized_regressors_in_trait, _ = normalize_data(regressors_in_trait)\n",
    "            if condition_type == 'binary':\n",
    "                predicted_condition = model.predict_proba(normalized_regressors_in_trait)[:, 1]\n",
    "            else:\n",
    "                predicted_condition = model.predict(normalized_regressors_in_trait)\n",
    "\n",
    "            trait_data[condition] = predicted_condition\n",
    "            trait_data = trait_data.drop(columns=regressors)\n",
    "            trait_data = trait_data.drop(columns=['Age', 'Gender'], errors='ignore')\n",
    "\n",
    "            Y = trait_data[trait].values\n",
    "            Z = trait_data[condition].values\n",
    "            X = trait_data.drop(columns=[trait, condition]).values\n",
    "\n",
    "            has_batch_effect = detect_batch_effect(X)\n",
    "            if has_batch_effect:\n",
    "                model_constructor = VariableSelection\n",
    "                fixed_params = {}\n",
    "                tune_params = {'lamda': [1e-5, 1e-4, 1e-3, 1e-2, 1e-1, 1, 10]}\n",
    "            else:\n",
    "                model_constructor = Lasso\n",
    "                fixed_params = {}\n",
    "                tune_params = {'alpha': [1e-5, 1e-4, 1e-3, 1e-2, 1e-1, 1, 10]}\n",
    "\n",
    "            best_config, best_performance = tune_hyperparameters(model_constructor, fixed_params, tune_params, X, Y, trait_data.columns, trait, gene_info_path, condition, Z)\n",
    "\n",
    "            model = ResidualizationRegressor(model_constructor, best_config)\n",
    "            normalized_X, _ = normalize_data(X)\n",
    "            normalized_Z, _ = normalize_data(Z)\n",
    "            model.fit(normalized_X, Y, normalized_Z)\n",
    "\n",
    "            var_names = trait_data.columns.tolist()\n",
    "            interpret_result(model, var_names, trait, condition)\n",
    "            save_result(condition, significant_genes, best_performance, output_dir)\n",
    "    except Exception as e:\n",
    "        print(f\"Error processing row {i}, for the trait '{trait}' and the condition '{condition}'\\n: {e}\")\n",
    "        continue\n"
   ],
   "metadata": {
    "collapsed": false
   }
  },
  {
   "cell_type": "code",
   "execution_count": null,
   "outputs": [],
   "source": [],
   "metadata": {
    "collapsed": false
   }
  }
 ],
 "metadata": {
  "kernelspec": {
   "display_name": "Python 3",
   "language": "python",
   "name": "python3"
  },
  "language_info": {
   "codemirror_mode": {
    "name": "ipython",
    "version": 2
   },
   "file_extension": ".py",
   "mimetype": "text/x-python",
   "name": "python",
   "nbconvert_exporter": "python",
   "pygments_lexer": "ipython2",
   "version": "2.7.6"
  }
 },
 "nbformat": 4,
 "nbformat_minor": 0
}
