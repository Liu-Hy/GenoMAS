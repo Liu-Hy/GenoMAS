{
 "cells": [
  {
   "cell_type": "code",
   "execution_count": 1,
   "metadata": {
    "ExecuteTime": {
     "end_time": "2024-06-04T19:36:57.814597850Z",
     "start_time": "2024-06-04T19:36:57.412383980Z"
    },
    "collapsed": true
   },
   "outputs": [],
   "source": [
    "import pandas as pd\n",
    "import os\n",
    "import re\n",
    "from utils.preprocess import normalize_gene_symbols\n",
    "from utils.statistics import normalize_trait\n",
    "import ast"
   ]
  },
  {
   "cell_type": "markdown",
   "metadata": {
    "collapsed": false
   },
   "source": [
    "## Extract genes from NCBI"
   ]
  },
  {
   "cell_type": "markdown",
   "metadata": {
    "collapsed": false
   },
   "source": [
    "## Get trait-condition pairs and get gene IoUs"
   ]
  },
  {
   "cell_type": "code",
   "execution_count": 2,
   "metadata": {
    "ExecuteTime": {
     "end_time": "2024-06-04T19:36:58.766036461Z",
     "start_time": "2024-06-04T19:36:58.757777848Z"
    },
    "collapsed": false
   },
   "outputs": [],
   "source": [
    "import pandas as pd\n",
    "import os\n",
    "import re\n",
    "import ast\n",
    "\n",
    "traits = pd.read_csv(\"latest_task.csv\")['Trait'].tolist()"
   ]
  },
  {
   "cell_type": "code",
   "execution_count": null,
   "metadata": {
    "collapsed": false
   },
   "outputs": [],
   "source": [
    "python eval.py -p output/regress/gs1 -r output/regress/gs2 &&\n",
    "python eval.py -p output/regress/ours -r output/regress/gs2 &&\n",
    "python eval.py -p output/regress/ours -r output/regress/gs1"
   ]
  },
  {
   "cell_type": "code",
   "execution_count": null,
   "metadata": {
    "collapsed": false
   },
   "outputs": [],
   "source": []
  },
  {
   "cell_type": "code",
   "execution_count": null,
   "metadata": {
    "collapsed": false
   },
   "outputs": [],
   "source": [
    "python regress.py --version no_expert &&\n",
    "python regress.py --version round0"
   ]
  },
  {
   "cell_type": "code",
   "execution_count": null,
   "metadata": {
    "collapsed": false
   },
   "outputs": [],
   "source": []
  },
  {
   "cell_type": "code",
   "execution_count": null,
   "metadata": {
    "collapsed": false
   },
   "outputs": [],
   "source": [
    "python eval.py -p output/regress/round0 -r output/regress/gs2 &&\n",
    "python eval.py -p output/regress/no_expert -r output/regress/gs2"
   ]
  },
  {
   "cell_type": "code",
   "execution_count": null,
   "metadata": {
    "collapsed": false
   },
   "outputs": [],
   "source": []
  },
  {
   "cell_type": "code",
   "execution_count": 3,
   "metadata": {
    "ExecuteTime": {
     "end_time": "2024-06-04T19:36:59.728146960Z",
     "start_time": "2024-06-04T19:36:59.623019302Z"
    },
    "collapsed": false
   },
   "outputs": [],
   "source": [
    "df = pd.read_csv(\"trait_related_genes.csv\").drop(columns=[\"Unnamed: 0\"], errors='ignore')\n",
    "df['Related_Genes'] = df['Related_Genes'].apply(ast.literal_eval)\n",
    "t2g = pd.Series(df['Related_Genes'].values, index=df['Trait']).to_dict()"
   ]
  },
  {
   "cell_type": "code",
   "execution_count": null,
   "metadata": {
    "ExecuteTime": {
     "end_time": "2024-06-04T19:37:00.787670190Z",
     "start_time": "2024-06-04T19:37:00.776130319Z"
    },
    "collapsed": false
   },
   "outputs": [],
   "source": [
    "cancer_traits = ['Colon and Rectal Cancer', 'Large B-cell Lymphoma', 'Bile Duct Cancer', 'Liver Cancer', 'Stomach Cancer', 'Pancreatic Cancer', 'Thyroid Cancer', 'Bladder Cancer', 'Esophageal Cancer', 'Kidney Chromophobe', 'Adrenocortical Cancer', 'Kidney Papillary Cell Carcinoma', 'Endometrioid Cancer', 'Prostate Cancer', 'Pheochromocytoma and Paraganglioma', 'Lung Cancer', 'Head and Neck Cancer', 'Breast Cancer']\n",
    "cancer_traits = [normalize_trait(c) for c in cancer_traits]\n",
    "cancer_traits"
   ]
  },
  {
   "cell_type": "code",
   "execution_count": 5,
   "metadata": {
    "ExecuteTime": {
     "end_time": "2024-06-04T19:37:06.554528694Z",
     "start_time": "2024-06-04T19:37:06.132639434Z"
    },
    "collapsed": false
   },
   "outputs": [],
   "source": [
    "data = []\n",
    "for t in traits:\n",
    "    for s in traits + ['Age', 'Gender']:\n",
    "        if t == s: continue\n",
    "        data.append({'Trait': t, 'Condition': s,\n",
    "            'IoU': len(set(t2g[t]).intersection(set(t2g[s]))) / len(set(t2g[t]).union(set(t2g[s])))})\n",
    "rel = pd.DataFrame(data)"
   ]
  },
  {
   "cell_type": "code",
   "execution_count": null,
   "metadata": {
    "ExecuteTime": {
     "end_time": "2024-06-04T19:37:06.954926922Z",
     "start_time": "2024-06-04T19:37:06.935099943Z"
    },
    "collapsed": false
   },
   "outputs": [],
   "source": [
    "rel"
   ]
  },
  {
   "cell_type": "code",
   "execution_count": 7,
   "metadata": {
    "ExecuteTime": {
     "end_time": "2024-06-04T19:37:22.654936834Z",
     "start_time": "2024-06-04T19:37:22.602365235Z"
    },
    "collapsed": false
   },
   "outputs": [],
   "source": [
    "condition_only = ['Vitamin D Levels', 'Longevity and Aging', 'LDL Cholesterol Levels', 'Bone Density', 'Language Abilities']\n",
    "gender_traits = ['Prostate Cancer', 'Endometriosis', 'Breast Cancer']\n",
    "male_traits = ['Prostate Cancer']\n",
    "female_traits = ['Endometriosis', 'Breast Cancer']\n",
    "condition_all = ['Obesity', 'Hypertension', 'Bipolar disorder', 'Anxiety disorder']"
   ]
  },
  {
   "cell_type": "code",
   "execution_count": null,
   "metadata": {
    "ExecuteTime": {
     "end_time": "2024-06-04T19:37:23.200319084Z",
     "start_time": "2024-06-04T19:37:23.165781124Z"
    },
    "collapsed": false
   },
   "outputs": [],
   "source": [
    "rel = rel[~((rel['Trait'].isin(gender_traits)) & (rel['Condition'] == 'Gender'))]\n",
    "rel = rel[~rel['Trait'].isin(condition_only)]\n",
    "rel"
   ]
  },
  {
   "cell_type": "code",
   "execution_count": null,
   "metadata": {
    "ExecuteTime": {
     "end_time": "2024-06-04T19:37:27.928814904Z",
     "start_time": "2024-06-04T19:37:27.886976552Z"
    },
    "collapsed": false
   },
   "outputs": [],
   "source": [
    "rel = rel[~(rel['Trait'].isin(male_traits) & rel['Condition'].isin(female_traits))]\n",
    "rel = rel[~(rel['Trait'].isin(female_traits) & rel['Condition'].isin(male_traits))]\n",
    "rel"
   ]
  },
  {
   "cell_type": "code",
   "execution_count": null,
   "metadata": {
    "ExecuteTime": {
     "end_time": "2024-06-04T19:37:33.792487082Z",
     "start_time": "2024-06-04T19:37:33.763778059Z"
    },
    "collapsed": false
   },
   "outputs": [],
   "source": [
    "rel = rel.sort_values(by='IoU', ascending=False).reset_index().drop(columns=['index'])\n",
    "rel"
   ]
  },
  {
   "cell_type": "code",
   "execution_count": null,
   "metadata": {
    "ExecuteTime": {
     "end_time": "2024-06-04T19:43:51.919248916Z",
     "start_time": "2024-06-04T19:43:51.916454086Z"
    },
    "collapsed": false
   },
   "outputs": [],
   "source": [
    "rel[1150:1200]"
   ]
  },
  {
   "cell_type": "code",
   "execution_count": null,
   "metadata": {
    "ExecuteTime": {
     "end_time": "2024-06-04T19:44:53.065631021Z",
     "start_time": "2024-06-04T19:44:53.002910008Z"
    },
    "collapsed": false
   },
   "outputs": [],
   "source": [
    "selected2 = rel[(rel['IoU'] >= 0.1) | rel['Condition'].isin(condition_all)]\n",
    "selected2"
   ]
  },
  {
   "cell_type": "code",
   "execution_count": null,
   "metadata": {
    "collapsed": false
   },
   "outputs": [],
   "source": []
  },
  {
   "cell_type": "code",
   "execution_count": 22,
   "metadata": {
    "ExecuteTime": {
     "end_time": "2024-06-04T19:46:22.725867995Z",
     "start_time": "2024-06-04T19:46:22.650528251Z"
    },
    "collapsed": false
   },
   "outputs": [],
   "source": [
    "selected2.to_csv('trait_condition_pairs.csv', index=False)"
   ]
  },
  {
   "cell_type": "code",
   "execution_count": null,
   "metadata": {
    "collapsed": false
   },
   "outputs": [],
   "source": []
  },
  {
   "cell_type": "code",
   "execution_count": null,
   "metadata": {
    "ExecuteTime": {
     "end_time": "2024-06-04T19:37:52.342393202Z",
     "start_time": "2024-06-04T19:37:52.313074846Z"
    },
    "collapsed": false
   },
   "outputs": [],
   "source": [
    "thres = 795  # tried out\n",
    "selected = rel[(rel.index < thres) | rel['Condition'].isin(condition_all)]\n",
    "selected"
   ]
  },
  {
   "cell_type": "code",
   "execution_count": null,
   "metadata": {
    "ExecuteTime": {
     "end_time": "2024-06-04T19:41:52.444797268Z",
     "start_time": "2024-06-04T19:41:52.441682039Z"
    },
    "collapsed": false
   },
   "outputs": [],
   "source": [
    "selected[-10:]"
   ]
  },
  {
   "cell_type": "code",
   "execution_count": null,
   "metadata": {
    "ExecuteTime": {
     "end_time": "2024-06-04T19:38:02.323492700Z",
     "start_time": "2024-06-04T19:38:02.313404557Z"
    },
    "collapsed": false
   },
   "outputs": [],
   "source": [
    "selected[(selected['Trait'].isin(cancer_traits)) & (selected['Condition'].isin(cancer_traits))]"
   ]
  },
  {
   "cell_type": "code",
   "execution_count": null,
   "metadata": {
    "ExecuteTime": {
     "end_time": "2024-06-04T19:38:09.740599039Z",
     "start_time": "2024-06-04T19:38:09.728529082Z"
    },
    "collapsed": false
   },
   "outputs": [],
   "source": [
    "selected[selected['Condition'] == 'Age']"
   ]
  },
  {
   "cell_type": "code",
   "execution_count": null,
   "metadata": {
    "ExecuteTime": {
     "end_time": "2024-06-04T19:38:10.694802090Z",
     "start_time": "2024-06-04T19:38:10.680980752Z"
    },
    "collapsed": false
   },
   "outputs": [],
   "source": [
    "selected[selected['Condition'] == 'Gender']"
   ]
  },
  {
   "cell_type": "code",
   "execution_count": null,
   "metadata": {
    "collapsed": false
   },
   "outputs": [],
   "source": [
    "top1k = rel.iloc[:1000]\n",
    "top1k"
   ]
  },
  {
   "cell_type": "code",
   "execution_count": null,
   "metadata": {
    "collapsed": false
   },
   "outputs": [],
   "source": [
    "#rel[rel['Trait'] == 'Longevity and Aging' & rel['Condition'] == 'Age']"
   ]
  },
  {
   "cell_type": "code",
   "execution_count": null,
   "metadata": {
    "collapsed": false
   },
   "outputs": [],
   "source": []
  },
  {
   "cell_type": "code",
   "execution_count": null,
   "metadata": {
    "collapsed": false
   },
   "outputs": [],
   "source": [
    "#rel[(rel['Trait'] == 'Longevity and Aging') & (rel['Condition'] == 'Age')]"
   ]
  },
  {
   "cell_type": "code",
   "execution_count": null,
   "metadata": {
    "collapsed": false
   },
   "outputs": [],
   "source": [
    "top1k[top1k['Condition'] == 'Obesity']"
   ]
  },
  {
   "cell_type": "code",
   "execution_count": null,
   "metadata": {
    "collapsed": false
   },
   "outputs": [],
   "source": [
    "top1k[top1k['Condition'] == 'Hypertension']"
   ]
  },
  {
   "cell_type": "code",
   "execution_count": null,
   "metadata": {
    "collapsed": false
   },
   "outputs": [],
   "source": [
    "top1k[top1k['Condition'] == 'Bipolar disorder']"
   ]
  },
  {
   "cell_type": "code",
   "execution_count": null,
   "metadata": {
    "collapsed": false
   },
   "outputs": [],
   "source": [
    "top1k[top1k['Condition'] == 'Anxiety disorder']"
   ]
  },
  {
   "cell_type": "code",
   "execution_count": null,
   "metadata": {
    "collapsed": false
   },
   "outputs": [],
   "source": [
    "top1k"
   ]
  },
  {
   "cell_type": "code",
   "execution_count": null,
   "metadata": {
    "collapsed": false
   },
   "outputs": [],
   "source": [
    "all = pd.read_csv('new_task.csv')\n",
    "all_cancers = all.loc[all[\"Type\"] == \"1. Cancer and Oncology-Related Disorders\", 'Trait'].tolist()\n",
    "all_cancers"
   ]
  },
  {
   "cell_type": "code",
   "execution_count": null,
   "metadata": {
    "collapsed": false
   },
   "outputs": [],
   "source": [
    "cancer_traits = [c for c in traits if c in all_cancers]\n",
    "len(cancer_traits)"
   ]
  },
  {
   "cell_type": "code",
   "execution_count": null,
   "metadata": {
    "collapsed": false
   },
   "outputs": [],
   "source": [
    "print(cancer_traits)"
   ]
  },
  {
   "cell_type": "code",
   "execution_count": null,
   "metadata": {
    "collapsed": false
   },
   "outputs": [],
   "source": [
    "top1k[top1k['Trait'].isin(cancer_traits) | top1k['Condition'].isin(cancer_traits)]"
   ]
  },
  {
   "cell_type": "code",
   "execution_count": null,
   "metadata": {
    "collapsed": false
   },
   "outputs": [],
   "source": [
    "top1k[top1k['Trait'].isin(cancer_traits) & top1k['Condition'].isin(cancer_traits)]"
   ]
  },
  {
   "cell_type": "code",
   "execution_count": null,
   "metadata": {
    "collapsed": false
   },
   "outputs": [],
   "source": []
  },
  {
   "cell_type": "code",
   "execution_count": null,
   "metadata": {
    "collapsed": false
   },
   "outputs": [],
   "source": [
    "c\"\"\"for file in sorted_file_names:\n",
    "    file_path = os.path.join('downloaded_ncbi_genes', file)\n",
    "    with open(file_path, 'r') as f:\n",
    "        if \"<!-- download operation failed -->\" in f.read():\n",
    "            print(file)\"\"\""
   ]
  },
  {
   "cell_type": "code",
   "execution_count": null,
   "metadata": {
    "collapsed": false
   },
   "outputs": [],
   "source": []
  },
  {
   "cell_type": "code",
   "execution_count": null,
   "metadata": {
    "collapsed": false
   },
   "outputs": [],
   "source": [
    "df = pd.read_excel(\"Trait_Condition_Pairings_v2.xlsx\", sheet_name=\"trait and condition\")"
   ]
  },
  {
   "cell_type": "code",
   "execution_count": null,
   "metadata": {
    "collapsed": false
   },
   "outputs": [],
   "source": []
  },
  {
   "cell_type": "code",
   "execution_count": null,
   "metadata": {
    "collapsed": false
   },
   "outputs": [],
   "source": [
    "df.columns"
   ]
  },
  {
   "cell_type": "code",
   "execution_count": null,
   "metadata": {
    "collapsed": false
   },
   "outputs": [],
   "source": [
    "traits = pd.read_csv(\"latest_task.csv\")['Trait'].tolist()\n",
    "len(traits)"
   ]
  },
  {
   "cell_type": "code",
   "execution_count": null,
   "metadata": {
    "collapsed": false
   },
   "outputs": [],
   "source": [
    "traits.remove('Vitamin D Levels')\n",
    "len(traits)"
   ]
  },
  {
   "cell_type": "code",
   "execution_count": null,
   "metadata": {
    "collapsed": false
   },
   "outputs": [],
   "source": [
    "values = traits + ['Age', 'Gender']"
   ]
  },
  {
   "cell_type": "code",
   "execution_count": null,
   "metadata": {
    "collapsed": false
   },
   "outputs": [],
   "source": [
    "rel = df.loc[df[843] > 2, ['Trait', 'Condition']]\n",
    "rel = rel.drop_duplicates(keep='last')\n",
    "rel"
   ]
  },
  {
   "cell_type": "code",
   "execution_count": null,
   "metadata": {
    "collapsed": false
   },
   "outputs": [],
   "source": [
    "rel[~rel['Trait'].isin(traits) & ~rel['Condition'].isin(values)]"
   ]
  },
  {
   "cell_type": "code",
   "execution_count": null,
   "metadata": {
    "collapsed": false
   },
   "outputs": [],
   "source": []
  },
  {
   "cell_type": "code",
   "execution_count": null,
   "metadata": {
    "collapsed": false
   },
   "outputs": [],
   "source": [
    "df = pd.read_excel(\"Trait_Condition_Pairings_v2.xlsx\", sheet_name=\"clusters\")\n",
    "df.isin(traits)"
   ]
  },
  {
   "cell_type": "code",
   "execution_count": null,
   "metadata": {
    "collapsed": false
   },
   "outputs": [],
   "source": []
  }
 ],
 "metadata": {
  "kernelspec": {
   "display_name": "Python 3",
   "language": "python",
   "name": "python3"
  },
  "language_info": {
   "codemirror_mode": {
    "name": "ipython",
    "version": 2
   },
   "file_extension": ".py",
   "mimetype": "text/x-python",
   "name": "python",
   "nbconvert_exporter": "python",
   "pygments_lexer": "ipython2",
   "version": "2.7.6"
  }
 },
 "nbformat": 4,
 "nbformat_minor": 0
}
