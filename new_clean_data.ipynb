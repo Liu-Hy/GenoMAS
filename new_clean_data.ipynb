{
 "cells": [
  {
   "cell_type": "code",
   "execution_count": 10,
   "metadata": {
    "ExecuteTime": {
     "end_time": "2024-06-05T08:38:13.408916582Z",
     "start_time": "2024-06-05T08:38:13.368490044Z"
    },
    "collapsed": true
   },
   "outputs": [],
   "source": [
    "import os\n",
    "import pandas as pd\n",
    "import json\n",
    "from utils.statistics import *\n",
    "from utils.preprocess import *\n",
    "import shutil"
   ]
  },
  {
   "cell_type": "code",
   "execution_count": 11,
   "metadata": {
    "ExecuteTime": {
     "end_time": "2024-06-05T08:38:13.709978375Z",
     "start_time": "2024-06-05T08:38:13.704324818Z"
    },
    "collapsed": false
   },
   "outputs": [],
   "source": [
    "source_root = \"/home/techt/Desktop/AI_for_Science/archiv/gold_icml\"\n",
    "dest_root = \"/home/techt/Desktop/a4s/output/preprocess/no_expert\"  # specify"
   ]
  },
  {
   "cell_type": "code",
   "execution_count": 12,
   "metadata": {
    "ExecuteTime": {
     "end_time": "2024-06-05T08:38:14.030726497Z",
     "start_time": "2024-06-05T08:38:14.025037974Z"
    },
    "collapsed": false
   },
   "outputs": [],
   "source": [
    "def org_normalize_trait(trait):\n",
    "    trait = '-'.join(trait.split())\n",
    "    normalized_trait = ''.join(trait.split(\"'\"))\n",
    "    return normalized_trait"
   ]
  },
  {
   "cell_type": "code",
   "execution_count": 13,
   "metadata": {
    "ExecuteTime": {
     "end_time": "2024-06-05T08:38:14.401982260Z",
     "start_time": "2024-06-05T08:38:14.392887610Z"
    },
    "collapsed": false
   },
   "outputs": [],
   "source": [
    "all_traits = pd.read_csv(\"all_traits.csv\")[\"Trait\"].tolist()\n",
    "all_nm_traits = [normalize_trait(at) for at in all_traits]\n",
    "all_org_nm_traits = [org_normalize_trait(at) for at in all_traits]"
   ]
  },
  {
   "cell_type": "markdown",
   "metadata": {
    "collapsed": false
   },
   "source": [
    "### Add Xena data"
   ]
  },
  {
   "cell_type": "code",
   "execution_count": 14,
   "metadata": {
    "ExecuteTime": {
     "end_time": "2024-06-05T08:38:16.586516093Z",
     "start_time": "2024-06-05T08:38:15.171062926Z"
    },
    "collapsed": false
   },
   "outputs": [
    {
     "name": "stdout",
     "output_type": "stream",
     "text": [
      "Copied because /home/techt/Desktop/a4s/output/preprocess/no_expert/Thyroid_Cancer/Xena.csv not exist corresponding to /home/techt/Desktop/AI_for_Science/archiv/gold_icml/Thyroid_Cancer/Xena.csv\n",
      "Copied because /home/techt/Desktop/a4s/output/preprocess/no_expert/Breast_Cancer/Xena.csv not exist corresponding to /home/techt/Desktop/AI_for_Science/archiv/gold_icml/Breast_Cancer/Xena.csv\n",
      "Copied because /home/techt/Desktop/a4s/output/preprocess/no_expert/Stomach_Cancer/Xena.csv not exist corresponding to /home/techt/Desktop/AI_for_Science/archiv/gold_icml/Stomach_Cancer/Xena.csv\n"
     ]
    },
    {
     "ename": "OSError",
     "evalue": "[Errno 28] No space left on device: '/home/techt/Desktop/AI_for_Science/archiv/gold_icml/Stomach_Cancer/Xena.csv' -> '/home/techt/Desktop/a4s/output/preprocess/no_expert/Stomach_Cancer/Xena.csv'",
     "output_type": "error",
     "traceback": [
      "\u001b[0;31m---------------------------------------------------------------------------\u001b[0m",
      "\u001b[0;31mOSError\u001b[0m                                   Traceback (most recent call last)",
      "Cell \u001b[0;32mIn[14], line 15\u001b[0m\n\u001b[1;32m     13\u001b[0m \u001b[38;5;28;01melse\u001b[39;00m:\n\u001b[1;32m     14\u001b[0m     \u001b[38;5;28mprint\u001b[39m(\u001b[38;5;124mf\u001b[39m\u001b[38;5;124m\"\u001b[39m\u001b[38;5;124mCopied because \u001b[39m\u001b[38;5;132;01m{\u001b[39;00mos\u001b[38;5;241m.\u001b[39mpath\u001b[38;5;241m.\u001b[39mjoin(dest_root,\u001b[38;5;250m \u001b[39mt,\u001b[38;5;250m \u001b[39m\u001b[38;5;124m'\u001b[39m\u001b[38;5;124mXena.csv\u001b[39m\u001b[38;5;124m'\u001b[39m)\u001b[38;5;132;01m}\u001b[39;00m\u001b[38;5;124m not exist corresponding to \u001b[39m\u001b[38;5;132;01m{\u001b[39;00msource_fpath\u001b[38;5;132;01m}\u001b[39;00m\u001b[38;5;124m\"\u001b[39m)\n\u001b[0;32m---> 15\u001b[0m     \u001b[43mshutil\u001b[49m\u001b[38;5;241;43m.\u001b[39;49m\u001b[43mcopyfile\u001b[49m\u001b[43m(\u001b[49m\u001b[43mos\u001b[49m\u001b[38;5;241;43m.\u001b[39;49m\u001b[43mpath\u001b[49m\u001b[38;5;241;43m.\u001b[39;49m\u001b[43mjoin\u001b[49m\u001b[43m(\u001b[49m\u001b[43msource_root\u001b[49m\u001b[43m,\u001b[49m\u001b[43m \u001b[49m\u001b[43mt\u001b[49m\u001b[43m,\u001b[49m\u001b[43m \u001b[49m\u001b[38;5;124;43m'\u001b[39;49m\u001b[38;5;124;43mXena.csv\u001b[39;49m\u001b[38;5;124;43m'\u001b[39;49m\u001b[43m)\u001b[49m\u001b[43m,\u001b[49m\u001b[43m \u001b[49m\u001b[43mos\u001b[49m\u001b[38;5;241;43m.\u001b[39;49m\u001b[43mpath\u001b[49m\u001b[38;5;241;43m.\u001b[39;49m\u001b[43mjoin\u001b[49m\u001b[43m(\u001b[49m\u001b[43mdest_root\u001b[49m\u001b[43m,\u001b[49m\u001b[43m \u001b[49m\u001b[43mt\u001b[49m\u001b[43m,\u001b[49m\u001b[43m \u001b[49m\u001b[38;5;124;43m'\u001b[39;49m\u001b[38;5;124;43mXena.csv\u001b[39;49m\u001b[38;5;124;43m'\u001b[39;49m\u001b[43m)\u001b[49m\u001b[43m)\u001b[49m\n",
      "File \u001b[0;32m~/anaconda3/envs/hl/lib/python3.8/shutil.py:275\u001b[0m, in \u001b[0;36mcopyfile\u001b[0;34m(src, dst, follow_symlinks)\u001b[0m\n\u001b[1;32m    273\u001b[0m \u001b[38;5;28;01melif\u001b[39;00m _USE_CP_SENDFILE:\n\u001b[1;32m    274\u001b[0m     \u001b[38;5;28;01mtry\u001b[39;00m:\n\u001b[0;32m--> 275\u001b[0m         \u001b[43m_fastcopy_sendfile\u001b[49m\u001b[43m(\u001b[49m\u001b[43mfsrc\u001b[49m\u001b[43m,\u001b[49m\u001b[43m \u001b[49m\u001b[43mfdst\u001b[49m\u001b[43m)\u001b[49m\n\u001b[1;32m    276\u001b[0m         \u001b[38;5;28;01mreturn\u001b[39;00m dst\n\u001b[1;32m    277\u001b[0m     \u001b[38;5;28;01mexcept\u001b[39;00m _GiveupOnFastCopy:\n",
      "File \u001b[0;32m~/anaconda3/envs/hl/lib/python3.8/shutil.py:166\u001b[0m, in \u001b[0;36m_fastcopy_sendfile\u001b[0;34m(fsrc, fdst)\u001b[0m\n\u001b[1;32m    163\u001b[0m     \u001b[38;5;28;01mraise\u001b[39;00m _GiveupOnFastCopy(err)\n\u001b[1;32m    165\u001b[0m \u001b[38;5;28;01mif\u001b[39;00m err\u001b[38;5;241m.\u001b[39merrno \u001b[38;5;241m==\u001b[39m errno\u001b[38;5;241m.\u001b[39mENOSPC:  \u001b[38;5;66;03m# filesystem is full\u001b[39;00m\n\u001b[0;32m--> 166\u001b[0m     \u001b[38;5;28;01mraise\u001b[39;00m err \u001b[38;5;28;01mfrom\u001b[39;00m \u001b[38;5;28;01mNone\u001b[39;00m\n\u001b[1;32m    168\u001b[0m \u001b[38;5;66;03m# Give up on first call and if no data was copied.\u001b[39;00m\n\u001b[1;32m    169\u001b[0m \u001b[38;5;28;01mif\u001b[39;00m offset \u001b[38;5;241m==\u001b[39m \u001b[38;5;241m0\u001b[39m \u001b[38;5;129;01mand\u001b[39;00m os\u001b[38;5;241m.\u001b[39mlseek(outfd, \u001b[38;5;241m0\u001b[39m, os\u001b[38;5;241m.\u001b[39mSEEK_CUR) \u001b[38;5;241m==\u001b[39m \u001b[38;5;241m0\u001b[39m:\n",
      "File \u001b[0;32m~/anaconda3/envs/hl/lib/python3.8/shutil.py:152\u001b[0m, in \u001b[0;36m_fastcopy_sendfile\u001b[0;34m(fsrc, fdst)\u001b[0m\n\u001b[1;32m    150\u001b[0m \u001b[38;5;28;01mwhile\u001b[39;00m \u001b[38;5;28;01mTrue\u001b[39;00m:\n\u001b[1;32m    151\u001b[0m     \u001b[38;5;28;01mtry\u001b[39;00m:\n\u001b[0;32m--> 152\u001b[0m         sent \u001b[38;5;241m=\u001b[39m \u001b[43mos\u001b[49m\u001b[38;5;241;43m.\u001b[39;49m\u001b[43msendfile\u001b[49m\u001b[43m(\u001b[49m\u001b[43moutfd\u001b[49m\u001b[43m,\u001b[49m\u001b[43m \u001b[49m\u001b[43minfd\u001b[49m\u001b[43m,\u001b[49m\u001b[43m \u001b[49m\u001b[43moffset\u001b[49m\u001b[43m,\u001b[49m\u001b[43m \u001b[49m\u001b[43mblocksize\u001b[49m\u001b[43m)\u001b[49m\n\u001b[1;32m    153\u001b[0m     \u001b[38;5;28;01mexcept\u001b[39;00m \u001b[38;5;167;01mOSError\u001b[39;00m \u001b[38;5;28;01mas\u001b[39;00m err:\n\u001b[1;32m    154\u001b[0m         \u001b[38;5;66;03m# ...in oder to have a more informative exception.\u001b[39;00m\n\u001b[1;32m    155\u001b[0m         err\u001b[38;5;241m.\u001b[39mfilename \u001b[38;5;241m=\u001b[39m fsrc\u001b[38;5;241m.\u001b[39mname\n",
      "\u001b[0;31mOSError\u001b[0m: [Errno 28] No space left on device: '/home/techt/Desktop/AI_for_Science/archiv/gold_icml/Stomach_Cancer/Xena.csv' -> '/home/techt/Desktop/a4s/output/preprocess/no_expert/Stomach_Cancer/Xena.csv'"
     ]
    }
   ],
   "source": [
    "s_ls = []\n",
    "for t in os.listdir(dest_root):\n",
    "    s_path = os.path.join(source_root, t)\n",
    "    if not os.path.isdir(s_path): continue\n",
    "    if not os.path.isdir(os.path.join(dest_root, t)):\n",
    "        s_ls.append(f\"Strange! {t} not in {dest_root}\")\n",
    "        continue\n",
    "    for f in os.listdir(s_path):\n",
    "        if f.endswith('Xena.csv'):\n",
    "            source_fpath = os.path.join(s_path, f)\n",
    "            if os.path.isfile(os.path.join(dest_root, t, 'Xena.csv')):\n",
    "                print(f\"{os.path.join(dest_root, t, 'Xena.csv')} exist corresponding to {source_fpath}\")\n",
    "            else:\n",
    "                print(f\"Copied because {os.path.join(dest_root, t, 'Xena.csv')} not exist corresponding to {source_fpath}\")\n",
    "                shutil.copyfile(os.path.join(source_root, t, 'Xena.csv'), os.path.join(dest_root, t, 'Xena.csv'))"
   ]
  },
  {
   "cell_type": "code",
   "execution_count": null,
   "metadata": {
    "ExecuteTime": {
     "start_time": "2024-06-05T08:38:16.578458661Z"
    },
    "collapsed": false
   },
   "outputs": [],
   "source": [
    "s_ls"
   ]
  },
  {
   "cell_type": "markdown",
   "metadata": {
    "collapsed": false
   },
   "source": [
    "### Remove data with missing gene, remove dummy column"
   ]
  },
  {
   "cell_type": "code",
   "execution_count": 15,
   "metadata": {
    "collapsed": false
   },
   "outputs": [
    {
     "name": "stdout",
     "output_type": "stream",
     "text": [
      "The history saving thread hit an unexpected error (OperationalError('database or disk is full')).History will not be written to the database.\n",
      "REDUNDANT COLUMN in '/home/techt/Desktop/a4s/output/preprocess/no_expert/Tourette_Syndrome/GSE146509.csv'\n",
      "The header Thyroid Cancer should be replaced by Thyroid_Cancer in 'Xena.csv'\n",
      "This cohort updated\n",
      "REDUNDANT COLUMN in '/home/techt/Desktop/a4s/output/preprocess/no_expert/Thyroid_Cancer/GSE104005.csv'\n",
      "REDUNDANT COLUMN in '/home/techt/Desktop/a4s/output/preprocess/no_expert/Thyroid_Cancer/GSE104006.csv'\n",
      "NO GENE DATA in '/home/techt/Desktop/a4s/output/preprocess/no_expert/Thyroid_Cancer/GSE104006.csv'. Removed\n",
      "!Lack of gene updated in info.json\n",
      "REDUNDANT COLUMN in '/home/techt/Desktop/a4s/output/preprocess/no_expert/Thyroid_Cancer/GSE151181.csv'\n",
      "NO GENE DATA in '/home/techt/Desktop/a4s/output/preprocess/no_expert/Thyroid_Cancer/GSE151181.csv'. Removed\n",
      "!Lack of gene updated in info.json\n",
      "REDUNDANT COLUMN in '/home/techt/Desktop/a4s/output/preprocess/no_expert/Thyroid_Cancer/GSE151180.csv'\n",
      "NO GENE DATA in '/home/techt/Desktop/a4s/output/preprocess/no_expert/Thyroid_Cancer/GSE151180.csv'. Removed\n",
      "!Lack of gene updated in info.json\n",
      "REDUNDANT COLUMN in '/home/techt/Desktop/a4s/output/preprocess/no_expert/Thyroid_Cancer/GSE103996.csv'\n",
      "NO GENE DATA in '/home/techt/Desktop/a4s/output/preprocess/no_expert/Thyroid_Cancer/GSE103996.csv'. Removed\n",
      "!Lack of gene updated in info.json\n",
      "REDUNDANT COLUMN in '/home/techt/Desktop/a4s/output/preprocess/no_expert/X-Linked_Lymphoproliferative_Syndrome/GSE156309.csv'\n",
      "REDUNDANT COLUMN in '/home/techt/Desktop/a4s/output/preprocess/no_expert/HIV_Resistance/GSE33580.csv'\n",
      "REDUNDANT COLUMN in '/home/techt/Desktop/a4s/output/preprocess/no_expert/HIV_Resistance/GSE14542.csv'\n",
      "REDUNDANT COLUMN in '/home/techt/Desktop/a4s/output/preprocess/no_expert/HIV_Resistance/GSE46599.csv'\n",
      "REDUNDANT COLUMN in '/home/techt/Desktop/a4s/output/preprocess/no_expert/HIV_Resistance/GSE37405.csv'\n",
      "REDUNDANT COLUMN in '/home/techt/Desktop/a4s/output/preprocess/no_expert/Liver_cirrhosis/GSE182060.csv'\n",
      "REDUNDANT COLUMN in '/home/techt/Desktop/a4s/output/preprocess/no_expert/Liver_cirrhosis/GSE163211.csv'\n",
      "REDUNDANT COLUMN in '/home/techt/Desktop/a4s/output/preprocess/no_expert/Liver_cirrhosis/GSE78160.csv'\n",
      "REDUNDANT COLUMN in '/home/techt/Desktop/a4s/output/preprocess/no_expert/Liver_cirrhosis/GSE150734.csv'\n",
      "REDUNDANT COLUMN in '/home/techt/Desktop/a4s/output/preprocess/no_expert/Liver_cirrhosis/GSE139602.csv'\n",
      "REDUNDANT COLUMN in '/home/techt/Desktop/a4s/output/preprocess/no_expert/Liver_cirrhosis/GSE66843.csv'\n",
      "The header Breast Cancer should be replaced by Breast_Cancer in 'Xena.csv'\n",
      "This cohort updated\n",
      "REDUNDANT COLUMN in '/home/techt/Desktop/a4s/output/preprocess/no_expert/Breast_Cancer/GSE243966.csv'\n",
      "NO GENE DATA in '/home/techt/Desktop/a4s/output/preprocess/no_expert/Breast_Cancer/GSE243966.csv'. Removed\n",
      "!Lack of gene updated in info.json\n",
      "The header Stomach Cancer should be replaced by Stomach_Cancer in 'Xena.csv'\n",
      "This cohort updated\n",
      "REDUNDANT COLUMN in '/home/techt/Desktop/a4s/output/preprocess/no_expert/Hypothyroidism/GSE18152.csv'\n",
      "NO GENE DATA in '/home/techt/Desktop/a4s/output/preprocess/no_expert/Hypothyroidism/GSE18152.csv'. Removed\n",
      "!Lack of gene updated in info.json\n",
      "REDUNDANT COLUMN in '/home/techt/Desktop/a4s/output/preprocess/no_expert/Hypothyroidism/GSE183227.csv'\n",
      "REDUNDANT COLUMN in '/home/techt/Desktop/a4s/output/preprocess/no_expert/Hypothyroidism/GSE151158.csv'\n",
      "REDUNDANT COLUMN in '/home/techt/Desktop/a4s/output/preprocess/no_expert/Lupus_(Systemic_Lupus_Erythematosus)/GSE112943.csv'\n",
      "REDUNDANT COLUMN in '/home/techt/Desktop/a4s/output/preprocess/no_expert/Lupus_(Systemic_Lupus_Erythematosus)/GSE184989.csv'\n",
      "NO GENE DATA in '/home/techt/Desktop/a4s/output/preprocess/no_expert/Lupus_(Systemic_Lupus_Erythematosus)/GSE184989.csv'. Removed\n",
      "!Lack of gene updated in info.json\n",
      "REDUNDANT COLUMN in '/home/techt/Desktop/a4s/output/preprocess/no_expert/Lupus_(Systemic_Lupus_Erythematosus)/GSE224705.csv'\n",
      "REDUNDANT COLUMN in '/home/techt/Desktop/a4s/output/preprocess/no_expert/Lupus_(Systemic_Lupus_Erythematosus)/GSE200306.csv'\n",
      "REDUNDANT COLUMN in '/home/techt/Desktop/a4s/output/preprocess/no_expert/Hepatitis/GSE78160.csv'\n",
      "REDUNDANT COLUMN in '/home/techt/Desktop/a4s/output/preprocess/no_expert/Amyotrophic_Lateral_Sclerosis/GSE107375.csv'\n",
      "NO GENE DATA in '/home/techt/Desktop/a4s/output/preprocess/no_expert/Amyotrophic_Lateral_Sclerosis/GSE107375.csv'. Removed\n",
      "!Lack of gene updated in info.json\n",
      "REDUNDANT COLUMN in '/home/techt/Desktop/a4s/output/preprocess/no_expert/Aniridia/GSE204791.csv'\n",
      "NO GENE DATA in '/home/techt/Desktop/a4s/output/preprocess/no_expert/Aniridia/GSE204791.csv'. Removed\n",
      "!Lack of gene updated in info.json\n",
      "REDUNDANT COLUMN in '/home/techt/Desktop/a4s/output/preprocess/no_expert/Aniridia/GSE137997.csv'\n",
      "NO GENE DATA in '/home/techt/Desktop/a4s/output/preprocess/no_expert/Aniridia/GSE137997.csv'. Removed\n",
      "!Lack of gene updated in info.json\n",
      "REDUNDANT COLUMN in '/home/techt/Desktop/a4s/output/preprocess/no_expert/Aniridia/GSE137995.csv'\n",
      "NO GENE DATA in '/home/techt/Desktop/a4s/output/preprocess/no_expert/Aniridia/GSE137995.csv'. Removed\n",
      "!Lack of gene updated in info.json\n",
      "REDUNDANT COLUMN in '/home/techt/Desktop/a4s/output/preprocess/no_expert/Bladder_Cancer/GSE201395.csv'\n",
      "NO GENE DATA in '/home/techt/Desktop/a4s/output/preprocess/no_expert/Bladder_Cancer/GSE201395.csv'. Removed\n",
      "!Lack of gene updated in info.json\n",
      "REDUNDANT COLUMN in '/home/techt/Desktop/a4s/output/preprocess/no_expert/Bladder_Cancer/GSE222073.csv'\n",
      "!Strange trait'last_cohort_info.json' \n",
      "REDUNDANT COLUMN in '/home/techt/Desktop/a4s/output/preprocess/no_expert/Obsessive-Compulsive_Disorder/GSE60190.csv'\n",
      "REDUNDANT COLUMN in '/home/techt/Desktop/a4s/output/preprocess/no_expert/Obsessive-Compulsive_Disorder/GSE78104.csv'\n",
      "REDUNDANT COLUMN in '/home/techt/Desktop/a4s/output/preprocess/no_expert/Longevity_and_Aging/GSE16717.csv'\n",
      "NO GENE DATA in '/home/techt/Desktop/a4s/output/preprocess/no_expert/Longevity_and_Aging/GSE16717.csv'. Removed\n",
      "!Lack of gene updated in info.json\n",
      "REDUNDANT COLUMN in '/home/techt/Desktop/a4s/output/preprocess/no_expert/Sickle_Cell_Anemia/GSE53441.csv'\n",
      "REDUNDANT COLUMN in '/home/techt/Desktop/a4s/output/preprocess/no_expert/Sickle_Cell_Anemia/GSE16728.csv'\n",
      "REDUNDANT COLUMN in '/home/techt/Desktop/a4s/output/preprocess/no_expert/Sickle_Cell_Anemia/GSE9877.csv'\n",
      "REDUNDANT COLUMN in '/home/techt/Desktop/a4s/output/preprocess/no_expert/Sickle_Cell_Anemia/GSE11524.csv'\n",
      "REDUNDANT COLUMN in '/home/techt/Desktop/a4s/output/preprocess/no_expert/Schizophrenia/GSE161986.csv'\n",
      "REDUNDANT COLUMN in '/home/techt/Desktop/a4s/output/preprocess/no_expert/Schizophrenia/GSE161997.csv'\n",
      "NO GENE DATA in '/home/techt/Desktop/a4s/output/preprocess/no_expert/Schizophrenia/GSE161997.csv'. Removed\n",
      "!Lack of gene updated in info.json\n",
      "REDUNDANT COLUMN in '/home/techt/Desktop/a4s/output/preprocess/no_expert/Liver_Cancer/GSE72170.csv'\n",
      "REDUNDANT COLUMN in '/home/techt/Desktop/a4s/output/preprocess/no_expert/Metabolic_Rate/GSE106800.csv'\n",
      "NO GENE DATA in '/home/techt/Desktop/a4s/output/preprocess/no_expert/Metabolic_Rate/GSE106800.csv'. Removed\n",
      "!Lack of gene updated in info.json\n",
      "REDUNDANT COLUMN in '/home/techt/Desktop/a4s/output/preprocess/no_expert/Metabolic_Rate/GSE151683.csv'\n",
      "REDUNDANT COLUMN in '/home/techt/Desktop/a4s/output/preprocess/no_expert/Metabolic_Rate/GSE101492.csv'\n",
      "NO GENE DATA in '/home/techt/Desktop/a4s/output/preprocess/no_expert/Metabolic_Rate/GSE101492.csv'. Removed\n",
      "!Lack of gene updated in info.json\n",
      "REDUNDANT COLUMN in '/home/techt/Desktop/a4s/output/preprocess/no_expert/Metabolic_Rate/GSE122279.csv'\n",
      "REDUNDANT COLUMN in '/home/techt/Desktop/a4s/output/preprocess/no_expert/Hypertension/GSE207015.csv'\n",
      "REDUNDANT COLUMN in '/home/techt/Desktop/a4s/output/preprocess/no_expert/Chronic_Fatigue_Syndrome/GSE16059.csv'\n",
      "REDUNDANT COLUMN in '/home/techt/Desktop/a4s/output/preprocess/no_expert/Chronic_Fatigue_Syndrome/GSE14577.csv'\n",
      "REDUNDANT COLUMN in '/home/techt/Desktop/a4s/output/preprocess/no_expert/Cervical_Cancer/GSE192897.csv'\n",
      "REDUNDANT COLUMN in '/home/techt/Desktop/a4s/output/preprocess/no_expert/Cervical_Cancer/GSE137034.csv'\n",
      "REDUNDANT COLUMN in '/home/techt/Desktop/a4s/output/preprocess/no_expert/Head_and_Neck_Cancer/GSE244580.csv'\n",
      "NO GENE DATA in '/home/techt/Desktop/a4s/output/preprocess/no_expert/Head_and_Neck_Cancer/GSE244580.csv'. Removed\n",
      "!Lack of gene updated in info.json\n",
      "REDUNDANT COLUMN in '/home/techt/Desktop/a4s/output/preprocess/no_expert/Head_and_Neck_Cancer/GSE201777.csv'\n",
      "REDUNDANT COLUMN in '/home/techt/Desktop/a4s/output/preprocess/no_expert/Sjögrens_Syndrome/GSE143153.csv'\n",
      "REDUNDANT COLUMN in '/home/techt/Desktop/a4s/output/preprocess/no_expert/Sjögrens_Syndrome/GSE66795.csv'\n",
      "REDUNDANT COLUMN in '/home/techt/Desktop/a4s/output/preprocess/no_expert/Sjögrens_Syndrome/GSE40611.csv'\n",
      "REDUNDANT COLUMN in '/home/techt/Desktop/a4s/output/preprocess/no_expert/Sjögrens_Syndrome/GSE51092.csv'\n",
      "REDUNDANT COLUMN in '/home/techt/Desktop/a4s/output/preprocess/no_expert/Sjögrens_Syndrome/GSE84844.csv'\n",
      "REDUNDANT COLUMN in '/home/techt/Desktop/a4s/output/preprocess/no_expert/Sjögrens_Syndrome/GSE94510.csv'\n",
      "REDUNDANT COLUMN in '/home/techt/Desktop/a4s/output/preprocess/no_expert/Sjögrens_Syndrome/GSE93683.csv'\n",
      "REDUNDANT COLUMN in '/home/techt/Desktop/a4s/output/preprocess/no_expert/Hutchinson-Gilford_Progeria_Syndrome/GSE84351.csv'\n",
      "NO GENE DATA in '/home/techt/Desktop/a4s/output/preprocess/no_expert/Hutchinson-Gilford_Progeria_Syndrome/GSE84351.csv'. Removed\n",
      "!Lack of gene updated in info.json\n",
      "REDUNDANT COLUMN in '/home/techt/Desktop/a4s/output/preprocess/no_expert/Hutchinson-Gilford_Progeria_Syndrome/GSE84360.csv'\n",
      "NO GENE DATA in '/home/techt/Desktop/a4s/output/preprocess/no_expert/Hutchinson-Gilford_Progeria_Syndrome/GSE84360.csv'. Removed\n",
      "!Lack of gene updated in info.json\n",
      "REDUNDANT COLUMN in '/home/techt/Desktop/a4s/output/preprocess/no_expert/Kidney_stones/GSE73680.csv'\n",
      "REDUNDANT COLUMN in '/home/techt/Desktop/a4s/output/preprocess/no_expert/Anxiety_disorder/GSE68526.csv'\n",
      "REDUNDANT COLUMN in '/home/techt/Desktop/a4s/output/preprocess/no_expert/Anxiety_disorder/GSE94119.csv'\n",
      "NO GENE DATA in '/home/techt/Desktop/a4s/output/preprocess/no_expert/Anxiety_disorder/GSE94119.csv'. Removed\n",
      "!Lack of gene updated in info.json\n",
      "REDUNDANT COLUMN in '/home/techt/Desktop/a4s/output/preprocess/no_expert/Anxiety_disorder/GSE78104.csv'\n",
      "REDUNDANT COLUMN in '/home/techt/Desktop/a4s/output/preprocess/no_expert/Mesothelioma/GSE131027.csv'\n",
      "REDUNDANT COLUMN in '/home/techt/Desktop/a4s/output/preprocess/no_expert/Mesothelioma/GSE51024.csv'\n",
      "REDUNDANT COLUMN in '/home/techt/Desktop/a4s/output/preprocess/no_expert/Mesothelioma/GSE112154.csv'\n",
      "REDUNDANT COLUMN in '/home/techt/Desktop/a4s/output/preprocess/no_expert/Mesothelioma/GSE99362.csv'\n",
      "NO GENE DATA in '/home/techt/Desktop/a4s/output/preprocess/no_expert/Mesothelioma/GSE99362.csv'. Removed\n",
      "!Lack of gene updated in info.json\n",
      "REDUNDANT COLUMN in '/home/techt/Desktop/a4s/output/preprocess/no_expert/Mesothelioma/GSE117668.csv'\n",
      "REDUNDANT COLUMN in '/home/techt/Desktop/a4s/output/preprocess/no_expert/Mesothelioma/GSE42977.csv'\n",
      "REDUNDANT COLUMN in '/home/techt/Desktop/a4s/output/preprocess/no_expert/Mesothelioma/GSE40345.csv'\n",
      "NO GENE DATA in '/home/techt/Desktop/a4s/output/preprocess/no_expert/Mesothelioma/GSE40345.csv'. Removed\n",
      "!Lack of gene updated in info.json\n",
      "REDUNDANT COLUMN in '/home/techt/Desktop/a4s/output/preprocess/no_expert/Obesity/GSE176025.csv'\n",
      "REDUNDANT COLUMN in '/home/techt/Desktop/a4s/output/preprocess/no_expert/Obesity/GSE181339.csv'\n",
      "REDUNDANT COLUMN in '/home/techt/Desktop/a4s/output/preprocess/no_expert/Age-Related_Macular_Degeneration/GSE67899.csv'\n",
      "REDUNDANT COLUMN in '/home/techt/Desktop/a4s/output/preprocess/no_expert/Age-Related_Macular_Degeneration/GSE14682.csv'\n",
      "REDUNDANT COLUMN in '/home/techt/Desktop/a4s/output/preprocess/no_expert/Age-Related_Macular_Degeneration/GSE29801.csv'\n",
      "REDUNDANT COLUMN in '/home/techt/Desktop/a4s/output/preprocess/no_expert/Age-Related_Macular_Degeneration/GSE45485.csv'\n",
      "REDUNDANT COLUMN in '/home/techt/Desktop/a4s/output/preprocess/no_expert/Bone_Density/GSE56815.csv'\n",
      "REDUNDANT COLUMN in '/home/techt/Desktop/a4s/output/preprocess/no_expert/Bone_Density/GSE56816.csv'\n",
      "REDUNDANT COLUMN in '/home/techt/Desktop/a4s/output/preprocess/no_expert/Post-Traumatic_Stress_Disorder/GSE77164.csv'\n",
      "REDUNDANT COLUMN in '/home/techt/Desktop/a4s/output/preprocess/no_expert/Post-Traumatic_Stress_Disorder/GSE67663.csv'\n",
      "REDUNDANT COLUMN in '/home/techt/Desktop/a4s/output/preprocess/no_expert/Post-Traumatic_Stress_Disorder/GSE114852.csv'\n",
      "REDUNDANT COLUMN in '/home/techt/Desktop/a4s/output/preprocess/no_expert/Post-Traumatic_Stress_Disorder/GSE85399.csv'\n",
      "REDUNDANT COLUMN in '/home/techt/Desktop/a4s/output/preprocess/no_expert/Cardiovascular_Disease/GSE181339.csv'\n",
      "NO GENE DATA in '/home/techt/Desktop/a4s/output/preprocess/no_expert/Cardiovascular_Disease/GSE181339.csv'. Removed\n",
      "!Lack of gene updated in info.json\n",
      "REDUNDANT COLUMN in '/home/techt/Desktop/a4s/output/preprocess/no_expert/Telomere_Length/GSE16058.csv'\n",
      "REDUNDANT COLUMN in '/home/techt/Desktop/a4s/output/preprocess/no_expert/Celiac_Disease/GSE87629.csv'\n",
      "REDUNDANT COLUMN in '/home/techt/Desktop/a4s/output/preprocess/no_expert/Celiac_Disease/GSE72625.csv'\n",
      "REDUNDANT COLUMN in '/home/techt/Desktop/a4s/output/preprocess/no_expert/Celiac_Disease/GSE164883.csv'\n",
      "NO GENE DATA in '/home/techt/Desktop/a4s/output/preprocess/no_expert/Celiac_Disease/GSE164883.csv'. Removed\n",
      "!Lack of gene updated in info.json\n",
      "REDUNDANT COLUMN in '/home/techt/Desktop/a4s/output/preprocess/no_expert/Celiac_Disease/GSE106260.csv'\n",
      "REDUNDANT COLUMN in '/home/techt/Desktop/a4s/output/preprocess/no_expert/Celiac_Disease/GSE112102.csv'\n",
      "REDUNDANT COLUMN in '/home/techt/Desktop/a4s/output/preprocess/no_expert/Celiac_Disease/GSE138297.csv'\n",
      "NO GENE DATA in '/home/techt/Desktop/a4s/output/preprocess/no_expert/Celiac_Disease/GSE138297.csv'. Removed\n",
      "!Lack of gene updated in info.json\n",
      "REDUNDANT COLUMN in '/home/techt/Desktop/a4s/output/preprocess/no_expert/Celiac_Disease/GSE113469.csv'\n",
      "REDUNDANT COLUMN in '/home/techt/Desktop/a4s/output/preprocess/no_expert/Celiac_Disease/GSE23418.csv'\n",
      "REDUNDANT COLUMN in '/home/techt/Desktop/a4s/output/preprocess/no_expert/Lower_Grade_Glioma/GSE107850.csv'\n",
      "REDUNDANT COLUMN in '/home/techt/Desktop/a4s/output/preprocess/no_expert/Lower_Grade_Glioma/GSE24072.csv'\n",
      "REDUNDANT COLUMN in '/home/techt/Desktop/a4s/output/preprocess/no_expert/Lower_Grade_Glioma/GSE74567.csv'\n",
      "REDUNDANT COLUMN in '/home/techt/Desktop/a4s/output/preprocess/no_expert/Lower_Grade_Glioma/GSE28271.csv'\n",
      "REDUNDANT COLUMN in '/home/techt/Desktop/a4s/output/preprocess/no_expert/Inflammatory_Disorders/GSE236924.csv'\n",
      "REDUNDANT COLUMN in '/home/techt/Desktop/a4s/output/preprocess/no_expert/Essential_Thrombocythemia/GSE12295.csv'\n",
      "REDUNDANT COLUMN in '/home/techt/Desktop/a4s/output/preprocess/no_expert/Essential_Thrombocythemia/GSE159514.csv'\n",
      "REDUNDANT COLUMN in '/home/techt/Desktop/a4s/output/preprocess/no_expert/Essential_Thrombocythemia/GSE65161.csv'\n",
      "REDUNDANT COLUMN in '/home/techt/Desktop/a4s/output/preprocess/no_expert/Essential_Thrombocythemia/GSE55976.csv'\n",
      "REDUNDANT COLUMN in '/home/techt/Desktop/a4s/output/preprocess/no_expert/Essential_Thrombocythemia/GSE103176.csv'\n",
      "NO GENE DATA in '/home/techt/Desktop/a4s/output/preprocess/no_expert/Essential_Thrombocythemia/GSE103176.csv'. Removed\n",
      "!Lack of gene updated in info.json\n",
      "REDUNDANT COLUMN in '/home/techt/Desktop/a4s/output/preprocess/no_expert/Essential_Thrombocythemia/GSE57793.csv'\n",
      "REDUNDANT COLUMN in '/home/techt/Desktop/a4s/output/preprocess/no_expert/Essential_Thrombocythemia/GSE103238.csv'\n",
      "REDUNDANT COLUMN in '/home/techt/Desktop/a4s/output/preprocess/no_expert/Essential_Thrombocythemia/GSE61629.csv'\n",
      "REDUNDANT COLUMN in '/home/techt/Desktop/a4s/output/preprocess/no_expert/Red_Hair/GSE207744.csv'\n",
      "REDUNDANT COLUMN in '/home/techt/Desktop/a4s/output/preprocess/no_expert/Gaucher_Disease/GSE124283.csv'\n",
      "REDUNDANT COLUMN in '/home/techt/Desktop/a4s/output/preprocess/no_expert/Retinoblastoma/GSE208143.csv'\n",
      "REDUNDANT COLUMN in '/home/techt/Desktop/a4s/output/preprocess/no_expert/Retinoblastoma/GSE110811.csv'\n",
      "NO GENE DATA in '/home/techt/Desktop/a4s/output/preprocess/no_expert/Retinoblastoma/GSE110811.csv'. Removed\n",
      "!Lack of gene updated in info.json\n",
      "REDUNDANT COLUMN in '/home/techt/Desktop/a4s/output/preprocess/no_expert/Retinoblastoma/GSE63529.csv'\n",
      "REDUNDANT COLUMN in '/home/techt/Desktop/a4s/output/preprocess/no_expert/Retinoblastoma/GSE59983.csv'\n",
      "REDUNDANT COLUMN in '/home/techt/Desktop/a4s/output/preprocess/no_expert/Multiple_Chemical_Sensitivity/GSE182797.csv'\n",
      "REDUNDANT COLUMN in '/home/techt/Desktop/a4s/output/preprocess/no_expert/Multiple_Chemical_Sensitivity/GSE182798.csv'\n",
      "NO GENE DATA in '/home/techt/Desktop/a4s/output/preprocess/no_expert/Multiple_Chemical_Sensitivity/GSE182798.csv'. Removed\n",
      "!Lack of gene updated in info.json\n",
      "REDUNDANT COLUMN in '/home/techt/Desktop/a4s/output/preprocess/no_expert/Multiple_Chemical_Sensitivity/GSE182503.csv'\n",
      "REDUNDANT COLUMN in '/home/techt/Desktop/a4s/output/preprocess/no_expert/Gastroesophageal_reflux_disease_(GERD)/GSE28302.csv'\n",
      "NO GENE DATA in '/home/techt/Desktop/a4s/output/preprocess/no_expert/Gastroesophageal_reflux_disease_(GERD)/GSE28302.csv'. Removed\n",
      "!Lack of gene updated in info.json\n",
      "REDUNDANT COLUMN in '/home/techt/Desktop/a4s/output/preprocess/no_expert/Gastroesophageal_reflux_disease_(GERD)/GSE68698.csv'\n",
      "REDUNDANT COLUMN in '/home/techt/Desktop/a4s/output/preprocess/no_expert/Cognitive_Processing/GSE244817.csv'\n",
      "REDUNDANT COLUMN in '/home/techt/Desktop/a4s/output/preprocess/no_expert/Anorexia_Nervosa/GSE60190.csv'\n",
      "REDUNDANT COLUMN in '/home/techt/Desktop/a4s/output/preprocess/no_expert/Asthma/GSE185658.csv'\n",
      "NO GENE DATA in '/home/techt/Desktop/a4s/output/preprocess/no_expert/Asthma/GSE185658.csv'. Removed\n",
      "!Lack of gene updated in info.json\n",
      "REDUNDANT COLUMN in '/home/techt/Desktop/a4s/output/preprocess/no_expert/Asthma/GSE205151.csv'\n",
      "REDUNDANT COLUMN in '/home/techt/Desktop/a4s/output/preprocess/no_expert/Asthma/GSE178399.csv'\n",
      "NO GENE DATA in '/home/techt/Desktop/a4s/output/preprocess/no_expert/Asthma/GSE178399.csv'. Removed\n",
      "!Lack of gene updated in info.json\n",
      "REDUNDANT COLUMN in '/home/techt/Desktop/a4s/output/preprocess/no_expert/Bipolar_disorder/GSE120342.csv'\n",
      "REDUNDANT COLUMN in '/home/techt/Desktop/a4s/output/preprocess/no_expert/Bipolar_disorder/GSE46416.csv'\n",
      "REDUNDANT COLUMN in '/home/techt/Desktop/a4s/output/preprocess/no_expert/Bipolar_disorder/GSE120340.csv'\n",
      "REDUNDANT COLUMN in '/home/techt/Desktop/a4s/output/preprocess/no_expert/Osteoarthritis/GSE141934.csv'\n",
      "REDUNDANT COLUMN in '/home/techt/Desktop/a4s/output/preprocess/no_expert/Osteoarthritis/GSE236924.csv'\n",
      "REDUNDANT COLUMN in '/home/techt/Desktop/a4s/output/preprocess/no_expert/Autoinflammatory_Disorders/GSE80060.csv'\n",
      "REDUNDANT COLUMN in '/home/techt/Desktop/a4s/output/preprocess/no_expert/Arrhythmia/GSE41177.csv'\n",
      "REDUNDANT COLUMN in '/home/techt/Desktop/a4s/output/preprocess/no_expert/Arrhythmia/GSE115574.csv'\n",
      "REDUNDANT COLUMN in '/home/techt/Desktop/a4s/output/preprocess/no_expert/Arrhythmia/GSE97455.csv'\n",
      "NO GENE DATA in '/home/techt/Desktop/a4s/output/preprocess/no_expert/Arrhythmia/GSE97455.csv'. Removed\n",
      "!Lack of gene updated in info.json\n",
      "REDUNDANT COLUMN in '/home/techt/Desktop/a4s/output/preprocess/no_expert/Arrhythmia/GSE143924.csv'\n",
      "REDUNDANT COLUMN in '/home/techt/Desktop/a4s/output/preprocess/no_expert/Arrhythmia/GSE53622.csv'\n",
      "REDUNDANT COLUMN in '/home/techt/Desktop/a4s/output/preprocess/no_expert/Arrhythmia/GSE136992.csv'\n",
      "REDUNDANT COLUMN in '/home/techt/Desktop/a4s/output/preprocess/no_expert/Kidney_Clear_Cell_Carcinoma/GSE245862.csv'\n",
      "NO GENE DATA in '/home/techt/Desktop/a4s/output/preprocess/no_expert/Kidney_Clear_Cell_Carcinoma/GSE245862.csv'. Removed\n",
      "!Lack of gene updated in info.json\n",
      "REDUNDANT COLUMN in '/home/techt/Desktop/a4s/output/preprocess/no_expert/Osteoporosis/GSE84500.csv'\n",
      "REDUNDANT COLUMN in '/home/techt/Desktop/a4s/output/preprocess/no_expert/Osteoporosis/GSE56815.csv'\n",
      "REDUNDANT COLUMN in '/home/techt/Desktop/a4s/output/preprocess/no_expert/Rectal_Cancer/GSE139255.csv'\n",
      "REDUNDANT COLUMN in '/home/techt/Desktop/a4s/output/preprocess/no_expert/Rectal_Cancer/GSE145037.csv'\n",
      "REDUNDANT COLUMN in '/home/techt/Desktop/a4s/output/preprocess/no_expert/Rectal_Cancer/GSE40492.csv'\n",
      "REDUNDANT COLUMN in '/home/techt/Desktop/a4s/output/preprocess/no_expert/Rectal_Cancer/GSE150082.csv'\n",
      "REDUNDANT COLUMN in '/home/techt/Desktop/a4s/output/preprocess/no_expert/Large_B-cell_Lymphoma/GSE173263.csv'\n",
      "REDUNDANT COLUMN in '/home/techt/Desktop/a4s/output/preprocess/no_expert/Large_B-cell_Lymphoma/GSE156309.csv'\n",
      "REDUNDANT COLUMN in '/home/techt/Desktop/a4s/output/preprocess/no_expert/Mitochondrial_Disorders/GSE30933.csv'\n",
      "REDUNDANT COLUMN in '/home/techt/Desktop/a4s/output/preprocess/no_expert/Glucocorticoid_Sensitivity/GSE50012.csv'\n",
      "REDUNDANT COLUMN in '/home/techt/Desktop/a4s/output/preprocess/no_expert/Glucocorticoid_Sensitivity/GSE38352.csv'\n",
      "NO GENE DATA in '/home/techt/Desktop/a4s/output/preprocess/no_expert/Glucocorticoid_Sensitivity/GSE38352.csv'. Removed\n",
      "!Lack of gene updated in info.json\n",
      "REDUNDANT COLUMN in '/home/techt/Desktop/a4s/output/preprocess/no_expert/Glucocorticoid_Sensitivity/GSE42002.csv'\n",
      "REDUNDANT COLUMN in '/home/techt/Desktop/a4s/output/preprocess/no_expert/Glucocorticoid_Sensitivity/GSE32962.csv'\n",
      "REDUNDANT COLUMN in '/home/techt/Desktop/a4s/output/preprocess/no_expert/Glucocorticoid_Sensitivity/GSE58715.csv'\n",
      "REDUNDANT COLUMN in '/home/techt/Desktop/a4s/output/preprocess/no_expert/Glucocorticoid_Sensitivity/GSE66705.csv'\n",
      "REDUNDANT COLUMN in '/home/techt/Desktop/a4s/output/preprocess/no_expert/Glucocorticoid_Sensitivity/GSE57795.csv'\n",
      "REDUNDANT COLUMN in '/home/techt/Desktop/a4s/output/preprocess/no_expert/Glucocorticoid_Sensitivity/GSE33649.csv'\n",
      "REDUNDANT COLUMN in '/home/techt/Desktop/a4s/output/preprocess/no_expert/Glucocorticoid_Sensitivity/GSE5824.csv'\n",
      "REDUNDANT COLUMN in '/home/techt/Desktop/a4s/output/preprocess/no_expert/Autism_spectrum_disorder_(ASD)/GSE123302.csv'\n",
      "NO GENE DATA in '/home/techt/Desktop/a4s/output/preprocess/no_expert/Autism_spectrum_disorder_(ASD)/GSE123302.csv'. Removed\n",
      "!Lack of gene updated in info.json\n",
      "REDUNDANT COLUMN in '/home/techt/Desktop/a4s/output/preprocess/no_expert/Autism_spectrum_disorder_(ASD)/GSE113842.csv'\n",
      "NO GENE DATA in '/home/techt/Desktop/a4s/output/preprocess/no_expert/Autism_spectrum_disorder_(ASD)/GSE113842.csv'. Removed\n",
      "!Lack of gene updated in info.json\n",
      "REDUNDANT COLUMN in '/home/techt/Desktop/a4s/output/preprocess/no_expert/Autism_spectrum_disorder_(ASD)/GSE89596.csv'\n",
      "NO GENE DATA in '/home/techt/Desktop/a4s/output/preprocess/no_expert/Autism_spectrum_disorder_(ASD)/GSE89596.csv'. Removed\n",
      "!Lack of gene updated in info.json\n",
      "REDUNDANT COLUMN in '/home/techt/Desktop/a4s/output/preprocess/no_expert/Autism_spectrum_disorder_(ASD)/GSE148450.csv'\n",
      "REDUNDANT COLUMN in '/home/techt/Desktop/a4s/output/preprocess/no_expert/lower_grade_glioma_and_glioblastoma/GSE145510.csv'\n",
      "NO GENE DATA in '/home/techt/Desktop/a4s/output/preprocess/no_expert/lower_grade_glioma_and_glioblastoma/GSE145510.csv'. Removed\n",
      "!Lack of gene updated in info.json\n",
      "REDUNDANT COLUMN in '/home/techt/Desktop/a4s/output/preprocess/no_expert/Underweight/GSE57802.csv'\n",
      "REDUNDANT COLUMN in '/home/techt/Desktop/a4s/output/preprocess/no_expert/Underweight/GSE84954.csv'\n",
      "NO GENE DATA in '/home/techt/Desktop/a4s/output/preprocess/no_expert/Underweight/GSE84954.csv'. Removed\n",
      "!Lack of gene updated in info.json\n",
      "REDUNDANT COLUMN in '/home/techt/Desktop/a4s/output/preprocess/no_expert/Underweight/GSE163902.csv'\n",
      "REDUNDANT COLUMN in '/home/techt/Desktop/a4s/output/preprocess/no_expert/Alopecia/GSE66664.csv'\n",
      "REDUNDANT COLUMN in '/home/techt/Desktop/a4s/output/preprocess/no_expert/Alopecia/GSE148346.csv'\n",
      "REDUNDANT COLUMN in '/home/techt/Desktop/a4s/output/preprocess/no_expert/Kidney_Papillary_Cell_Carcinoma/GSE48352.csv'\n",
      "REDUNDANT COLUMN in '/home/techt/Desktop/a4s/output/preprocess/no_expert/Kidney_Papillary_Cell_Carcinoma/GSE19949.csv'\n",
      "REDUNDANT COLUMN in '/home/techt/Desktop/a4s/output/preprocess/no_expert/Kidney_Papillary_Cell_Carcinoma/GSE40912.csv'\n",
      "REDUNDANT COLUMN in '/home/techt/Desktop/a4s/output/preprocess/no_expert/Kidney_Papillary_Cell_Carcinoma/GSE63003.csv'\n",
      "REDUNDANT COLUMN in '/home/techt/Desktop/a4s/output/preprocess/no_expert/Kidney_Papillary_Cell_Carcinoma/GSE48568.csv'\n",
      "REDUNDANT COLUMN in '/home/techt/Desktop/a4s/output/preprocess/no_expert/Kidney_Papillary_Cell_Carcinoma/GSE42977.csv'\n",
      "REDUNDANT COLUMN in '/home/techt/Desktop/a4s/output/preprocess/no_expert/Kidney_Papillary_Cell_Carcinoma/GSE36133.csv'\n",
      "REDUNDANT COLUMN in '/home/techt/Desktop/a4s/output/preprocess/no_expert/Kidney_Papillary_Cell_Carcinoma/GSE85258.csv'\n",
      "REDUNDANT COLUMN in '/home/techt/Desktop/a4s/output/preprocess/no_expert/Kidney_Papillary_Cell_Carcinoma/GSE57162.csv'\n",
      "REDUNDANT COLUMN in '/home/techt/Desktop/a4s/output/preprocess/no_expert/Coronary_artery_disease/GSE156357.csv'\n",
      "REDUNDANT COLUMN in '/home/techt/Desktop/a4s/output/preprocess/no_expert/Coronary_artery_disease/GSE115733.csv'\n",
      "REDUNDANT COLUMN in '/home/techt/Desktop/a4s/output/preprocess/no_expert/Psoriasis/GSE182740.csv'\n",
      "REDUNDANT COLUMN in '/home/techt/Desktop/a4s/output/preprocess/no_expert/Psoriasis/GSE162998.csv'\n",
      "REDUNDANT COLUMN in '/home/techt/Desktop/a4s/output/preprocess/no_expert/Psoriasis/GSE175438.csv'\n",
      "REDUNDANT COLUMN in '/home/techt/Desktop/a4s/output/preprocess/no_expert/Psoriasis/GSE226244.csv'\n",
      "REDUNDANT COLUMN in '/home/techt/Desktop/a4s/output/preprocess/no_expert/Cystic_Fibrosis/GSE38267.csv'\n",
      "REDUNDANT COLUMN in '/home/techt/Desktop/a4s/output/preprocess/no_expert/Cystic_Fibrosis/GSE53543.csv'\n",
      "REDUNDANT COLUMN in '/home/techt/Desktop/a4s/output/preprocess/no_expert/Cystic_Fibrosis/GSE107846.csv'\n",
      "REDUNDANT COLUMN in '/home/techt/Desktop/a4s/output/preprocess/no_expert/Cystic_Fibrosis/GSE35711.csv'\n",
      "REDUNDANT COLUMN in '/home/techt/Desktop/a4s/output/preprocess/no_expert/Cystic_Fibrosis/GSE129168.csv'\n",
      "REDUNDANT COLUMN in '/home/techt/Desktop/a4s/output/preprocess/no_expert/Cystic_Fibrosis/GSE100521.csv'\n",
      "REDUNDANT COLUMN in '/home/techt/Desktop/a4s/output/preprocess/no_expert/Cystic_Fibrosis/GSE60690.csv'\n",
      "REDUNDANT COLUMN in '/home/techt/Desktop/a4s/output/preprocess/no_expert/Cystic_Fibrosis/GSE35713.csv'\n",
      "REDUNDANT COLUMN in '/home/techt/Desktop/a4s/output/preprocess/no_expert/Chronic_obstructive_pulmonary_disease_(COPD)/GSE175616.csv'\n",
      "REDUNDANT COLUMN in '/home/techt/Desktop/a4s/output/preprocess/no_expert/Chronic_obstructive_pulmonary_disease_(COPD)/GSE112165.csv'\n",
      "REDUNDANT COLUMN in '/home/techt/Desktop/a4s/output/preprocess/no_expert/Chronic_obstructive_pulmonary_disease_(COPD)/GSE212331.csv'\n",
      "REDUNDANT COLUMN in '/home/techt/Desktop/a4s/output/preprocess/no_expert/Epilepsy/GSE156374.csv'\n",
      "NO GENE DATA in '/home/techt/Desktop/a4s/output/preprocess/no_expert/Epilepsy/GSE156374.csv'. Removed\n",
      "!Lack of gene updated in info.json\n",
      "REDUNDANT COLUMN in '/home/techt/Desktop/a4s/output/preprocess/no_expert/Epilepsy/GSE205661.csv'\n",
      "NO GENE DATA in '/home/techt/Desktop/a4s/output/preprocess/no_expert/Epilepsy/GSE205661.csv'. Removed\n",
      "!Lack of gene updated in info.json\n",
      "REDUNDANT COLUMN in '/home/techt/Desktop/a4s/output/preprocess/no_expert/Ocular_Melanomas/GSE78033.csv'\n",
      "REDUNDANT COLUMN in '/home/techt/Desktop/a4s/output/preprocess/no_expert/Ocular_Melanomas/GSE60464.csv'\n",
      "REDUNDANT COLUMN in '/home/techt/Desktop/a4s/output/preprocess/no_expert/Alzheimers_Disease/GSE242923.csv'\n",
      "NO GENE DATA in '/home/techt/Desktop/a4s/output/preprocess/no_expert/Alzheimers_Disease/GSE242923.csv'. Removed\n",
      "!Lack of gene updated in info.json\n",
      "REDUNDANT COLUMN in '/home/techt/Desktop/a4s/output/preprocess/no_expert/Migraine/GSE11223.csv'\n",
      "NO GENE DATA in '/home/techt/Desktop/a4s/output/preprocess/no_expert/Migraine/GSE11223.csv'. Removed\n",
      "!Lack of gene updated in info.json\n",
      "REDUNDANT COLUMN in '/home/techt/Desktop/a4s/output/preprocess/no_expert/LDL_Cholesterol_Levels/GSE111567.csv'\n",
      "REDUNDANT COLUMN in '/home/techt/Desktop/a4s/output/preprocess/no_expert/Atrial_Fibrillation/GSE41177.csv'\n",
      "REDUNDANT COLUMN in '/home/techt/Desktop/a4s/output/preprocess/no_expert/Atrial_Fibrillation/GSE115574.csv'\n",
      "REDUNDANT COLUMN in '/home/techt/Desktop/a4s/output/preprocess/no_expert/Atrial_Fibrillation/GSE97455.csv'\n",
      "NO GENE DATA in '/home/techt/Desktop/a4s/output/preprocess/no_expert/Atrial_Fibrillation/GSE97455.csv'. Removed\n",
      "!Lack of gene updated in info.json\n",
      "REDUNDANT COLUMN in '/home/techt/Desktop/a4s/output/preprocess/no_expert/Atrial_Fibrillation/GSE143924.csv'\n",
      "REDUNDANT COLUMN in '/home/techt/Desktop/a4s/output/preprocess/no_expert/Creutzfeldt-Jakob_Disease/GSE87629.csv'\n",
      "REDUNDANT COLUMN in '/home/techt/Desktop/a4s/output/preprocess/no_expert/Creutzfeldt-Jakob_Disease/GSE62699.csv'\n",
      "Strange header Alcohol_Dependence\n",
      "REDUNDANT COLUMN in '/home/techt/Desktop/a4s/output/preprocess/no_expert/Brugada_Syndrome/GSE136992.csv'\n",
      "REDUNDANT COLUMN in '/home/techt/Desktop/a4s/output/preprocess/no_expert/Depression/GSE201332.csv'\n",
      "NO GENE DATA in '/home/techt/Desktop/a4s/output/preprocess/no_expert/Depression/GSE201332.csv'. Removed\n",
      "!Lack of gene updated in info.json\n",
      "REDUNDANT COLUMN in '/home/techt/Desktop/a4s/output/preprocess/no_expert/Depression/GSE208668.csv'\n",
      "REDUNDANT COLUMN in '/home/techt/Desktop/a4s/output/preprocess/no_expert/Colon_and_Rectal_Cancer/GSE56699.csv'\n",
      "REDUNDANT COLUMN in '/home/techt/Desktop/a4s/output/preprocess/no_expert/Colon_and_Rectal_Cancer/GSE115513.csv'\n",
      "NO GENE DATA in '/home/techt/Desktop/a4s/output/preprocess/no_expert/Colon_and_Rectal_Cancer/GSE115513.csv'. Removed\n",
      "!Lack of gene updated in info.json\n",
      "REDUNDANT COLUMN in '/home/techt/Desktop/a4s/output/preprocess/no_expert/Colon_and_Rectal_Cancer/GSE10982.csv'\n",
      "REDUNDANT COLUMN in '/home/techt/Desktop/a4s/output/preprocess/no_expert/Colon_and_Rectal_Cancer/GSE108166.csv'\n",
      "NO GENE DATA in '/home/techt/Desktop/a4s/output/preprocess/no_expert/Colon_and_Rectal_Cancer/GSE108166.csv'. Removed\n",
      "!Lack of gene updated in info.json\n",
      "REDUNDANT COLUMN in '/home/techt/Desktop/a4s/output/preprocess/no_expert/Colon_and_Rectal_Cancer/GSE15781.csv'\n",
      "REDUNDANT COLUMN in '/home/techt/Desktop/a4s/output/preprocess/no_expert/Eczema/GSE32924.csv'\n",
      "REDUNDANT COLUMN in '/home/techt/Desktop/a4s/output/preprocess/no_expert/Eczema/GSE57225.csv'\n",
      "REDUNDANT COLUMN in '/home/techt/Desktop/a4s/output/preprocess/no_expert/Eczema/GSE182740.csv'\n",
      "REDUNDANT COLUMN in '/home/techt/Desktop/a4s/output/preprocess/no_expert/Eczema/GSE11223.csv'\n",
      "NO GENE DATA in '/home/techt/Desktop/a4s/output/preprocess/no_expert/Eczema/GSE11223.csv'. Removed\n",
      "!Lack of gene updated in info.json\n",
      "REDUNDANT COLUMN in '/home/techt/Desktop/a4s/output/preprocess/no_expert/Eczema/GSE61225.csv'\n",
      "REDUNDANT COLUMN in '/home/techt/Desktop/a4s/output/preprocess/no_expert/Eczema/GSE107375.csv'\n",
      "REDUNDANT COLUMN in '/home/techt/Desktop/a4s/output/preprocess/no_expert/Lung_Cancer/GSE248830.csv'\n",
      "REDUNDANT COLUMN in '/home/techt/Desktop/a4s/output/preprocess/no_expert/Blood_Type/GSE153340.csv'\n",
      "REDUNDANT COLUMN in '/home/techt/Desktop/a4s/output/preprocess/no_expert/Blood_Type/GSE125791.csv'\n",
      "NO GENE DATA in '/home/techt/Desktop/a4s/output/preprocess/no_expert/Blood_Type/GSE125791.csv'. Removed\n",
      "!Lack of gene updated in info.json\n",
      "REDUNDANT COLUMN in '/home/techt/Desktop/a4s/output/preprocess/no_expert/Blood_Type/GSE153326.csv'\n",
      "Strange header Group\n",
      "REDUNDANT COLUMN in '/home/techt/Desktop/a4s/output/preprocess/no_expert/Blood_Type/GSE108211.csv'\n",
      "REDUNDANT COLUMN in '/home/techt/Desktop/a4s/output/preprocess/no_expert/Endometrioid_Cancer/GSE120490.csv'\n",
      "REDUNDANT COLUMN in '/home/techt/Desktop/a4s/output/preprocess/no_expert/Endometrioid_Cancer/GSE108838.csv'\n",
      "NO GENE DATA in '/home/techt/Desktop/a4s/output/preprocess/no_expert/Endometrioid_Cancer/GSE108838.csv'. Removed\n",
      "!Lack of gene updated in info.json\n",
      "REDUNDANT COLUMN in '/home/techt/Desktop/a4s/output/preprocess/no_expert/Irritable_bowel_syndrome_(IBS)/GSE25220.csv'\n",
      "REDUNDANT COLUMN in '/home/techt/Desktop/a4s/output/preprocess/no_expert/Irritable_bowel_syndrome_(IBS)/GSE36701.csv'\n",
      "REDUNDANT COLUMN in '/home/techt/Desktop/a4s/output/preprocess/no_expert/Irritable_bowel_syndrome_(IBS)/GSE20881.csv'\n",
      "REDUNDANT COLUMN in '/home/techt/Desktop/a4s/output/preprocess/no_expert/Irritable_bowel_syndrome_(IBS)/GSE66824.csv'\n",
      "REDUNDANT COLUMN in '/home/techt/Desktop/a4s/output/preprocess/no_expert/Multiple_Endocrine_Neoplasia_Type_2/GSE2841.csv'\n",
      "NO GENE DATA in '/home/techt/Desktop/a4s/output/preprocess/no_expert/Multiple_Endocrine_Neoplasia_Type_2/GSE2841.csv'. Removed\n",
      "!Lack of gene updated in info.json\n",
      "REDUNDANT COLUMN in '/home/techt/Desktop/a4s/output/preprocess/no_expert/Multiple_Endocrine_Neoplasia_Type_2/GSE19987.csv'\n",
      "REDUNDANT COLUMN in '/home/techt/Desktop/a4s/output/preprocess/no_expert/Multiple_Endocrine_Neoplasia_Type_2/GSE107375.csv'\n",
      "REDUNDANT COLUMN in '/home/techt/Desktop/a4s/output/preprocess/no_expert/Language_Abilities/GSE130787.csv'\n",
      "REDUNDANT COLUMN in '/home/techt/Desktop/a4s/output/preprocess/no_expert/Language_Abilities/GSE78278.csv'\n",
      "NO GENE DATA in '/home/techt/Desktop/a4s/output/preprocess/no_expert/Language_Abilities/GSE78278.csv'. Removed\n",
      "!Lack of gene updated in info.json\n",
      "REDUNDANT COLUMN in '/home/techt/Desktop/a4s/output/preprocess/no_expert/Pancreatic_Cancer/GSE223409.csv'\n",
      "REDUNDANT COLUMN in '/home/techt/Desktop/a4s/output/preprocess/no_expert/Pancreatic_Cancer/GSE212211.csv'\n",
      "NO GENE DATA in '/home/techt/Desktop/a4s/output/preprocess/no_expert/Pancreatic_Cancer/GSE212211.csv'. Removed\n",
      "!Lack of gene updated in info.json\n",
      "REDUNDANT COLUMN in '/home/techt/Desktop/a4s/output/preprocess/no_expert/Pancreatic_Cancer/GSE236951.csv'\n",
      "REDUNDANT COLUMN in '/home/techt/Desktop/a4s/output/preprocess/no_expert/Crohns_Disease/GSE169568.csv'\n",
      "REDUNDANT COLUMN in '/home/techt/Desktop/a4s/output/preprocess/no_expert/Crohns_Disease/GSE186582.csv'\n",
      "REDUNDANT COLUMN in '/home/techt/Desktop/a4s/output/preprocess/no_expert/Crohns_Disease/GSE207022.csv'\n",
      "REDUNDANT COLUMN in '/home/techt/Desktop/a4s/output/preprocess/no_expert/Crohns_Disease/GSE66407.csv'\n",
      "REDUNDANT COLUMN in '/home/techt/Desktop/a4s/output/preprocess/no_expert/Hemochromatosis/GSE129322.csv'\n",
      "NO GENE DATA in '/home/techt/Desktop/a4s/output/preprocess/no_expert/Hemochromatosis/GSE129322.csv'. Removed\n",
      "!Lack of gene updated in info.json\n",
      "REDUNDANT COLUMN in '/home/techt/Desktop/a4s/output/preprocess/no_expert/Ankylosing_Spondylitis/GSE25101.csv'\n",
      "REDUNDANT COLUMN in '/home/techt/Desktop/a4s/output/preprocess/no_expert/Ankylosing_Spondylitis/GSE73754.csv'\n",
      "REDUNDANT COLUMN in '/home/techt/Desktop/a4s/output/preprocess/no_expert/Ankylosing_Spondylitis/GSE11886.csv'\n",
      "REDUNDANT COLUMN in '/home/techt/Desktop/a4s/output/preprocess/no_expert/Congestive_heart_failure/GSE93101.csv'\n",
      "REDUNDANT COLUMN in '/home/techt/Desktop/a4s/output/preprocess/no_expert/Physical_Exercise_Response/GSE148152.csv'\n",
      "NO GENE DATA in '/home/techt/Desktop/a4s/output/preprocess/no_expert/Physical_Exercise_Response/GSE148152.csv'. Removed\n",
      "!Lack of gene updated in info.json\n",
      "REDUNDANT COLUMN in '/home/techt/Desktop/a4s/output/preprocess/no_expert/Physical_Exercise_Response/GSE101931.csv'\n",
      "REDUNDANT COLUMN in '/home/techt/Desktop/a4s/output/preprocess/no_expert/Physical_Exercise_Response/GSE106865.csv'\n",
      "REDUNDANT COLUMN in '/home/techt/Desktop/a4s/output/preprocess/no_expert/Physical_Exercise_Response/GSE181339.csv'\n",
      "NO GENE DATA in '/home/techt/Desktop/a4s/output/preprocess/no_expert/Physical_Exercise_Response/GSE181339.csv'. Removed\n",
      "!Lack of gene updated in info.json\n",
      "REDUNDANT COLUMN in '/home/techt/Desktop/a4s/output/preprocess/no_expert/Huntingtons_Disease/GSE154141.csv'\n",
      "NO GENE DATA in '/home/techt/Desktop/a4s/output/preprocess/no_expert/Huntingtons_Disease/GSE154141.csv'. Removed\n",
      "!Lack of gene updated in info.json\n",
      "REDUNDANT COLUMN in '/home/techt/Desktop/a4s/output/preprocess/no_expert/Huntingtons_Disease/GSE135589.csv'\n",
      "REDUNDANT COLUMN in '/home/techt/Desktop/a4s/output/preprocess/no_expert/Endometriosis/GSE51981.csv'\n",
      "REDUNDANT COLUMN in '/home/techt/Desktop/a4s/output/preprocess/no_expert/Endometriosis/GSE165004.csv'\n",
      "REDUNDANT COLUMN in '/home/techt/Desktop/a4s/output/preprocess/no_expert/Endometriosis/GSE120103.csv'\n",
      "REDUNDANT COLUMN in '/home/techt/Desktop/a4s/output/preprocess/no_expert/Heart_rate/GSE236927.csv'\n",
      "REDUNDANT COLUMN in '/home/techt/Desktop/a4s/output/preprocess/no_expert/Heart_rate/GSE117070.csv'\n",
      "REDUNDANT COLUMN in '/home/techt/Desktop/a4s/output/preprocess/no_expert/Heart_rate/GSE35661.csv'\n",
      "NO GENE DATA in '/home/techt/Desktop/a4s/output/preprocess/no_expert/Heart_rate/GSE35661.csv'. Removed\n",
      "!Lack of gene updated in info.json\n",
      "REDUNDANT COLUMN in '/home/techt/Desktop/a4s/output/preprocess/no_expert/Polycystic_Ovary_Syndrome/GSE87435.csv'\n",
      "REDUNDANT COLUMN in '/home/techt/Desktop/a4s/output/preprocess/no_expert/Height/GSE181339.csv'\n",
      "REDUNDANT COLUMN in '/home/techt/Desktop/a4s/output/preprocess/no_expert/Allergies/GSE162926.csv'\n",
      "NO GENE DATA in '/home/techt/Desktop/a4s/output/preprocess/no_expert/Allergies/GSE162926.csv'. Removed\n",
      "!Lack of gene updated in info.json\n",
      "REDUNDANT COLUMN in '/home/techt/Desktop/a4s/output/preprocess/no_expert/Allergies/GSE192454.csv'\n",
      "REDUNDANT COLUMN in '/home/techt/Desktop/a4s/output/preprocess/no_expert/Esophageal_Cancer/GSE113486.csv'\n",
      "NO GENE DATA in '/home/techt/Desktop/a4s/output/preprocess/no_expert/Esophageal_Cancer/GSE113486.csv'. Removed\n",
      "!Lack of gene updated in info.json\n",
      "REDUNDANT COLUMN in '/home/techt/Desktop/a4s/output/preprocess/no_expert/Esophageal_Cancer/GSE104958.csv'\n",
      "REDUNDANT COLUMN in '/home/techt/Desktop/a4s/output/preprocess/no_expert/Esophageal_Cancer/GSE156915.csv'\n",
      "REDUNDANT COLUMN in '/home/techt/Desktop/a4s/output/preprocess/no_expert/Esophageal_Cancer/GSE122497.csv'\n",
      "NO GENE DATA in '/home/techt/Desktop/a4s/output/preprocess/no_expert/Esophageal_Cancer/GSE122497.csv'. Removed\n",
      "!Lack of gene updated in info.json\n",
      "REDUNDANT COLUMN in '/home/techt/Desktop/a4s/output/preprocess/no_expert/Type_1_Diabetes_Risk/GSE51058.csv'\n",
      "REDUNDANT COLUMN in '/home/techt/Desktop/a4s/output/preprocess/no_expert/Hypertrophic_Cardiomyopathy/GSE36946.csv'\n",
      "NO GENE DATA in '/home/techt/Desktop/a4s/output/preprocess/no_expert/Hypertrophic_Cardiomyopathy/GSE36946.csv'. Removed\n",
      "!Lack of gene updated in info.json\n",
      "REDUNDANT COLUMN in '/home/techt/Desktop/a4s/output/preprocess/no_expert/Hypertrophic_Cardiomyopathy/GSE9800.csv'\n",
      "REDUNDANT COLUMN in '/home/techt/Desktop/a4s/output/preprocess/no_expert/Hypertrophic_Cardiomyopathy/GSE36961.csv'\n",
      "REDUNDANT COLUMN in '/home/techt/Desktop/a4s/output/preprocess/no_expert/Multiple_sclerosis/GSE171950.csv'\n",
      "NO GENE DATA in '/home/techt/Desktop/a4s/output/preprocess/no_expert/Multiple_sclerosis/GSE171950.csv'. Removed\n",
      "!Lack of gene updated in info.json\n",
      "REDUNDANT COLUMN in '/home/techt/Desktop/a4s/output/preprocess/no_expert/Adrenocortical_Cancer/GSE90713.csv'\n",
      "REDUNDANT COLUMN in '/home/techt/Desktop/a4s/output/preprocess/no_expert/Adrenocortical_Cancer/GSE33371.csv'\n",
      "REDUNDANT COLUMN in '/home/techt/Desktop/a4s/output/preprocess/no_expert/Adrenocortical_Cancer/GSE19856.csv'\n",
      "NO GENE DATA in '/home/techt/Desktop/a4s/output/preprocess/no_expert/Adrenocortical_Cancer/GSE19856.csv'. Removed\n",
      "!Lack of gene updated in info.json\n",
      "REDUNDANT COLUMN in '/home/techt/Desktop/a4s/output/preprocess/no_expert/Insomnia/GSE208668.csv'\n",
      "REDUNDANT COLUMN in '/home/techt/Desktop/a4s/output/preprocess/no_expert/Kidney_Chromophobe/GSE26574.csv'\n",
      "REDUNDANT COLUMN in '/home/techt/Desktop/a4s/output/preprocess/no_expert/Kidney_Chromophobe/GSE8271.csv'\n",
      "NO GENE DATA in '/home/techt/Desktop/a4s/output/preprocess/no_expert/Kidney_Chromophobe/GSE8271.csv'. Removed\n",
      "!Lack of gene updated in info.json\n",
      "REDUNDANT COLUMN in '/home/techt/Desktop/a4s/output/preprocess/no_expert/Kidney_Chromophobe/GSE19982.csv'\n",
      "REDUNDANT COLUMN in '/home/techt/Desktop/a4s/output/preprocess/no_expert/Kidney_Chromophobe/GSE11151.csv'\n",
      "REDUNDANT COLUMN in '/home/techt/Desktop/a4s/output/preprocess/no_expert/Kidney_Chromophobe/GSE6280.csv'\n",
      "REDUNDANT COLUMN in '/home/techt/Desktop/a4s/output/preprocess/no_expert/Kidney_Chromophobe/GSE68606.csv'\n",
      "REDUNDANT COLUMN in '/home/techt/Desktop/a4s/output/preprocess/no_expert/Kidney_Chromophobe/GSE57162.csv'\n",
      "REDUNDANT COLUMN in '/home/techt/Desktop/a4s/output/preprocess/no_expert/Chronic_kidney_disease/GSE47183.csv'\n",
      "REDUNDANT COLUMN in '/home/techt/Desktop/a4s/output/preprocess/no_expert/Chronic_kidney_disease/GSE224705.csv'\n",
      "REDUNDANT COLUMN in '/home/techt/Desktop/a4s/output/preprocess/no_expert/Chronic_kidney_disease/GSE60861.csv'\n",
      "REDUNDANT COLUMN in '/home/techt/Desktop/a4s/output/preprocess/no_expert/Chronic_kidney_disease/GSE45980.csv'\n",
      "REDUNDANT COLUMN in '/home/techt/Desktop/a4s/output/preprocess/no_expert/Chronic_kidney_disease/GSE142153.csv'\n",
      "REDUNDANT COLUMN in '/home/techt/Desktop/a4s/output/preprocess/no_expert/Chronic_kidney_disease/GSE37171.csv'\n",
      "REDUNDANT COLUMN in '/home/techt/Desktop/a4s/output/preprocess/no_expert/Intellectual_Disability/GSE192767.csv'\n"
     ]
    }
   ],
   "source": [
    "\n",
    "for trait in os.listdir(dest_root):\n",
    "    if trait not in all_nm_traits:\n",
    "        if trait in all_org_nm_traits:\n",
    "            n_trait = all_nm_traits[all_org_nm_traits.index(trait)]\n",
    "            os.rename(os.path.join(dest_root, trait), os.path.join(dest_root, n_trait))\n",
    "            print(f\"'{trait}' trait has been newly normalized to {n_trait} in the dir name\")\n",
    "            trait = n_trait\n",
    "        else:\n",
    "            print(f\"!Strange trait'{trait}' \")\n",
    "            continue\n",
    "    trait_dir = os.path.join(dest_root, trait)\n",
    "    if not os.path.isdir(trait_dir):\n",
    "        continue\n",
    "    js_path = os.path.join(trait_dir, \"cohort_info.json\")\n",
    "    for fn in os.listdir(trait_dir):\n",
    "        fp = os.path.join(trait_dir, fn)\n",
    "        if fn.endswith(\".csv\") and (fn.startswith(\"GSE\") or fn.startswith(\"Xena\")):\n",
    "            cohort = fn[:-4]\n",
    "            df = pd.read_csv(fp)\n",
    "            if 'Unnamed: 0' in df.columns:\n",
    "                print(f\"REDUNDANT COLUMN in '{fp}'\")\n",
    "                df = df.drop(columns = ['Unnamed: 0'], errors=\"ignore\")\n",
    "                df.to_csv(fp, index=False)\n",
    "            header = df.columns[0]\n",
    "            if header not in all_nm_traits:\n",
    "                if header in all_traits:\n",
    "                    nm_trait = all_nm_traits[all_traits.index(header)]\n",
    "                    print(f\"The header {header} should be replaced by {nm_trait} in '{fn}'\")\n",
    "                    df.columns = [nm_trait] + df.columns[1:].tolist()\n",
    "                    df.to_csv(fp, index=False)\n",
    "                    print('This cohort updated')\n",
    "                else:\n",
    "                    print(f\"Strange header {header}\")\n",
    "\n",
    "            if len(df.columns) <= 4:\n",
    "                print(f\"NO GENE DATA in '{fp}'. Removed\")\n",
    "                os.remove(fp)\n",
    "                if os.path.isfile(js_path):\n",
    "                    with open(js_path, 'r') as file:\n",
    "                        info = json.load(file)\n",
    "                    try:\n",
    "                        save_cohort_info(cohort, js_path, False, info[cohort]['is_trait_available'], info[cohort]['is_biased'])\n",
    "                        print(\"!Lack of gene updated in info.json\")\n",
    "                    except KeyError as e:\n",
    "                        print(e)\n",
    "                        continue"
   ]
  },
  {
   "cell_type": "code",
   "execution_count": 16,
   "metadata": {
    "ExecuteTime": {
     "end_time": "2024-06-05T08:44:28.061057510Z",
     "start_time": "2024-06-05T08:42:37.938438367Z"
    },
    "collapsed": false
   },
   "outputs": [
    {
     "name": "stdout",
     "output_type": "stream",
     "text": [
      "!Strange trait'last_cohort_info.json' \n",
      "Strange header Alcohol_Dependence\n",
      "Strange header Group\n"
     ]
    }
   ],
   "source": [
    "for trait in os.listdir(dest_root):\n",
    "    if trait not in all_nm_traits:\n",
    "        if trait in all_org_nm_traits:\n",
    "            n_trait = all_nm_traits[all_org_nm_traits.index(trait)]\n",
    "            os.rename(os.path.join(dest_root, trait), os.path.join(dest_root, n_trait))\n",
    "            print(f\"'{trait}' trait has been newly normalized to {n_trait} in the dir name\")\n",
    "            trait = n_trait\n",
    "        else:\n",
    "            print(f\"!Strange trait'{trait}' \")\n",
    "            continue\n",
    "    trait_dir = os.path.join(dest_root, trait)\n",
    "    if not os.path.isdir(trait_dir):\n",
    "        continue\n",
    "    js_path = os.path.join(trait_dir, \"cohort_info.json\")\n",
    "    for fn in os.listdir(trait_dir):\n",
    "        fp = os.path.join(trait_dir, fn)\n",
    "        if fn.endswith(\".csv\") and (fn.startswith(\"GSE\") or fn.startswith(\"Xena\")):\n",
    "            cohort = fn[:-4]\n",
    "            df = pd.read_csv(fp)\n",
    "            if 'Unnamed: 0' in df.columns:\n",
    "                print(f\"REDUNDANT COLUMN in '{fp}'\")\n",
    "                df = df.drop(columns = ['Unnamed: 0'], errors=\"ignore\")\n",
    "                df.to_csv(fp, index=False)\n",
    "            header = df.columns[0]\n",
    "            if header not in all_nm_traits:\n",
    "                if header in all_traits:\n",
    "                    nm_trait = all_nm_traits[all_traits.index(header)]\n",
    "                    print(f\"The header {header} should be replaced by {nm_trait} in '{fn}'\")\n",
    "                    df.columns = [nm_trait] + df.columns[1:].tolist()\n",
    "                    df.to_csv(fp, index=False)\n",
    "                    print('This cohort updated')\n",
    "                else:\n",
    "                    print(f\"Strange header {header}\")\n",
    "\n",
    "            if len(df.columns) <= 4:\n",
    "                print(f\"NO GENE DATA in '{fp}'. Removed\")\n",
    "                os.remove(fp)\n",
    "                if os.path.isfile(js_path):\n",
    "                    with open(js_path, 'r') as file:\n",
    "                        info = json.load(file)\n",
    "                    try:\n",
    "                        save_cohort_info(cohort, js_path, False, info[cohort]['is_trait_available'], info[cohort]['is_biased'])\n",
    "                        print(\"!Lack of gene updated in info.json\")\n",
    "                    except KeyError as e:\n",
    "                        print(e)\n",
    "                        continue"
   ]
  },
  {
   "cell_type": "markdown",
   "metadata": {
    "collapsed": false
   },
   "source": [
    "### Update json"
   ]
  },
  {
   "cell_type": "code",
   "execution_count": 17,
   "metadata": {
    "ExecuteTime": {
     "end_time": "2024-06-05T08:44:36.959676677Z",
     "start_time": "2024-06-05T08:44:28.108692993Z"
    },
    "collapsed": false
   },
   "outputs": [
    {
     "name": "stdout",
     "output_type": "stream",
     "text": [
      "For the feature 'Thyroid_Cancer', the least common label is '0' with 59 occurrences. This represents 10.31% of the dataset.\n",
      "The distribution of the feature 'Thyroid_Cancer' in this dataset is fine.\n",
      "\n",
      "Quartiles for 'Age':\n",
      "  25%: 34.0\n",
      "  50% (Median): 46.0\n",
      "  75%: 58.0\n",
      "Min: 15\n",
      "Max: 89\n",
      "The distribution of the feature 'Age' in this dataset is fine.\n",
      "\n",
      "For the feature 'Gender', the least common label is '1' with 157 occurrences. This represents 27.45% of the dataset.\n",
      "The distribution of the feature 'Gender' in this dataset is fine.\n",
      "\n",
      "Trait Thyroid_Cancer info json updated with cohort Xena, biased:False\n",
      "Strange! /home/techt/Desktop/a4s/output/preprocess/no_expert/DNA_Repair_Capacity/cohort_info.json not exist.\n",
      "Strange! /home/techt/Desktop/a4s/output/preprocess/no_expert/Rheumatoid_Arthritis/cohort_info.json not exist.\n",
      "For the feature 'Breast_Cancer', the least common label is '0' with 113 occurrences. This represents 9.30% of the dataset.\n",
      "The distribution of the feature 'Breast_Cancer' in this dataset is fine.\n",
      "\n",
      "Quartiles for 'Age':\n",
      "  25%: 48.0\n",
      "  50% (Median): 58.0\n",
      "  75%: 67.0\n",
      "Min: 26.0\n",
      "Max: 90.0\n",
      "The distribution of the feature 'Age' in this dataset is fine.\n",
      "\n",
      "For the feature 'Gender', the least common label is '1.0' with 13 occurrences. This represents 1.07% of the dataset.\n",
      "The distribution of the feature 'Gender' in this dataset is fine.\n",
      "\n",
      "Trait Breast_Cancer info json updated with cohort Xena, biased:False\n",
      "Strange! /home/techt/Desktop/a4s/output/preprocess/no_expert/Stomach_Cancer/cohort_info.json not exist.\n",
      "Strange! /home/techt/Desktop/a4s/output/preprocess/no_expert/Generalized_Anxiety_Disorder/cohort_info.json not exist.\n",
      "Strange! /home/techt/Desktop/a4s/output/preprocess/no_expert/Spinal_Muscular_Atrophy/cohort_info.json not exist.\n",
      "Strange! /home/techt/Desktop/a4s/output/preprocess/no_expert/Peptic_ulcer_disease/cohort_info.json not exist.\n",
      "Strange! /home/techt/Desktop/a4s/output/preprocess/no_expert/Li-Fraumeni_Syndrome/cohort_info.json not exist.\n",
      "Strange! /home/techt/Desktop/a4s/output/preprocess/no_expert/Androgen_Insensitivity_Syndrome/cohort_info.json not exist.\n",
      "Strange! /home/techt/Desktop/a4s/output/preprocess/no_expert/Substance_Use_Disorder/cohort_info.json not exist.\n",
      "Strange! /home/techt/Desktop/a4s/output/preprocess/no_expert/Vitamin_D_Levels/cohort_info.json not exist.\n",
      "Strange! /home/techt/Desktop/a4s/output/preprocess/no_expert/Von_Hippel_Lindau/cohort_info.json not exist.\n",
      "Strange! /home/techt/Desktop/a4s/output/preprocess/no_expert/DiGeorge_Syndrome/cohort_info.json not exist.\n",
      "Strange! /home/techt/Desktop/a4s/output/preprocess/no_expert/Testicular_Cancer/cohort_info.json not exist.\n",
      "Strange! /home/techt/Desktop/a4s/output/preprocess/no_expert/Lactose_Intolerance/cohort_info.json not exist.\n",
      "Strange! /home/techt/Desktop/a4s/output/preprocess/no_expert/Craniosynostosis/cohort_info.json not exist.\n",
      "Strange! /home/techt/Desktop/a4s/output/preprocess/no_expert/Thymoma/cohort_info.json not exist.\n",
      "Strange! /home/techt/Desktop/a4s/output/preprocess/no_expert/von_Willebrand_Disease/cohort_info.json not exist.\n",
      "Strange! /home/techt/Desktop/a4s/output/preprocess/no_expert/Polycystic_Kidney_Disease/cohort_info.json not exist.\n",
      "Strange! /home/techt/Desktop/a4s/output/preprocess/no_expert/Ovarian_Cancer/cohort_info.json not exist.\n",
      "Strange! /home/techt/Desktop/a4s/output/preprocess/no_expert/Congenital_Adrenal_Hyperplasia/cohort_info.json not exist.\n",
      "Strange! /home/techt/Desktop/a4s/output/preprocess/no_expert/Pagets_Disease_of_bone/cohort_info.json not exist.\n",
      "Strange! /home/techt/Desktop/a4s/output/preprocess/no_expert/Parkinsons_Disease/cohort_info.json not exist.\n",
      "Strange! /home/techt/Desktop/a4s/output/preprocess/no_expert/Fibromyalgia/cohort_info.json not exist.\n",
      "Strange! /home/techt/Desktop/a4s/output/preprocess/no_expert/Attention_deficit_hyperactivity_disorder_(ADHD)/cohort_info.json not exist.\n",
      "Strange! /home/techt/Desktop/a4s/output/preprocess/no_expert/Charcot-Marie-Tooth_Disease/cohort_info.json not exist.\n",
      "Strange! /home/techt/Desktop/a4s/output/preprocess/no_expert/Werner_Syndrome/cohort_info.json not exist.\n",
      "Strange! /home/techt/Desktop/a4s/output/preprocess/no_expert/Pain_Sensitivity/cohort_info.json not exist.\n"
     ]
    }
   ],
   "source": [
    "for trait in os.listdir(dest_root):\n",
    "    trait_dir = os.path.join(dest_root, trait)\n",
    "    if not os.path.isdir(trait_dir):\n",
    "        continue\n",
    "    js_path = os.path.join(trait_dir, \"cohort_info.json\")\n",
    "    if not os.path.isfile(js_path):\n",
    "        print(f\"Strange! {js_path} not exist.\")\n",
    "        continue\n",
    "    for fn in os.listdir(trait_dir):\n",
    "        fp = os.path.join(trait_dir, fn)\n",
    "        if fn.endswith(\".csv\") and (fn.startswith(\"Xena\")):\n",
    "            cohort = \"Xena\"\n",
    "            df = pd.read_csv(fp)\n",
    "            header = df.columns[0]\n",
    "            if header not in all_nm_traits:\n",
    "                print(f'strange header {header}')\n",
    "                continue\n",
    "            trait_biased, _ = judge_and_remove_biased_features(df, header)\n",
    "            save_cohort_info(cohort, js_path, True, True, trait_biased, df)\n",
    "            print(f\"Trait {trait} info json updated with cohort {cohort}, biased:{trait_biased}\")\n"
   ]
  },
  {
   "cell_type": "code",
   "execution_count": 17,
   "metadata": {
    "ExecuteTime": {
     "end_time": "2024-06-05T08:44:36.961394735Z",
     "start_time": "2024-06-05T08:44:36.959245088Z"
    },
    "collapsed": false
   },
   "outputs": [],
   "source": []
  },
  {
   "cell_type": "code",
   "execution_count": 18,
   "metadata": {
    "ExecuteTime": {
     "end_time": "2024-06-05T09:02:09.001963528Z",
     "start_time": "2024-06-05T09:02:08.943643625Z"
    },
    "collapsed": false
   },
   "outputs": [
    {
     "ename": "SyntaxError",
     "evalue": "invalid syntax (793577071.py, line 1)",
     "output_type": "error",
     "traceback": [
      "\u001b[0;36m  Cell \u001b[0;32mIn[18], line 1\u001b[0;36m\u001b[0m\n\u001b[0;31m    nohup python regress.py --version\u001b[0m\n\u001b[0m          ^\u001b[0m\n\u001b[0;31mSyntaxError\u001b[0m\u001b[0;31m:\u001b[0m invalid syntax\n"
     ]
    }
   ],
   "source": [
    "rm -rf regress\n",
    "\n",
    "nohup python regress.py --version gs2 >> gs2.log 2>&1 &\n",
    "nohup python regress.py --version gs1 >> gs1.log 2>&1 &\n",
    "nohup python regress.py --version ours >> ours.log 2>&1 &\n",
    "nohup python regress.py --version no_expert >> ne.log 2>&1 &\n",
    "nohup python regress.py --version round0 >> r0.log 2>&1 &"
   ]
  },
  {
   "cell_type": "code",
   "execution_count": null,
   "metadata": {
    "collapsed": false
   },
   "outputs": [],
   "source": []
  },
  {
   "cell_type": "code",
   "execution_count": 19,
   "metadata": {
    "ExecuteTime": {
     "end_time": "2024-06-05T09:45:50.609049023Z",
     "start_time": "2024-06-05T09:45:50.564219045Z"
    },
    "collapsed": false
   },
   "outputs": [
    {
     "name": "stderr",
     "output_type": "stream",
     "text": [
      "usage: ipykernel_launcher.py [-h] [--version VERSION]\n",
      "ipykernel_launcher.py: error: unrecognized arguments: -f /home/techt/.local/share/jupyter/runtime/kernel-054d2d0e-1461-4f85-88a1-f2940b909d62.json\n"
     ]
    },
    {
     "ename": "SystemExit",
     "evalue": "2",
     "output_type": "error",
     "traceback": [
      "An exception has occurred, use %tb to see the full traceback.\n",
      "\u001b[0;31mSystemExit\u001b[0m\u001b[0;31m:\u001b[0m 2\n"
     ]
    },
    {
     "name": "stderr",
     "output_type": "stream",
     "text": [
      "/home/techt/anaconda3/envs/hl/lib/python3.8/site-packages/IPython/core/interactiveshell.py:3516: UserWarning: To exit: use 'exit', 'quit', or Ctrl-D.\n",
      "  warn(\"To exit: use 'exit', 'quit', or Ctrl-D.\", stacklevel=1)\n"
     ]
    }
   ],
   "source": [
    "import pandas as pd\n",
    "import os\n",
    "import json\n",
    "import ast\n",
    "import argparse\n",
    "from utils.statistics import *\n",
    "\n",
    "parser = argparse.ArgumentParser(description='Process some integers.')\n",
    "parser.add_argument('--version', type=str, help='Specify the version.')\n",
    "\n",
    "args = parser.parse_args()\n",
    "\n",
    "pairs = pd.read_csv(\"refined_pairs.csv\")\n"
   ]
  },
  {
   "cell_type": "code",
   "execution_count": null,
   "metadata": {
    "collapsed": false
   },
   "outputs": [],
   "source": []
  },
  {
   "cell_type": "code",
   "execution_count": null,
   "metadata": {
    "collapsed": false
   },
   "outputs": [],
   "source": []
  },
  {
   "cell_type": "code",
   "execution_count": null,
   "metadata": {
    "collapsed": false
   },
   "outputs": [],
   "source": []
  },
  {
   "cell_type": "code",
   "execution_count": null,
   "metadata": {
    "collapsed": false
   },
   "outputs": [],
   "source": []
  },
  {
   "cell_type": "code",
   "execution_count": null,
   "metadata": {
    "collapsed": false
   },
   "outputs": [],
   "source": [
    "avail = []\n",
    "for trait in all_nm_traits:\n",
    "    trait_dir = os.path.join(dest_root, trait)\n",
    "    if not os.path.isdir(trait_dir):\n",
    "        continue\n",
    "    for c in os.listdir(trait_dir):\n",
    "        if c.endswith(\".csv\") and (c.startswith(\"GSE\") or c.startswith(\"Xena\")):\n",
    "            avail.append(trait)\n",
    "            break\n",
    "\n",
    "d = pd.read_csv(\"trait_related_genes.csv\")[\"Trait\"].tolist()\n",
    "missing = [a for a in avail if a not in d]\n"
   ]
  },
  {
   "cell_type": "code",
   "execution_count": null,
   "metadata": {
    "collapsed": false
   },
   "outputs": [],
   "source": [
    "traits = [all_traits[all_nm_traits.index(t)] for t in missing]"
   ]
  },
  {
   "cell_type": "code",
   "execution_count": null,
   "metadata": {
    "collapsed": false
   },
   "outputs": [],
   "source": [
    "traits"
   ]
  },
  {
   "cell_type": "code",
   "execution_count": null,
   "metadata": {
    "collapsed": false
   },
   "outputs": [],
   "source": [
    "for i, t in enumerate(traits):\n",
    "    print(i+1, t)"
   ]
  },
  {
   "cell_type": "code",
   "execution_count": null,
   "metadata": {
    "collapsed": false
   },
   "outputs": [],
   "source": [
    "traits"
   ]
  },
  {
   "cell_type": "code",
   "execution_count": null,
   "metadata": {
    "collapsed": false
   },
   "outputs": [],
   "source": [
    "missing"
   ]
  },
  {
   "cell_type": "code",
   "execution_count": null,
   "metadata": {
    "collapsed": false
   },
   "outputs": [],
   "source": [
    "len(traits), len(missing)"
   ]
  },
  {
   "cell_type": "code",
   "execution_count": null,
   "metadata": {
    "collapsed": false
   },
   "outputs": [],
   "source": []
  },
  {
   "cell_type": "code",
   "execution_count": null,
   "metadata": {
    "collapsed": false
   },
   "outputs": [],
   "source": [
    "from ast import literal_eval\n",
    "df = pd.read_csv(\"trait_related_genes.csv\")\n",
    "df['Related_Genes'] = df['Related_Genes'].apply(literal_eval)\n",
    "tr_genes = df.to_dict(orient='records')"
   ]
  },
  {
   "cell_type": "code",
   "execution_count": null,
   "metadata": {
    "collapsed": false
   },
   "outputs": [],
   "source": [
    "data_dir = './downloaded_ncbi_genes'\n",
    "file_names = os.listdir(data_dir)\n",
    "\n",
    "def extract_number(file_name):\n",
    "    start = file_name.find('(') + 1  # find the index of the opening parenthesis\n",
    "    end = file_name.find(')')        # find the index of the closing parenthesis\n",
    "    return int(file_name[start:end]) if start > 0 and end > 0 else 0\n",
    "\n",
    "# Sort the file names using the extracted number as the key\n",
    "sorted_file_names = sorted(file_names, key=extract_number)\n",
    "\n",
    "for trait, file in zip(missing, sorted_file_names):\n",
    "    file_path = os.path.join(data_dir, file)\n",
    "    try:\n",
    "        df = pd.read_csv(file_path, sep='\\t', header=0)  # header=0 indicates the first line contains column headers\n",
    "\n",
    "        gene_symbols = df['Symbol'].tolist()\n",
    "        gene_symbols = normalize_gene_symbols(gene_symbols)\n",
    "\n",
    "        unique_symbols = []\n",
    "        for item in gene_symbols:\n",
    "            if item not in unique_symbols:\n",
    "                unique_symbols.append(item)\n",
    "\n",
    "        tr_genes.append({'Trait': trait, 'Related_Genes': unique_symbols})\n",
    "        print(trait, len(unique_symbols))\n",
    "    except:\n",
    "        print(f\"Exception in file{file}\")\n",
    "\n",
    "gene_df = pd.DataFrame(tr_genes)"
   ]
  },
  {
   "cell_type": "code",
   "execution_count": null,
   "metadata": {
    "collapsed": false
   },
   "outputs": [],
   "source": []
  },
  {
   "cell_type": "code",
   "execution_count": null,
   "metadata": {
    "collapsed": false
   },
   "outputs": [],
   "source": [
    "gene_df.to_csv(\"Trait_related_genes_new.csv\", index=False)"
   ]
  },
  {
   "cell_type": "code",
   "execution_count": null,
   "metadata": {
    "collapsed": false
   },
   "outputs": [],
   "source": []
  },
  {
   "cell_type": "code",
   "execution_count": null,
   "metadata": {
    "collapsed": false
   },
   "outputs": [],
   "source": []
  },
  {
   "cell_type": "code",
   "execution_count": null,
   "metadata": {
    "collapsed": false
   },
   "outputs": [],
   "source": [
    "avail = []\n",
    "for trait in all_nm_traits:\n",
    "    trait_dir = os.path.join(dest_root, trait)\n",
    "    if not os.path.isdir(trait_dir):\n",
    "        continue\n",
    "    for c in os.listdir(trait_dir):\n",
    "        if c.endswith(\".csv\") and (c.startswith(\"GSE\") or c.startswith(\"Xena\")):\n",
    "            avail.append(trait)\n",
    "            break"
   ]
  },
  {
   "cell_type": "code",
   "execution_count": null,
   "metadata": {
    "collapsed": false
   },
   "outputs": [],
   "source": [
    "len(avail)"
   ]
  },
  {
   "cell_type": "code",
   "execution_count": null,
   "metadata": {
    "collapsed": false
   },
   "outputs": [],
   "source": []
  },
  {
   "cell_type": "code",
   "execution_count": null,
   "metadata": {
    "collapsed": false
   },
   "outputs": [],
   "source": [
    "al = []\n",
    "for t in avail:\n",
    "    al.append({\"Trait\": t})"
   ]
  },
  {
   "cell_type": "code",
   "execution_count": null,
   "metadata": {
    "collapsed": false
   },
   "outputs": [],
   "source": [
    "al"
   ]
  },
  {
   "cell_type": "code",
   "execution_count": null,
   "metadata": {
    "collapsed": false
   },
   "outputs": [],
   "source": [
    "len(al)"
   ]
  },
  {
   "cell_type": "code",
   "execution_count": null,
   "metadata": {
    "collapsed": false
   },
   "outputs": [],
   "source": [
    "latest_task = pd.DataFrame(al)"
   ]
  },
  {
   "cell_type": "code",
   "execution_count": null,
   "metadata": {
    "collapsed": false
   },
   "outputs": [],
   "source": [
    "latest_task.to_csv(\"latest_task.csv\", index = False)"
   ]
  },
  {
   "cell_type": "code",
   "execution_count": null,
   "metadata": {
    "collapsed": false
   },
   "outputs": [],
   "source": []
  },
  {
   "cell_type": "code",
   "execution_count": null,
   "metadata": {
    "collapsed": false
   },
   "outputs": [
    {
     "name": "stdout",
     "output_type": "stream",
     "text": [
      "[0, 1, 2, 3, 4, 5, 6, 7, 8]\n",
      "[9]\n"
     ]
    }
   ],
   "source": [
    "batch_size = 9\n",
    "gene_symbols = list(range(10))\n",
    "for i in range(0, len(gene_symbols), batch_size):\n",
    "    batch = gene_symbols[i:i + batch_size]\n",
    "    print(batch)"
   ]
  },
  {
   "cell_type": "code",
   "execution_count": null,
   "metadata": {},
   "outputs": [],
   "source": []
  }
 ],
 "metadata": {
  "kernelspec": {
   "display_name": "agent",
   "language": "python",
   "name": "python3"
  },
  "language_info": {
   "codemirror_mode": {
    "name": "ipython",
    "version": 3
   },
   "file_extension": ".py",
   "mimetype": "text/x-python",
   "name": "python",
   "nbconvert_exporter": "python",
   "pygments_lexer": "ipython3",
   "version": "3.10.16"
  }
 },
 "nbformat": 4,
 "nbformat_minor": 0
}
